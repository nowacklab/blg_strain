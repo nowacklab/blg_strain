{
 "cells": [
  {
   "cell_type": "code",
   "execution_count": 33,
   "metadata": {},
   "outputs": [],
   "source": [
    "import numpy as np\n",
    "import matplotlib.pyplot as plt\n",
    "from scipy.interpolate import RectBivariateSpline\n",
    "\n",
    "from blg_strain.bands import get_bands\n",
    "from blg_strain.berry import berry_mu, berry_connection, berry_from_connection\n",
    "from blg_strain.utils.utils import get_splines\n",
    "from blg_strain.utils.utils import densify\n",
    "from blg_strain.microscopic import feq_func\n",
    "from blg_strain.macroscopic import D_valley, ntot_func, D_func, n_valley, M_valley"
   ]
  },
  {
   "cell_type": "code",
   "execution_count": 34,
   "metadata": {},
   "outputs": [],
   "source": [
    "%matplotlib notebook"
   ]
  },
  {
   "cell_type": "code",
   "execution_count": 35,
   "metadata": {},
   "outputs": [],
   "source": [
    "delta = 0.01\n",
    "Delta = 0.01\n",
    "\n",
    "kx, ky, Kx, Ky, E, Psi = get_bands(Nkx=200, Nky=200, Delta=Delta, delta=delta, twobytwo=True)\n",
    "Omega, Mu = berry_mu(Kx, Ky, E, Psi)\n",
    "splE, splO, splM = get_splines(kx, ky, E, Omega, Mu)\n",
    "kx2, ky2, E2, Omega2, Mu2 = densify(kx, ky, splE, splO, splM)"
   ]
  },
  {
   "cell_type": "code",
   "execution_count": 36,
   "metadata": {},
   "outputs": [],
   "source": [
    "EF = 0.015\n",
    "T = 0\n",
    "\n",
    "f = feq_func(E2, EF, T)\n",
    "M = M_valley(kx2, ky2, f, splE, splO, splM, Efield=[1,0], tau=.1, EF=EF)"
   ]
  },
  {
   "cell_type": "code",
   "execution_count": 37,
   "metadata": {},
   "outputs": [
    {
     "data": {
      "application/javascript": [
       "/* Put everything inside the global mpl namespace */\n",
       "window.mpl = {};\n",
       "\n",
       "\n",
       "mpl.get_websocket_type = function() {\n",
       "    if (typeof(WebSocket) !== 'undefined') {\n",
       "        return WebSocket;\n",
       "    } else if (typeof(MozWebSocket) !== 'undefined') {\n",
       "        return MozWebSocket;\n",
       "    } else {\n",
       "        alert('Your browser does not have WebSocket support. ' +\n",
       "              'Please try Chrome, Safari or Firefox ≥ 6. ' +\n",
       "              'Firefox 4 and 5 are also supported but you ' +\n",
       "              'have to enable WebSockets in about:config.');\n",
       "    };\n",
       "}\n",
       "\n",
       "mpl.figure = function(figure_id, websocket, ondownload, parent_element) {\n",
       "    this.id = figure_id;\n",
       "\n",
       "    this.ws = websocket;\n",
       "\n",
       "    this.supports_binary = (this.ws.binaryType != undefined);\n",
       "\n",
       "    if (!this.supports_binary) {\n",
       "        var warnings = document.getElementById(\"mpl-warnings\");\n",
       "        if (warnings) {\n",
       "            warnings.style.display = 'block';\n",
       "            warnings.textContent = (\n",
       "                \"This browser does not support binary websocket messages. \" +\n",
       "                    \"Performance may be slow.\");\n",
       "        }\n",
       "    }\n",
       "\n",
       "    this.imageObj = new Image();\n",
       "\n",
       "    this.context = undefined;\n",
       "    this.message = undefined;\n",
       "    this.canvas = undefined;\n",
       "    this.rubberband_canvas = undefined;\n",
       "    this.rubberband_context = undefined;\n",
       "    this.format_dropdown = undefined;\n",
       "\n",
       "    this.image_mode = 'full';\n",
       "\n",
       "    this.root = $('<div/>');\n",
       "    this._root_extra_style(this.root)\n",
       "    this.root.attr('style', 'display: inline-block');\n",
       "\n",
       "    $(parent_element).append(this.root);\n",
       "\n",
       "    this._init_header(this);\n",
       "    this._init_canvas(this);\n",
       "    this._init_toolbar(this);\n",
       "\n",
       "    var fig = this;\n",
       "\n",
       "    this.waiting = false;\n",
       "\n",
       "    this.ws.onopen =  function () {\n",
       "            fig.send_message(\"supports_binary\", {value: fig.supports_binary});\n",
       "            fig.send_message(\"send_image_mode\", {});\n",
       "            if (mpl.ratio != 1) {\n",
       "                fig.send_message(\"set_dpi_ratio\", {'dpi_ratio': mpl.ratio});\n",
       "            }\n",
       "            fig.send_message(\"refresh\", {});\n",
       "        }\n",
       "\n",
       "    this.imageObj.onload = function() {\n",
       "            if (fig.image_mode == 'full') {\n",
       "                // Full images could contain transparency (where diff images\n",
       "                // almost always do), so we need to clear the canvas so that\n",
       "                // there is no ghosting.\n",
       "                fig.context.clearRect(0, 0, fig.canvas.width, fig.canvas.height);\n",
       "            }\n",
       "            fig.context.drawImage(fig.imageObj, 0, 0);\n",
       "        };\n",
       "\n",
       "    this.imageObj.onunload = function() {\n",
       "        fig.ws.close();\n",
       "    }\n",
       "\n",
       "    this.ws.onmessage = this._make_on_message_function(this);\n",
       "\n",
       "    this.ondownload = ondownload;\n",
       "}\n",
       "\n",
       "mpl.figure.prototype._init_header = function() {\n",
       "    var titlebar = $(\n",
       "        '<div class=\"ui-dialog-titlebar ui-widget-header ui-corner-all ' +\n",
       "        'ui-helper-clearfix\"/>');\n",
       "    var titletext = $(\n",
       "        '<div class=\"ui-dialog-title\" style=\"width: 100%; ' +\n",
       "        'text-align: center; padding: 3px;\"/>');\n",
       "    titlebar.append(titletext)\n",
       "    this.root.append(titlebar);\n",
       "    this.header = titletext[0];\n",
       "}\n",
       "\n",
       "\n",
       "\n",
       "mpl.figure.prototype._canvas_extra_style = function(canvas_div) {\n",
       "\n",
       "}\n",
       "\n",
       "\n",
       "mpl.figure.prototype._root_extra_style = function(canvas_div) {\n",
       "\n",
       "}\n",
       "\n",
       "mpl.figure.prototype._init_canvas = function() {\n",
       "    var fig = this;\n",
       "\n",
       "    var canvas_div = $('<div/>');\n",
       "\n",
       "    canvas_div.attr('style', 'position: relative; clear: both; outline: 0');\n",
       "\n",
       "    function canvas_keyboard_event(event) {\n",
       "        return fig.key_event(event, event['data']);\n",
       "    }\n",
       "\n",
       "    canvas_div.keydown('key_press', canvas_keyboard_event);\n",
       "    canvas_div.keyup('key_release', canvas_keyboard_event);\n",
       "    this.canvas_div = canvas_div\n",
       "    this._canvas_extra_style(canvas_div)\n",
       "    this.root.append(canvas_div);\n",
       "\n",
       "    var canvas = $('<canvas/>');\n",
       "    canvas.addClass('mpl-canvas');\n",
       "    canvas.attr('style', \"left: 0; top: 0; z-index: 0; outline: 0\")\n",
       "\n",
       "    this.canvas = canvas[0];\n",
       "    this.context = canvas[0].getContext(\"2d\");\n",
       "\n",
       "    var backingStore = this.context.backingStorePixelRatio ||\n",
       "\tthis.context.webkitBackingStorePixelRatio ||\n",
       "\tthis.context.mozBackingStorePixelRatio ||\n",
       "\tthis.context.msBackingStorePixelRatio ||\n",
       "\tthis.context.oBackingStorePixelRatio ||\n",
       "\tthis.context.backingStorePixelRatio || 1;\n",
       "\n",
       "    mpl.ratio = (window.devicePixelRatio || 1) / backingStore;\n",
       "\n",
       "    var rubberband = $('<canvas/>');\n",
       "    rubberband.attr('style', \"position: absolute; left: 0; top: 0; z-index: 1;\")\n",
       "\n",
       "    var pass_mouse_events = true;\n",
       "\n",
       "    canvas_div.resizable({\n",
       "        start: function(event, ui) {\n",
       "            pass_mouse_events = false;\n",
       "        },\n",
       "        resize: function(event, ui) {\n",
       "            fig.request_resize(ui.size.width, ui.size.height);\n",
       "        },\n",
       "        stop: function(event, ui) {\n",
       "            pass_mouse_events = true;\n",
       "            fig.request_resize(ui.size.width, ui.size.height);\n",
       "        },\n",
       "    });\n",
       "\n",
       "    function mouse_event_fn(event) {\n",
       "        if (pass_mouse_events)\n",
       "            return fig.mouse_event(event, event['data']);\n",
       "    }\n",
       "\n",
       "    rubberband.mousedown('button_press', mouse_event_fn);\n",
       "    rubberband.mouseup('button_release', mouse_event_fn);\n",
       "    // Throttle sequential mouse events to 1 every 20ms.\n",
       "    rubberband.mousemove('motion_notify', mouse_event_fn);\n",
       "\n",
       "    rubberband.mouseenter('figure_enter', mouse_event_fn);\n",
       "    rubberband.mouseleave('figure_leave', mouse_event_fn);\n",
       "\n",
       "    canvas_div.on(\"wheel\", function (event) {\n",
       "        event = event.originalEvent;\n",
       "        event['data'] = 'scroll'\n",
       "        if (event.deltaY < 0) {\n",
       "            event.step = 1;\n",
       "        } else {\n",
       "            event.step = -1;\n",
       "        }\n",
       "        mouse_event_fn(event);\n",
       "    });\n",
       "\n",
       "    canvas_div.append(canvas);\n",
       "    canvas_div.append(rubberband);\n",
       "\n",
       "    this.rubberband = rubberband;\n",
       "    this.rubberband_canvas = rubberband[0];\n",
       "    this.rubberband_context = rubberband[0].getContext(\"2d\");\n",
       "    this.rubberband_context.strokeStyle = \"#000000\";\n",
       "\n",
       "    this._resize_canvas = function(width, height) {\n",
       "        // Keep the size of the canvas, canvas container, and rubber band\n",
       "        // canvas in synch.\n",
       "        canvas_div.css('width', width)\n",
       "        canvas_div.css('height', height)\n",
       "\n",
       "        canvas.attr('width', width * mpl.ratio);\n",
       "        canvas.attr('height', height * mpl.ratio);\n",
       "        canvas.attr('style', 'width: ' + width + 'px; height: ' + height + 'px;');\n",
       "\n",
       "        rubberband.attr('width', width);\n",
       "        rubberband.attr('height', height);\n",
       "    }\n",
       "\n",
       "    // Set the figure to an initial 600x600px, this will subsequently be updated\n",
       "    // upon first draw.\n",
       "    this._resize_canvas(600, 600);\n",
       "\n",
       "    // Disable right mouse context menu.\n",
       "    $(this.rubberband_canvas).bind(\"contextmenu\",function(e){\n",
       "        return false;\n",
       "    });\n",
       "\n",
       "    function set_focus () {\n",
       "        canvas.focus();\n",
       "        canvas_div.focus();\n",
       "    }\n",
       "\n",
       "    window.setTimeout(set_focus, 100);\n",
       "}\n",
       "\n",
       "mpl.figure.prototype._init_toolbar = function() {\n",
       "    var fig = this;\n",
       "\n",
       "    var nav_element = $('<div/>');\n",
       "    nav_element.attr('style', 'width: 100%');\n",
       "    this.root.append(nav_element);\n",
       "\n",
       "    // Define a callback function for later on.\n",
       "    function toolbar_event(event) {\n",
       "        return fig.toolbar_button_onclick(event['data']);\n",
       "    }\n",
       "    function toolbar_mouse_event(event) {\n",
       "        return fig.toolbar_button_onmouseover(event['data']);\n",
       "    }\n",
       "\n",
       "    for(var toolbar_ind in mpl.toolbar_items) {\n",
       "        var name = mpl.toolbar_items[toolbar_ind][0];\n",
       "        var tooltip = mpl.toolbar_items[toolbar_ind][1];\n",
       "        var image = mpl.toolbar_items[toolbar_ind][2];\n",
       "        var method_name = mpl.toolbar_items[toolbar_ind][3];\n",
       "\n",
       "        if (!name) {\n",
       "            // put a spacer in here.\n",
       "            continue;\n",
       "        }\n",
       "        var button = $('<button/>');\n",
       "        button.addClass('ui-button ui-widget ui-state-default ui-corner-all ' +\n",
       "                        'ui-button-icon-only');\n",
       "        button.attr('role', 'button');\n",
       "        button.attr('aria-disabled', 'false');\n",
       "        button.click(method_name, toolbar_event);\n",
       "        button.mouseover(tooltip, toolbar_mouse_event);\n",
       "\n",
       "        var icon_img = $('<span/>');\n",
       "        icon_img.addClass('ui-button-icon-primary ui-icon');\n",
       "        icon_img.addClass(image);\n",
       "        icon_img.addClass('ui-corner-all');\n",
       "\n",
       "        var tooltip_span = $('<span/>');\n",
       "        tooltip_span.addClass('ui-button-text');\n",
       "        tooltip_span.html(tooltip);\n",
       "\n",
       "        button.append(icon_img);\n",
       "        button.append(tooltip_span);\n",
       "\n",
       "        nav_element.append(button);\n",
       "    }\n",
       "\n",
       "    var fmt_picker_span = $('<span/>');\n",
       "\n",
       "    var fmt_picker = $('<select/>');\n",
       "    fmt_picker.addClass('mpl-toolbar-option ui-widget ui-widget-content');\n",
       "    fmt_picker_span.append(fmt_picker);\n",
       "    nav_element.append(fmt_picker_span);\n",
       "    this.format_dropdown = fmt_picker[0];\n",
       "\n",
       "    for (var ind in mpl.extensions) {\n",
       "        var fmt = mpl.extensions[ind];\n",
       "        var option = $(\n",
       "            '<option/>', {selected: fmt === mpl.default_extension}).html(fmt);\n",
       "        fmt_picker.append(option);\n",
       "    }\n",
       "\n",
       "    // Add hover states to the ui-buttons\n",
       "    $( \".ui-button\" ).hover(\n",
       "        function() { $(this).addClass(\"ui-state-hover\");},\n",
       "        function() { $(this).removeClass(\"ui-state-hover\");}\n",
       "    );\n",
       "\n",
       "    var status_bar = $('<span class=\"mpl-message\"/>');\n",
       "    nav_element.append(status_bar);\n",
       "    this.message = status_bar[0];\n",
       "}\n",
       "\n",
       "mpl.figure.prototype.request_resize = function(x_pixels, y_pixels) {\n",
       "    // Request matplotlib to resize the figure. Matplotlib will then trigger a resize in the client,\n",
       "    // which will in turn request a refresh of the image.\n",
       "    this.send_message('resize', {'width': x_pixels, 'height': y_pixels});\n",
       "}\n",
       "\n",
       "mpl.figure.prototype.send_message = function(type, properties) {\n",
       "    properties['type'] = type;\n",
       "    properties['figure_id'] = this.id;\n",
       "    this.ws.send(JSON.stringify(properties));\n",
       "}\n",
       "\n",
       "mpl.figure.prototype.send_draw_message = function() {\n",
       "    if (!this.waiting) {\n",
       "        this.waiting = true;\n",
       "        this.ws.send(JSON.stringify({type: \"draw\", figure_id: this.id}));\n",
       "    }\n",
       "}\n",
       "\n",
       "\n",
       "mpl.figure.prototype.handle_save = function(fig, msg) {\n",
       "    var format_dropdown = fig.format_dropdown;\n",
       "    var format = format_dropdown.options[format_dropdown.selectedIndex].value;\n",
       "    fig.ondownload(fig, format);\n",
       "}\n",
       "\n",
       "\n",
       "mpl.figure.prototype.handle_resize = function(fig, msg) {\n",
       "    var size = msg['size'];\n",
       "    if (size[0] != fig.canvas.width || size[1] != fig.canvas.height) {\n",
       "        fig._resize_canvas(size[0], size[1]);\n",
       "        fig.send_message(\"refresh\", {});\n",
       "    };\n",
       "}\n",
       "\n",
       "mpl.figure.prototype.handle_rubberband = function(fig, msg) {\n",
       "    var x0 = msg['x0'] / mpl.ratio;\n",
       "    var y0 = (fig.canvas.height - msg['y0']) / mpl.ratio;\n",
       "    var x1 = msg['x1'] / mpl.ratio;\n",
       "    var y1 = (fig.canvas.height - msg['y1']) / mpl.ratio;\n",
       "    x0 = Math.floor(x0) + 0.5;\n",
       "    y0 = Math.floor(y0) + 0.5;\n",
       "    x1 = Math.floor(x1) + 0.5;\n",
       "    y1 = Math.floor(y1) + 0.5;\n",
       "    var min_x = Math.min(x0, x1);\n",
       "    var min_y = Math.min(y0, y1);\n",
       "    var width = Math.abs(x1 - x0);\n",
       "    var height = Math.abs(y1 - y0);\n",
       "\n",
       "    fig.rubberband_context.clearRect(\n",
       "        0, 0, fig.canvas.width / mpl.ratio, fig.canvas.height / mpl.ratio);\n",
       "\n",
       "    fig.rubberband_context.strokeRect(min_x, min_y, width, height);\n",
       "}\n",
       "\n",
       "mpl.figure.prototype.handle_figure_label = function(fig, msg) {\n",
       "    // Updates the figure title.\n",
       "    fig.header.textContent = msg['label'];\n",
       "}\n",
       "\n",
       "mpl.figure.prototype.handle_cursor = function(fig, msg) {\n",
       "    var cursor = msg['cursor'];\n",
       "    switch(cursor)\n",
       "    {\n",
       "    case 0:\n",
       "        cursor = 'pointer';\n",
       "        break;\n",
       "    case 1:\n",
       "        cursor = 'default';\n",
       "        break;\n",
       "    case 2:\n",
       "        cursor = 'crosshair';\n",
       "        break;\n",
       "    case 3:\n",
       "        cursor = 'move';\n",
       "        break;\n",
       "    }\n",
       "    fig.rubberband_canvas.style.cursor = cursor;\n",
       "}\n",
       "\n",
       "mpl.figure.prototype.handle_message = function(fig, msg) {\n",
       "    fig.message.textContent = msg['message'];\n",
       "}\n",
       "\n",
       "mpl.figure.prototype.handle_draw = function(fig, msg) {\n",
       "    // Request the server to send over a new figure.\n",
       "    fig.send_draw_message();\n",
       "}\n",
       "\n",
       "mpl.figure.prototype.handle_image_mode = function(fig, msg) {\n",
       "    fig.image_mode = msg['mode'];\n",
       "}\n",
       "\n",
       "mpl.figure.prototype.updated_canvas_event = function() {\n",
       "    // Called whenever the canvas gets updated.\n",
       "    this.send_message(\"ack\", {});\n",
       "}\n",
       "\n",
       "// A function to construct a web socket function for onmessage handling.\n",
       "// Called in the figure constructor.\n",
       "mpl.figure.prototype._make_on_message_function = function(fig) {\n",
       "    return function socket_on_message(evt) {\n",
       "        if (evt.data instanceof Blob) {\n",
       "            /* FIXME: We get \"Resource interpreted as Image but\n",
       "             * transferred with MIME type text/plain:\" errors on\n",
       "             * Chrome.  But how to set the MIME type?  It doesn't seem\n",
       "             * to be part of the websocket stream */\n",
       "            evt.data.type = \"image/png\";\n",
       "\n",
       "            /* Free the memory for the previous frames */\n",
       "            if (fig.imageObj.src) {\n",
       "                (window.URL || window.webkitURL).revokeObjectURL(\n",
       "                    fig.imageObj.src);\n",
       "            }\n",
       "\n",
       "            fig.imageObj.src = (window.URL || window.webkitURL).createObjectURL(\n",
       "                evt.data);\n",
       "            fig.updated_canvas_event();\n",
       "            fig.waiting = false;\n",
       "            return;\n",
       "        }\n",
       "        else if (typeof evt.data === 'string' && evt.data.slice(0, 21) == \"data:image/png;base64\") {\n",
       "            fig.imageObj.src = evt.data;\n",
       "            fig.updated_canvas_event();\n",
       "            fig.waiting = false;\n",
       "            return;\n",
       "        }\n",
       "\n",
       "        var msg = JSON.parse(evt.data);\n",
       "        var msg_type = msg['type'];\n",
       "\n",
       "        // Call the  \"handle_{type}\" callback, which takes\n",
       "        // the figure and JSON message as its only arguments.\n",
       "        try {\n",
       "            var callback = fig[\"handle_\" + msg_type];\n",
       "        } catch (e) {\n",
       "            console.log(\"No handler for the '\" + msg_type + \"' message type: \", msg);\n",
       "            return;\n",
       "        }\n",
       "\n",
       "        if (callback) {\n",
       "            try {\n",
       "                // console.log(\"Handling '\" + msg_type + \"' message: \", msg);\n",
       "                callback(fig, msg);\n",
       "            } catch (e) {\n",
       "                console.log(\"Exception inside the 'handler_\" + msg_type + \"' callback:\", e, e.stack, msg);\n",
       "            }\n",
       "        }\n",
       "    };\n",
       "}\n",
       "\n",
       "// from http://stackoverflow.com/questions/1114465/getting-mouse-location-in-canvas\n",
       "mpl.findpos = function(e) {\n",
       "    //this section is from http://www.quirksmode.org/js/events_properties.html\n",
       "    var targ;\n",
       "    if (!e)\n",
       "        e = window.event;\n",
       "    if (e.target)\n",
       "        targ = e.target;\n",
       "    else if (e.srcElement)\n",
       "        targ = e.srcElement;\n",
       "    if (targ.nodeType == 3) // defeat Safari bug\n",
       "        targ = targ.parentNode;\n",
       "\n",
       "    // jQuery normalizes the pageX and pageY\n",
       "    // pageX,Y are the mouse positions relative to the document\n",
       "    // offset() returns the position of the element relative to the document\n",
       "    var x = e.pageX - $(targ).offset().left;\n",
       "    var y = e.pageY - $(targ).offset().top;\n",
       "\n",
       "    return {\"x\": x, \"y\": y};\n",
       "};\n",
       "\n",
       "/*\n",
       " * return a copy of an object with only non-object keys\n",
       " * we need this to avoid circular references\n",
       " * http://stackoverflow.com/a/24161582/3208463\n",
       " */\n",
       "function simpleKeys (original) {\n",
       "  return Object.keys(original).reduce(function (obj, key) {\n",
       "    if (typeof original[key] !== 'object')\n",
       "        obj[key] = original[key]\n",
       "    return obj;\n",
       "  }, {});\n",
       "}\n",
       "\n",
       "mpl.figure.prototype.mouse_event = function(event, name) {\n",
       "    var canvas_pos = mpl.findpos(event)\n",
       "\n",
       "    if (name === 'button_press')\n",
       "    {\n",
       "        this.canvas.focus();\n",
       "        this.canvas_div.focus();\n",
       "    }\n",
       "\n",
       "    var x = canvas_pos.x * mpl.ratio;\n",
       "    var y = canvas_pos.y * mpl.ratio;\n",
       "\n",
       "    this.send_message(name, {x: x, y: y, button: event.button,\n",
       "                             step: event.step,\n",
       "                             guiEvent: simpleKeys(event)});\n",
       "\n",
       "    /* This prevents the web browser from automatically changing to\n",
       "     * the text insertion cursor when the button is pressed.  We want\n",
       "     * to control all of the cursor setting manually through the\n",
       "     * 'cursor' event from matplotlib */\n",
       "    event.preventDefault();\n",
       "    return false;\n",
       "}\n",
       "\n",
       "mpl.figure.prototype._key_event_extra = function(event, name) {\n",
       "    // Handle any extra behaviour associated with a key event\n",
       "}\n",
       "\n",
       "mpl.figure.prototype.key_event = function(event, name) {\n",
       "\n",
       "    // Prevent repeat events\n",
       "    if (name == 'key_press')\n",
       "    {\n",
       "        if (event.which === this._key)\n",
       "            return;\n",
       "        else\n",
       "            this._key = event.which;\n",
       "    }\n",
       "    if (name == 'key_release')\n",
       "        this._key = null;\n",
       "\n",
       "    var value = '';\n",
       "    if (event.ctrlKey && event.which != 17)\n",
       "        value += \"ctrl+\";\n",
       "    if (event.altKey && event.which != 18)\n",
       "        value += \"alt+\";\n",
       "    if (event.shiftKey && event.which != 16)\n",
       "        value += \"shift+\";\n",
       "\n",
       "    value += 'k';\n",
       "    value += event.which.toString();\n",
       "\n",
       "    this._key_event_extra(event, name);\n",
       "\n",
       "    this.send_message(name, {key: value,\n",
       "                             guiEvent: simpleKeys(event)});\n",
       "    return false;\n",
       "}\n",
       "\n",
       "mpl.figure.prototype.toolbar_button_onclick = function(name) {\n",
       "    if (name == 'download') {\n",
       "        this.handle_save(this, null);\n",
       "    } else {\n",
       "        this.send_message(\"toolbar_button\", {name: name});\n",
       "    }\n",
       "};\n",
       "\n",
       "mpl.figure.prototype.toolbar_button_onmouseover = function(tooltip) {\n",
       "    this.message.textContent = tooltip;\n",
       "};\n",
       "mpl.toolbar_items = [[\"Home\", \"Reset original view\", \"fa fa-home icon-home\", \"home\"], [\"Back\", \"Back to previous view\", \"fa fa-arrow-left icon-arrow-left\", \"back\"], [\"Forward\", \"Forward to next view\", \"fa fa-arrow-right icon-arrow-right\", \"forward\"], [\"\", \"\", \"\", \"\"], [\"Pan\", \"Pan axes with left mouse, zoom with right\", \"fa fa-arrows icon-move\", \"pan\"], [\"Zoom\", \"Zoom to rectangle\", \"fa fa-square-o icon-check-empty\", \"zoom\"], [\"\", \"\", \"\", \"\"], [\"Download\", \"Download plot\", \"fa fa-floppy-o icon-save\", \"download\"]];\n",
       "\n",
       "mpl.extensions = [\"eps\", \"jpeg\", \"pdf\", \"png\", \"ps\", \"raw\", \"svg\", \"tif\"];\n",
       "\n",
       "mpl.default_extension = \"png\";var comm_websocket_adapter = function(comm) {\n",
       "    // Create a \"websocket\"-like object which calls the given IPython comm\n",
       "    // object with the appropriate methods. Currently this is a non binary\n",
       "    // socket, so there is still some room for performance tuning.\n",
       "    var ws = {};\n",
       "\n",
       "    ws.close = function() {\n",
       "        comm.close()\n",
       "    };\n",
       "    ws.send = function(m) {\n",
       "        //console.log('sending', m);\n",
       "        comm.send(m);\n",
       "    };\n",
       "    // Register the callback with on_msg.\n",
       "    comm.on_msg(function(msg) {\n",
       "        //console.log('receiving', msg['content']['data'], msg);\n",
       "        // Pass the mpl event to the overridden (by mpl) onmessage function.\n",
       "        ws.onmessage(msg['content']['data'])\n",
       "    });\n",
       "    return ws;\n",
       "}\n",
       "\n",
       "mpl.mpl_figure_comm = function(comm, msg) {\n",
       "    // This is the function which gets called when the mpl process\n",
       "    // starts-up an IPython Comm through the \"matplotlib\" channel.\n",
       "\n",
       "    var id = msg.content.data.id;\n",
       "    // Get hold of the div created by the display call when the Comm\n",
       "    // socket was opened in Python.\n",
       "    var element = $(\"#\" + id);\n",
       "    var ws_proxy = comm_websocket_adapter(comm)\n",
       "\n",
       "    function ondownload(figure, format) {\n",
       "        window.open(figure.imageObj.src);\n",
       "    }\n",
       "\n",
       "    var fig = new mpl.figure(id, ws_proxy,\n",
       "                           ondownload,\n",
       "                           element.get(0));\n",
       "\n",
       "    // Call onopen now - mpl needs it, as it is assuming we've passed it a real\n",
       "    // web socket which is closed, not our websocket->open comm proxy.\n",
       "    ws_proxy.onopen();\n",
       "\n",
       "    fig.parent_element = element.get(0);\n",
       "    fig.cell_info = mpl.find_output_cell(\"<div id='\" + id + \"'></div>\");\n",
       "    if (!fig.cell_info) {\n",
       "        console.error(\"Failed to find cell for figure\", id, fig);\n",
       "        return;\n",
       "    }\n",
       "\n",
       "    var output_index = fig.cell_info[2]\n",
       "    var cell = fig.cell_info[0];\n",
       "\n",
       "};\n",
       "\n",
       "mpl.figure.prototype.handle_close = function(fig, msg) {\n",
       "    var width = fig.canvas.width/mpl.ratio\n",
       "    fig.root.unbind('remove')\n",
       "\n",
       "    // Update the output cell to use the data from the current canvas.\n",
       "    fig.push_to_output();\n",
       "    var dataURL = fig.canvas.toDataURL();\n",
       "    // Re-enable the keyboard manager in IPython - without this line, in FF,\n",
       "    // the notebook keyboard shortcuts fail.\n",
       "    IPython.keyboard_manager.enable()\n",
       "    $(fig.parent_element).html('<img src=\"' + dataURL + '\" width=\"' + width + '\">');\n",
       "    fig.close_ws(fig, msg);\n",
       "}\n",
       "\n",
       "mpl.figure.prototype.close_ws = function(fig, msg){\n",
       "    fig.send_message('closing', msg);\n",
       "    // fig.ws.close()\n",
       "}\n",
       "\n",
       "mpl.figure.prototype.push_to_output = function(remove_interactive) {\n",
       "    // Turn the data on the canvas into data in the output cell.\n",
       "    var width = this.canvas.width/mpl.ratio\n",
       "    var dataURL = this.canvas.toDataURL();\n",
       "    this.cell_info[1]['text/html'] = '<img src=\"' + dataURL + '\" width=\"' + width + '\">';\n",
       "}\n",
       "\n",
       "mpl.figure.prototype.updated_canvas_event = function() {\n",
       "    // Tell IPython that the notebook contents must change.\n",
       "    IPython.notebook.set_dirty(true);\n",
       "    this.send_message(\"ack\", {});\n",
       "    var fig = this;\n",
       "    // Wait a second, then push the new image to the DOM so\n",
       "    // that it is saved nicely (might be nice to debounce this).\n",
       "    setTimeout(function () { fig.push_to_output() }, 1000);\n",
       "}\n",
       "\n",
       "mpl.figure.prototype._init_toolbar = function() {\n",
       "    var fig = this;\n",
       "\n",
       "    var nav_element = $('<div/>');\n",
       "    nav_element.attr('style', 'width: 100%');\n",
       "    this.root.append(nav_element);\n",
       "\n",
       "    // Define a callback function for later on.\n",
       "    function toolbar_event(event) {\n",
       "        return fig.toolbar_button_onclick(event['data']);\n",
       "    }\n",
       "    function toolbar_mouse_event(event) {\n",
       "        return fig.toolbar_button_onmouseover(event['data']);\n",
       "    }\n",
       "\n",
       "    for(var toolbar_ind in mpl.toolbar_items){\n",
       "        var name = mpl.toolbar_items[toolbar_ind][0];\n",
       "        var tooltip = mpl.toolbar_items[toolbar_ind][1];\n",
       "        var image = mpl.toolbar_items[toolbar_ind][2];\n",
       "        var method_name = mpl.toolbar_items[toolbar_ind][3];\n",
       "\n",
       "        if (!name) { continue; };\n",
       "\n",
       "        var button = $('<button class=\"btn btn-default\" href=\"#\" title=\"' + name + '\"><i class=\"fa ' + image + ' fa-lg\"></i></button>');\n",
       "        button.click(method_name, toolbar_event);\n",
       "        button.mouseover(tooltip, toolbar_mouse_event);\n",
       "        nav_element.append(button);\n",
       "    }\n",
       "\n",
       "    // Add the status bar.\n",
       "    var status_bar = $('<span class=\"mpl-message\" style=\"text-align:right; float: right;\"/>');\n",
       "    nav_element.append(status_bar);\n",
       "    this.message = status_bar[0];\n",
       "\n",
       "    // Add the close button to the window.\n",
       "    var buttongrp = $('<div class=\"btn-group inline pull-right\"></div>');\n",
       "    var button = $('<button class=\"btn btn-mini btn-primary\" href=\"#\" title=\"Stop Interaction\"><i class=\"fa fa-power-off icon-remove icon-large\"></i></button>');\n",
       "    button.click(function (evt) { fig.handle_close(fig, {}); } );\n",
       "    button.mouseover('Stop Interaction', toolbar_mouse_event);\n",
       "    buttongrp.append(button);\n",
       "    var titlebar = this.root.find($('.ui-dialog-titlebar'));\n",
       "    titlebar.prepend(buttongrp);\n",
       "}\n",
       "\n",
       "mpl.figure.prototype._root_extra_style = function(el){\n",
       "    var fig = this\n",
       "    el.on(\"remove\", function(){\n",
       "\tfig.close_ws(fig, {});\n",
       "    });\n",
       "}\n",
       "\n",
       "mpl.figure.prototype._canvas_extra_style = function(el){\n",
       "    // this is important to make the div 'focusable\n",
       "    el.attr('tabindex', 0)\n",
       "    // reach out to IPython and tell the keyboard manager to turn it's self\n",
       "    // off when our div gets focus\n",
       "\n",
       "    // location in version 3\n",
       "    if (IPython.notebook.keyboard_manager) {\n",
       "        IPython.notebook.keyboard_manager.register_events(el);\n",
       "    }\n",
       "    else {\n",
       "        // location in version 2\n",
       "        IPython.keyboard_manager.register_events(el);\n",
       "    }\n",
       "\n",
       "}\n",
       "\n",
       "mpl.figure.prototype._key_event_extra = function(event, name) {\n",
       "    var manager = IPython.notebook.keyboard_manager;\n",
       "    if (!manager)\n",
       "        manager = IPython.keyboard_manager;\n",
       "\n",
       "    // Check for shift+enter\n",
       "    if (event.shiftKey && event.which == 13) {\n",
       "        this.canvas_div.blur();\n",
       "        event.shiftKey = false;\n",
       "        // Send a \"J\" for go to next cell\n",
       "        event.which = 74;\n",
       "        event.keyCode = 74;\n",
       "        manager.command_mode();\n",
       "        manager.handle_keydown(event);\n",
       "    }\n",
       "}\n",
       "\n",
       "mpl.figure.prototype.handle_save = function(fig, msg) {\n",
       "    fig.ondownload(fig, null);\n",
       "}\n",
       "\n",
       "\n",
       "mpl.find_output_cell = function(html_output) {\n",
       "    // Return the cell and output element which can be found *uniquely* in the notebook.\n",
       "    // Note - this is a bit hacky, but it is done because the \"notebook_saving.Notebook\"\n",
       "    // IPython event is triggered only after the cells have been serialised, which for\n",
       "    // our purposes (turning an active figure into a static one), is too late.\n",
       "    var cells = IPython.notebook.get_cells();\n",
       "    var ncells = cells.length;\n",
       "    for (var i=0; i<ncells; i++) {\n",
       "        var cell = cells[i];\n",
       "        if (cell.cell_type === 'code'){\n",
       "            for (var j=0; j<cell.output_area.outputs.length; j++) {\n",
       "                var data = cell.output_area.outputs[j];\n",
       "                if (data.data) {\n",
       "                    // IPython >= 3 moved mimebundle to data attribute of output\n",
       "                    data = data.data;\n",
       "                }\n",
       "                if (data['text/html'] == html_output) {\n",
       "                    return [cell, data, j];\n",
       "                }\n",
       "            }\n",
       "        }\n",
       "    }\n",
       "}\n",
       "\n",
       "// Register the function which deals with the matplotlib target/channel.\n",
       "// The kernel may be null if the page has been refreshed.\n",
       "if (IPython.notebook.kernel != null) {\n",
       "    IPython.notebook.kernel.comm_manager.register_target('matplotlib', mpl.mpl_figure_comm);\n",
       "}\n"
      ],
      "text/plain": [
       "<IPython.core.display.Javascript object>"
      ]
     },
     "metadata": {},
     "output_type": "display_data"
    },
    {
     "data": {
      "text/html": [
       "<img src=\"data:image/png;base64,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\" width=\"640\">"
      ],
      "text/plain": [
       "<IPython.core.display.HTML object>"
      ]
     },
     "metadata": {},
     "output_type": "display_data"
    }
   ],
   "source": [
    "EFs = np.linspace(0.005,0.008, 100)\n",
    "deltas = [.001, .002, .003, 0.004, 0.005, 0.006]\n",
    "Ms = np.empty_like(EFs)\n",
    "\n",
    "fig, ax = plt.subplots()\n",
    "\n",
    "for delta in deltas:\n",
    "    kx, ky, Kx, Ky, E, Psi = get_bands(Nkx=200, Nky=200, Delta=Delta, delta=delta, twobytwo=True)\n",
    "    Omega, Mu = berry_mu(Kx, Ky, E, Psi)\n",
    "    splE, splO, splM = get_splines(kx, ky, E, Omega, Mu)\n",
    "    kx2, ky2, E2, Omega2, Mu2 = densify(kx, ky, splE, splO, splM)\n",
    "    \n",
    "    for i, EF in enumerate(EFs):\n",
    "        f = feq_func(E2, EF, T)\n",
    "        Ms[i] = M_valley(kx2, ky2, f, splE, splO, splM, Efield=[1,0], tau=.1, EF=EF)\n",
    "\n",
    "    ax.plot(EFs, Ms)"
   ]
  },
  {
   "cell_type": "code",
   "execution_count": 18,
   "metadata": {},
   "outputs": [
    {
     "data": {
      "text/plain": [
       "True"
      ]
     },
     "execution_count": 18,
     "metadata": {},
     "output_type": "execute_result"
    }
   ],
   "source": [
    "feq_func(E2, 0.01, 0).any()"
   ]
  },
  {
   "cell_type": "markdown",
   "metadata": {},
   "source": [
    "# Carrier density and displacement field"
   ]
  },
  {
   "cell_type": "code",
   "execution_count": 1,
   "metadata": {},
   "outputs": [],
   "source": [
    "import numpy as np\n",
    "import matplotlib.pyplot as plt\n",
    "from scipy.interpolate import RectBivariateSpline\n",
    "\n",
    "from blg_strain.bands import get_bands\n",
    "from blg_strain.berry import berry_mu, berry_connection, berry_from_connection\n",
    "from blg_strain.utils.utils import get_splines\n",
    "from blg_strain.utils.utils import densify\n",
    "from blg_strain.microscopic import feq_func\n",
    "from blg_strain.macroscopic import *"
   ]
  },
  {
   "cell_type": "code",
   "execution_count": 22,
   "metadata": {},
   "outputs": [],
   "source": [
    "delta = 0\n",
    "Delta = 0.01\n",
    "\n",
    "kx, ky, Kx, Ky, E, Psi = get_bands(Nkx=200, Nky=200, Delta=Delta, delta=delta)\n",
    "Omega, Mu = berry_mu(Kx, Ky, E, Psi)\n",
    "splE, splO, splM = get_splines(kx, ky, E, Omega, Mu)\n",
    "kx2, ky2, E2, Omega2, Mu2 = densify(kx, ky, splE, splO, splM)\n",
    "\n",
    "kxp, kyp, Kxp, Kyp, Ep, Psip = get_bands(Nkx=200, Nky=200, xi=1, Delta=Delta, delta=delta)\n",
    "Omegap, Mup = berry_mu(Kxp, Kyp, Ep, Psip)\n",
    "splEp, splOp, splMp = get_splines(kxp, kyp, Ep, Omegap, Mup)\n",
    "kx2p, ky2p, E2p, Omega2p, Mu2p = densify(kxp, kyp, splEp, splOp, splMp)"
   ]
  },
  {
   "cell_type": "code",
   "execution_count": 23,
   "metadata": {},
   "outputs": [
    {
     "ename": "NameError",
     "evalue": "name 'n_layer' is not defined",
     "output_type": "error",
     "traceback": [
      "\u001b[1;31m---------------------------------------------------------------------------\u001b[0m",
      "\u001b[1;31mNameError\u001b[0m                                 Traceback (most recent call last)",
      "\u001b[1;32m<ipython-input-23-15dafa383fdd>\u001b[0m in \u001b[0;36m<module>\u001b[1;34m\u001b[0m\n\u001b[0;32m      5\u001b[0m \u001b[0mfeq2\u001b[0m \u001b[1;33m=\u001b[0m \u001b[0mfeq_func\u001b[0m\u001b[1;33m(\u001b[0m\u001b[0mEp\u001b[0m\u001b[1;33m,\u001b[0m \u001b[0mEF\u001b[0m\u001b[1;33m,\u001b[0m \u001b[0mT\u001b[0m\u001b[1;33m)\u001b[0m\u001b[1;33m\u001b[0m\u001b[1;33m\u001b[0m\u001b[0m\n\u001b[0;32m      6\u001b[0m \u001b[1;33m\u001b[0m\u001b[0m\n\u001b[1;32m----> 7\u001b[1;33m \u001b[0mn1\u001b[0m \u001b[1;33m=\u001b[0m \u001b[0mn_layer\u001b[0m\u001b[1;33m(\u001b[0m\u001b[0mkx\u001b[0m\u001b[1;33m,\u001b[0m \u001b[0mky\u001b[0m\u001b[1;33m,\u001b[0m \u001b[0mfeq1\u001b[0m\u001b[1;33m,\u001b[0m \u001b[0mfeq2\u001b[0m\u001b[1;33m,\u001b[0m \u001b[0mPsi\u001b[0m\u001b[1;33m,\u001b[0m \u001b[0mPsip\u001b[0m\u001b[1;33m,\u001b[0m \u001b[0mlayer\u001b[0m\u001b[1;33m=\u001b[0m\u001b[1;36m1\u001b[0m\u001b[1;33m)\u001b[0m\u001b[1;33m\u001b[0m\u001b[1;33m\u001b[0m\u001b[0m\n\u001b[0m\u001b[0;32m      8\u001b[0m \u001b[0mn2\u001b[0m \u001b[1;33m=\u001b[0m \u001b[0mn_layer\u001b[0m\u001b[1;33m(\u001b[0m\u001b[0mkx\u001b[0m\u001b[1;33m,\u001b[0m \u001b[0mky\u001b[0m\u001b[1;33m,\u001b[0m \u001b[0mfeq1\u001b[0m\u001b[1;33m,\u001b[0m \u001b[0mfeq2\u001b[0m\u001b[1;33m,\u001b[0m \u001b[0mPsi\u001b[0m\u001b[1;33m,\u001b[0m \u001b[0mPsip\u001b[0m\u001b[1;33m,\u001b[0m \u001b[0mlayer\u001b[0m\u001b[1;33m=\u001b[0m\u001b[1;36m2\u001b[0m\u001b[1;33m)\u001b[0m\u001b[1;33m\u001b[0m\u001b[1;33m\u001b[0m\u001b[0m\n\u001b[0;32m      9\u001b[0m \u001b[1;33m\u001b[0m\u001b[0m\n",
      "\u001b[1;31mNameError\u001b[0m: name 'n_layer' is not defined"
     ]
    }
   ],
   "source": [
    "EF = 0.01\n",
    "T = 0\n",
    "\n",
    "feq1 = feq_func(E, EF, T)\n",
    "feq2 = feq_func(Ep, EF, T)\n",
    "\n",
    "n1 = n_layer(kx, ky, feq1, feq2, Psi, Psip, layer=1)\n",
    "n2 = n_layer(kx, ky, feq1, feq2, Psi, Psip, layer=2)\n",
    "\n",
    "disp_field(Delta, n1, n2)"
   ]
  },
  {
   "cell_type": "code",
   "execution_count": null,
   "metadata": {},
   "outputs": [],
   "source": [
    "n1, n2"
   ]
  },
  {
   "cell_type": "markdown",
   "metadata": {},
   "source": [
    "# Object oriented"
   ]
  },
  {
   "cell_type": "code",
   "execution_count": 38,
   "metadata": {},
   "outputs": [],
   "source": [
    "class Bands():\n",
    "    def __init__(self, **kwargs):\n",
    "        self.kx, self.ky, self.Kx, self.Ky, self.E, self.Psi = get_bands(**kwargs)\n",
    "        self.Omega, self.Mu = berry_mu(self.Kx, self.Ky, self.E, self.Psi)\n",
    "        self.splE, self.splO, self.splM = get_splines(kx, ky, E, Omega, Mu)\n",
    "        kx2, ky2, E2, Omega2, Mu2 = densify(kx, ky, splE, splO, splM)"
   ]
  },
  {
   "cell_type": "code",
   "execution_count": 39,
   "metadata": {},
   "outputs": [],
   "source": [
    "b = Bands()"
   ]
  },
  {
   "cell_type": "code",
   "execution_count": 42,
   "metadata": {},
   "outputs": [],
   "source": [
    "from blg_strain.valley import Valley"
   ]
  },
  {
   "cell_type": "code",
   "execution_count": 43,
   "metadata": {},
   "outputs": [],
   "source": [
    "v1 = Valley(xi=1)\n",
    "v2 = Valley(xi=-1)"
   ]
  },
  {
   "cell_type": "code",
   "execution_count": 46,
   "metadata": {},
   "outputs": [],
   "source": [
    "v1.calculate()"
   ]
  },
  {
   "cell_type": "code",
   "execution_count": 22,
   "metadata": {},
   "outputs": [],
   "source": [
    "v2.calculate()"
   ]
  },
  {
   "cell_type": "markdown",
   "metadata": {},
   "source": [
    "# Import from module"
   ]
  },
  {
   "cell_type": "code",
   "execution_count": 1,
   "metadata": {},
   "outputs": [],
   "source": [
    "from blg_strain.classes import *\n",
    "from blg_strain.microscopic import feq_func\n",
    "\n",
    "import numpy as np\n",
    "import matplotlib.pyplot as plt\n",
    "%matplotlib notebook"
   ]
  },
  {
   "cell_type": "code",
   "execution_count": 20,
   "metadata": {},
   "outputs": [],
   "source": [
    "bs1 = BandStructure(xi=1, delta=0.001, Delta=0.01)\n",
    "bs2 = BandStructure(xi=-1, delta=0.0, Delta=0.01)"
   ]
  },
  {
   "cell_type": "code",
   "execution_count": 21,
   "metadata": {},
   "outputs": [],
   "source": [
    "bs1.calculate(1000, 1000)\n",
    "bs2.calculate(1000, 1000)"
   ]
  },
  {
   "cell_type": "markdown",
   "metadata": {},
   "source": [
    "## E field in x direction "
   ]
  },
  {
   "cell_type": "code",
   "execution_count": 22,
   "metadata": {},
   "outputs": [],
   "source": [
    "from blg_strain.macroscopic import _M_bands"
   ]
  },
  {
   "cell_type": "markdown",
   "metadata": {},
   "source": [
    "### integrate not by parts"
   ]
  },
  {
   "cell_type": "code",
   "execution_count": 31,
   "metadata": {
    "scrolled": false
   },
   "outputs": [],
   "source": [
    "EFs = np.linspace(0.005,0.008, 10)\n",
    "T=0.1\n",
    "\n",
    "_M1 = np.empty((len(EFs), 2))\n",
    "_M2 = np.empty((len(EFs), 2))\n",
    "\n",
    "for i, EF in enumerate(EFs):\n",
    "    for M, bs in zip([_M1, _M2], [bs1, bs2]):\n",
    "        f = feq_func(bs.E, EF, T)\n",
    "        M[i] = _M_bands(bs.kx, bs.ky, f, bs.splE, bs.splO, bs.splM, tau=.1, EF=EF, byparts=False)"
   ]
  },
  {
   "cell_type": "code",
   "execution_count": 32,
   "metadata": {
    "scrolled": false
   },
   "outputs": [
    {
     "data": {
      "text/plain": [
       "[<matplotlib.lines.Line2D at 0x1f49d1c9408>]"
      ]
     },
     "execution_count": 32,
     "metadata": {},
     "output_type": "execute_result"
    },
    {
     "data": {
      "image/png": "[encoded data removed]",
      "text/plain": [
       "<Figure size 432x288 with 1 Axes>"
      ]
     },
     "metadata": {
      "needs_background": "light"
     },
     "output_type": "display_data"
    }
   ],
   "source": [
    "Efield = [1,0]\n",
    "M1 = _M1.dot(Efield)\n",
    "M2 = _M2.dot(Efield)\n",
    "\n",
    "fig, ax = plt.subplots()\n",
    "ax.plot(EFs, M1)\n",
    "ax.plot(EFs, M2, '.')"
   ]
  },
  {
   "cell_type": "markdown",
   "metadata": {},
   "source": [
    "### integrate by parts"
   ]
  },
  {
   "cell_type": "code",
   "execution_count": 33,
   "metadata": {
    "scrolled": false
   },
   "outputs": [],
   "source": [
    "EFs = np.linspace(0.005,0.008, 10)\n",
    "T=0.1\n",
    "\n",
    "_M1 = np.empty((len(EFs), 2))\n",
    "_M2 = np.empty((len(EFs), 2))\n",
    "\n",
    "for i, EF in enumerate(EFs):\n",
    "    for M, bs in zip([_M1, _M2], [bs1, bs2]):\n",
    "        f = feq_func(bs.E, EF, T)\n",
    "        M[i] = _M_bands(bs.kx, bs.ky, f, bs.splE, bs.splO, bs.splM, tau=.1, EF=EF, byparts=True)"
   ]
  },
  {
   "cell_type": "code",
   "execution_count": 34,
   "metadata": {
    "scrolled": false
   },
   "outputs": [
    {
     "data": {
      "text/plain": [
       "[<matplotlib.lines.Line2D at 0x1f49d4d7ac8>]"
      ]
     },
     "execution_count": 34,
     "metadata": {},
     "output_type": "execute_result"
    },
    {
     "data": {
      "image/png": "[encoded data removed]",
      "text/plain": [
       "<Figure size 432x288 with 1 Axes>"
      ]
     },
     "metadata": {
      "needs_background": "light"
     },
     "output_type": "display_data"
    }
   ],
   "source": [
    "Efield = [1,0]\n",
    "M1 = _M1.dot(Efield)\n",
    "M2 = _M2.dot(Efield)\n",
    "\n",
    "fig, ax = plt.subplots()\n",
    "ax.plot(EFs, M1)\n",
    "ax.plot(EFs, M2, '.')"
   ]
  },
  {
   "cell_type": "markdown",
   "metadata": {},
   "source": [
    "# versus Temperature"
   ]
  },
  {
   "cell_type": "code",
   "execution_count": 1,
   "metadata": {},
   "outputs": [],
   "source": [
    "from blg_strain.classes import *\n",
    "from blg_strain.microscopic import feq_func\n",
    "from blg_strain.macroscopic import _M_bands, _M_integral, _M_integral_by_parts\n",
    "\n",
    "import numpy as np\n",
    "import matplotlib.pyplot as plt"
   ]
  },
  {
   "cell_type": "code",
   "execution_count": 2,
   "metadata": {},
   "outputs": [],
   "source": [
    "%matplotlib notebook"
   ]
  },
  {
   "cell_type": "code",
   "execution_count": 7,
   "metadata": {},
   "outputs": [],
   "source": [
    "bs1 = BandStructure(xi=1, delta=0.01, Delta=0.01)\n",
    "bs2 = BandStructure(xi=-1, delta=0.0, Delta=0.01)"
   ]
  },
  {
   "cell_type": "code",
   "execution_count": 17,
   "metadata": {},
   "outputs": [],
   "source": [
    "bs1.calculate(1000, 1000)\n",
    "bs2.calculate(1000, 1000)"
   ]
  },
  {
   "cell_type": "code",
   "execution_count": 20,
   "metadata": {
    "scrolled": false
   },
   "outputs": [],
   "source": [
    "EF = 0.01\n",
    "Ts = np.linspace(0,10, 10)\n",
    "\n",
    "_M1 = np.empty((len(Ts), 2))\n",
    "_M2 = np.empty((len(Ts), 2))\n",
    "_M1p = np.empty((len(Ts), 2))\n",
    "_M2p = np.empty((len(Ts), 2))\n",
    "\n",
    "for i, T in enumerate(Ts):\n",
    "    for M, Mp, bs in zip([_M1, _M2], [_M1p, _M2p], [bs1, bs2]):\n",
    "        f = feq_func(bs.E, EF, T)\n",
    "        M[i] = _M_bands(bs.kx, bs.ky, f, bs.splE, bs.splO, bs.splM, tau=.1, EF=EF, byparts=False)\n",
    "        Mp[i] = _M_bands(bs.kx, bs.ky, f, bs.splE, bs.splO, bs.splM, tau=.1, EF=EF, byparts=True)"
   ]
  },
  {
   "cell_type": "code",
   "execution_count": 21,
   "metadata": {
    "scrolled": false
   },
   "outputs": [
    {
     "data": {
      "application/javascript": [
       "/* Put everything inside the global mpl namespace */\n",
       "window.mpl = {};\n",
       "\n",
       "\n",
       "mpl.get_websocket_type = function() {\n",
       "    if (typeof(WebSocket) !== 'undefined') {\n",
       "        return WebSocket;\n",
       "    } else if (typeof(MozWebSocket) !== 'undefined') {\n",
       "        return MozWebSocket;\n",
       "    } else {\n",
       "        alert('Your browser does not have WebSocket support. ' +\n",
       "              'Please try Chrome, Safari or Firefox ≥ 6. ' +\n",
       "              'Firefox 4 and 5 are also supported but you ' +\n",
       "              'have to enable WebSockets in about:config.');\n",
       "    };\n",
       "}\n",
       "\n",
       "mpl.figure = function(figure_id, websocket, ondownload, parent_element) {\n",
       "    this.id = figure_id;\n",
       "\n",
       "    this.ws = websocket;\n",
       "\n",
       "    this.supports_binary = (this.ws.binaryType != undefined);\n",
       "\n",
       "    if (!this.supports_binary) {\n",
       "        var warnings = document.getElementById(\"mpl-warnings\");\n",
       "        if (warnings) {\n",
       "            warnings.style.display = 'block';\n",
       "            warnings.textContent = (\n",
       "                \"This browser does not support binary websocket messages. \" +\n",
       "                    \"Performance may be slow.\");\n",
       "        }\n",
       "    }\n",
       "\n",
       "    this.imageObj = new Image();\n",
       "\n",
       "    this.context = undefined;\n",
       "    this.message = undefined;\n",
       "    this.canvas = undefined;\n",
       "    this.rubberband_canvas = undefined;\n",
       "    this.rubberband_context = undefined;\n",
       "    this.format_dropdown = undefined;\n",
       "\n",
       "    this.image_mode = 'full';\n",
       "\n",
       "    this.root = $('<div/>');\n",
       "    this._root_extra_style(this.root)\n",
       "    this.root.attr('style', 'display: inline-block');\n",
       "\n",
       "    $(parent_element).append(this.root);\n",
       "\n",
       "    this._init_header(this);\n",
       "    this._init_canvas(this);\n",
       "    this._init_toolbar(this);\n",
       "\n",
       "    var fig = this;\n",
       "\n",
       "    this.waiting = false;\n",
       "\n",
       "    this.ws.onopen =  function () {\n",
       "            fig.send_message(\"supports_binary\", {value: fig.supports_binary});\n",
       "            fig.send_message(\"send_image_mode\", {});\n",
       "            if (mpl.ratio != 1) {\n",
       "                fig.send_message(\"set_dpi_ratio\", {'dpi_ratio': mpl.ratio});\n",
       "            }\n",
       "            fig.send_message(\"refresh\", {});\n",
       "        }\n",
       "\n",
       "    this.imageObj.onload = function() {\n",
       "            if (fig.image_mode == 'full') {\n",
       "                // Full images could contain transparency (where diff images\n",
       "                // almost always do), so we need to clear the canvas so that\n",
       "                // there is no ghosting.\n",
       "                fig.context.clearRect(0, 0, fig.canvas.width, fig.canvas.height);\n",
       "            }\n",
       "            fig.context.drawImage(fig.imageObj, 0, 0);\n",
       "        };\n",
       "\n",
       "    this.imageObj.onunload = function() {\n",
       "        fig.ws.close();\n",
       "    }\n",
       "\n",
       "    this.ws.onmessage = this._make_on_message_function(this);\n",
       "\n",
       "    this.ondownload = ondownload;\n",
       "}\n",
       "\n",
       "mpl.figure.prototype._init_header = function() {\n",
       "    var titlebar = $(\n",
       "        '<div class=\"ui-dialog-titlebar ui-widget-header ui-corner-all ' +\n",
       "        'ui-helper-clearfix\"/>');\n",
       "    var titletext = $(\n",
       "        '<div class=\"ui-dialog-title\" style=\"width: 100%; ' +\n",
       "        'text-align: center; padding: 3px;\"/>');\n",
       "    titlebar.append(titletext)\n",
       "    this.root.append(titlebar);\n",
       "    this.header = titletext[0];\n",
       "}\n",
       "\n",
       "\n",
       "\n",
       "mpl.figure.prototype._canvas_extra_style = function(canvas_div) {\n",
       "\n",
       "}\n",
       "\n",
       "\n",
       "mpl.figure.prototype._root_extra_style = function(canvas_div) {\n",
       "\n",
       "}\n",
       "\n",
       "mpl.figure.prototype._init_canvas = function() {\n",
       "    var fig = this;\n",
       "\n",
       "    var canvas_div = $('<div/>');\n",
       "\n",
       "    canvas_div.attr('style', 'position: relative; clear: both; outline: 0');\n",
       "\n",
       "    function canvas_keyboard_event(event) {\n",
       "        return fig.key_event(event, event['data']);\n",
       "    }\n",
       "\n",
       "    canvas_div.keydown('key_press', canvas_keyboard_event);\n",
       "    canvas_div.keyup('key_release', canvas_keyboard_event);\n",
       "    this.canvas_div = canvas_div\n",
       "    this._canvas_extra_style(canvas_div)\n",
       "    this.root.append(canvas_div);\n",
       "\n",
       "    var canvas = $('<canvas/>');\n",
       "    canvas.addClass('mpl-canvas');\n",
       "    canvas.attr('style', \"left: 0; top: 0; z-index: 0; outline: 0\")\n",
       "\n",
       "    this.canvas = canvas[0];\n",
       "    this.context = canvas[0].getContext(\"2d\");\n",
       "\n",
       "    var backingStore = this.context.backingStorePixelRatio ||\n",
       "\tthis.context.webkitBackingStorePixelRatio ||\n",
       "\tthis.context.mozBackingStorePixelRatio ||\n",
       "\tthis.context.msBackingStorePixelRatio ||\n",
       "\tthis.context.oBackingStorePixelRatio ||\n",
       "\tthis.context.backingStorePixelRatio || 1;\n",
       "\n",
       "    mpl.ratio = (window.devicePixelRatio || 1) / backingStore;\n",
       "\n",
       "    var rubberband = $('<canvas/>');\n",
       "    rubberband.attr('style', \"position: absolute; left: 0; top: 0; z-index: 1;\")\n",
       "\n",
       "    var pass_mouse_events = true;\n",
       "\n",
       "    canvas_div.resizable({\n",
       "        start: function(event, ui) {\n",
       "            pass_mouse_events = false;\n",
       "        },\n",
       "        resize: function(event, ui) {\n",
       "            fig.request_resize(ui.size.width, ui.size.height);\n",
       "        },\n",
       "        stop: function(event, ui) {\n",
       "            pass_mouse_events = true;\n",
       "            fig.request_resize(ui.size.width, ui.size.height);\n",
       "        },\n",
       "    });\n",
       "\n",
       "    function mouse_event_fn(event) {\n",
       "        if (pass_mouse_events)\n",
       "            return fig.mouse_event(event, event['data']);\n",
       "    }\n",
       "\n",
       "    rubberband.mousedown('button_press', mouse_event_fn);\n",
       "    rubberband.mouseup('button_release', mouse_event_fn);\n",
       "    // Throttle sequential mouse events to 1 every 20ms.\n",
       "    rubberband.mousemove('motion_notify', mouse_event_fn);\n",
       "\n",
       "    rubberband.mouseenter('figure_enter', mouse_event_fn);\n",
       "    rubberband.mouseleave('figure_leave', mouse_event_fn);\n",
       "\n",
       "    canvas_div.on(\"wheel\", function (event) {\n",
       "        event = event.originalEvent;\n",
       "        event['data'] = 'scroll'\n",
       "        if (event.deltaY < 0) {\n",
       "            event.step = 1;\n",
       "        } else {\n",
       "            event.step = -1;\n",
       "        }\n",
       "        mouse_event_fn(event);\n",
       "    });\n",
       "\n",
       "    canvas_div.append(canvas);\n",
       "    canvas_div.append(rubberband);\n",
       "\n",
       "    this.rubberband = rubberband;\n",
       "    this.rubberband_canvas = rubberband[0];\n",
       "    this.rubberband_context = rubberband[0].getContext(\"2d\");\n",
       "    this.rubberband_context.strokeStyle = \"#000000\";\n",
       "\n",
       "    this._resize_canvas = function(width, height) {\n",
       "        // Keep the size of the canvas, canvas container, and rubber band\n",
       "        // canvas in synch.\n",
       "        canvas_div.css('width', width)\n",
       "        canvas_div.css('height', height)\n",
       "\n",
       "        canvas.attr('width', width * mpl.ratio);\n",
       "        canvas.attr('height', height * mpl.ratio);\n",
       "        canvas.attr('style', 'width: ' + width + 'px; height: ' + height + 'px;');\n",
       "\n",
       "        rubberband.attr('width', width);\n",
       "        rubberband.attr('height', height);\n",
       "    }\n",
       "\n",
       "    // Set the figure to an initial 600x600px, this will subsequently be updated\n",
       "    // upon first draw.\n",
       "    this._resize_canvas(600, 600);\n",
       "\n",
       "    // Disable right mouse context menu.\n",
       "    $(this.rubberband_canvas).bind(\"contextmenu\",function(e){\n",
       "        return false;\n",
       "    });\n",
       "\n",
       "    function set_focus () {\n",
       "        canvas.focus();\n",
       "        canvas_div.focus();\n",
       "    }\n",
       "\n",
       "    window.setTimeout(set_focus, 100);\n",
       "}\n",
       "\n",
       "mpl.figure.prototype._init_toolbar = function() {\n",
       "    var fig = this;\n",
       "\n",
       "    var nav_element = $('<div/>');\n",
       "    nav_element.attr('style', 'width: 100%');\n",
       "    this.root.append(nav_element);\n",
       "\n",
       "    // Define a callback function for later on.\n",
       "    function toolbar_event(event) {\n",
       "        return fig.toolbar_button_onclick(event['data']);\n",
       "    }\n",
       "    function toolbar_mouse_event(event) {\n",
       "        return fig.toolbar_button_onmouseover(event['data']);\n",
       "    }\n",
       "\n",
       "    for(var toolbar_ind in mpl.toolbar_items) {\n",
       "        var name = mpl.toolbar_items[toolbar_ind][0];\n",
       "        var tooltip = mpl.toolbar_items[toolbar_ind][1];\n",
       "        var image = mpl.toolbar_items[toolbar_ind][2];\n",
       "        var method_name = mpl.toolbar_items[toolbar_ind][3];\n",
       "\n",
       "        if (!name) {\n",
       "            // put a spacer in here.\n",
       "            continue;\n",
       "        }\n",
       "        var button = $('<button/>');\n",
       "        button.addClass('ui-button ui-widget ui-state-default ui-corner-all ' +\n",
       "                        'ui-button-icon-only');\n",
       "        button.attr('role', 'button');\n",
       "        button.attr('aria-disabled', 'false');\n",
       "        button.click(method_name, toolbar_event);\n",
       "        button.mouseover(tooltip, toolbar_mouse_event);\n",
       "\n",
       "        var icon_img = $('<span/>');\n",
       "        icon_img.addClass('ui-button-icon-primary ui-icon');\n",
       "        icon_img.addClass(image);\n",
       "        icon_img.addClass('ui-corner-all');\n",
       "\n",
       "        var tooltip_span = $('<span/>');\n",
       "        tooltip_span.addClass('ui-button-text');\n",
       "        tooltip_span.html(tooltip);\n",
       "\n",
       "        button.append(icon_img);\n",
       "        button.append(tooltip_span);\n",
       "\n",
       "        nav_element.append(button);\n",
       "    }\n",
       "\n",
       "    var fmt_picker_span = $('<span/>');\n",
       "\n",
       "    var fmt_picker = $('<select/>');\n",
       "    fmt_picker.addClass('mpl-toolbar-option ui-widget ui-widget-content');\n",
       "    fmt_picker_span.append(fmt_picker);\n",
       "    nav_element.append(fmt_picker_span);\n",
       "    this.format_dropdown = fmt_picker[0];\n",
       "\n",
       "    for (var ind in mpl.extensions) {\n",
       "        var fmt = mpl.extensions[ind];\n",
       "        var option = $(\n",
       "            '<option/>', {selected: fmt === mpl.default_extension}).html(fmt);\n",
       "        fmt_picker.append(option);\n",
       "    }\n",
       "\n",
       "    // Add hover states to the ui-buttons\n",
       "    $( \".ui-button\" ).hover(\n",
       "        function() { $(this).addClass(\"ui-state-hover\");},\n",
       "        function() { $(this).removeClass(\"ui-state-hover\");}\n",
       "    );\n",
       "\n",
       "    var status_bar = $('<span class=\"mpl-message\"/>');\n",
       "    nav_element.append(status_bar);\n",
       "    this.message = status_bar[0];\n",
       "}\n",
       "\n",
       "mpl.figure.prototype.request_resize = function(x_pixels, y_pixels) {\n",
       "    // Request matplotlib to resize the figure. Matplotlib will then trigger a resize in the client,\n",
       "    // which will in turn request a refresh of the image.\n",
       "    this.send_message('resize', {'width': x_pixels, 'height': y_pixels});\n",
       "}\n",
       "\n",
       "mpl.figure.prototype.send_message = function(type, properties) {\n",
       "    properties['type'] = type;\n",
       "    properties['figure_id'] = this.id;\n",
       "    this.ws.send(JSON.stringify(properties));\n",
       "}\n",
       "\n",
       "mpl.figure.prototype.send_draw_message = function() {\n",
       "    if (!this.waiting) {\n",
       "        this.waiting = true;\n",
       "        this.ws.send(JSON.stringify({type: \"draw\", figure_id: this.id}));\n",
       "    }\n",
       "}\n",
       "\n",
       "\n",
       "mpl.figure.prototype.handle_save = function(fig, msg) {\n",
       "    var format_dropdown = fig.format_dropdown;\n",
       "    var format = format_dropdown.options[format_dropdown.selectedIndex].value;\n",
       "    fig.ondownload(fig, format);\n",
       "}\n",
       "\n",
       "\n",
       "mpl.figure.prototype.handle_resize = function(fig, msg) {\n",
       "    var size = msg['size'];\n",
       "    if (size[0] != fig.canvas.width || size[1] != fig.canvas.height) {\n",
       "        fig._resize_canvas(size[0], size[1]);\n",
       "        fig.send_message(\"refresh\", {});\n",
       "    };\n",
       "}\n",
       "\n",
       "mpl.figure.prototype.handle_rubberband = function(fig, msg) {\n",
       "    var x0 = msg['x0'] / mpl.ratio;\n",
       "    var y0 = (fig.canvas.height - msg['y0']) / mpl.ratio;\n",
       "    var x1 = msg['x1'] / mpl.ratio;\n",
       "    var y1 = (fig.canvas.height - msg['y1']) / mpl.ratio;\n",
       "    x0 = Math.floor(x0) + 0.5;\n",
       "    y0 = Math.floor(y0) + 0.5;\n",
       "    x1 = Math.floor(x1) + 0.5;\n",
       "    y1 = Math.floor(y1) + 0.5;\n",
       "    var min_x = Math.min(x0, x1);\n",
       "    var min_y = Math.min(y0, y1);\n",
       "    var width = Math.abs(x1 - x0);\n",
       "    var height = Math.abs(y1 - y0);\n",
       "\n",
       "    fig.rubberband_context.clearRect(\n",
       "        0, 0, fig.canvas.width / mpl.ratio, fig.canvas.height / mpl.ratio);\n",
       "\n",
       "    fig.rubberband_context.strokeRect(min_x, min_y, width, height);\n",
       "}\n",
       "\n",
       "mpl.figure.prototype.handle_figure_label = function(fig, msg) {\n",
       "    // Updates the figure title.\n",
       "    fig.header.textContent = msg['label'];\n",
       "}\n",
       "\n",
       "mpl.figure.prototype.handle_cursor = function(fig, msg) {\n",
       "    var cursor = msg['cursor'];\n",
       "    switch(cursor)\n",
       "    {\n",
       "    case 0:\n",
       "        cursor = 'pointer';\n",
       "        break;\n",
       "    case 1:\n",
       "        cursor = 'default';\n",
       "        break;\n",
       "    case 2:\n",
       "        cursor = 'crosshair';\n",
       "        break;\n",
       "    case 3:\n",
       "        cursor = 'move';\n",
       "        break;\n",
       "    }\n",
       "    fig.rubberband_canvas.style.cursor = cursor;\n",
       "}\n",
       "\n",
       "mpl.figure.prototype.handle_message = function(fig, msg) {\n",
       "    fig.message.textContent = msg['message'];\n",
       "}\n",
       "\n",
       "mpl.figure.prototype.handle_draw = function(fig, msg) {\n",
       "    // Request the server to send over a new figure.\n",
       "    fig.send_draw_message();\n",
       "}\n",
       "\n",
       "mpl.figure.prototype.handle_image_mode = function(fig, msg) {\n",
       "    fig.image_mode = msg['mode'];\n",
       "}\n",
       "\n",
       "mpl.figure.prototype.updated_canvas_event = function() {\n",
       "    // Called whenever the canvas gets updated.\n",
       "    this.send_message(\"ack\", {});\n",
       "}\n",
       "\n",
       "// A function to construct a web socket function for onmessage handling.\n",
       "// Called in the figure constructor.\n",
       "mpl.figure.prototype._make_on_message_function = function(fig) {\n",
       "    return function socket_on_message(evt) {\n",
       "        if (evt.data instanceof Blob) {\n",
       "            /* FIXME: We get \"Resource interpreted as Image but\n",
       "             * transferred with MIME type text/plain:\" errors on\n",
       "             * Chrome.  But how to set the MIME type?  It doesn't seem\n",
       "             * to be part of the websocket stream */\n",
       "            evt.data.type = \"image/png\";\n",
       "\n",
       "            /* Free the memory for the previous frames */\n",
       "            if (fig.imageObj.src) {\n",
       "                (window.URL || window.webkitURL).revokeObjectURL(\n",
       "                    fig.imageObj.src);\n",
       "            }\n",
       "\n",
       "            fig.imageObj.src = (window.URL || window.webkitURL).createObjectURL(\n",
       "                evt.data);\n",
       "            fig.updated_canvas_event();\n",
       "            fig.waiting = false;\n",
       "            return;\n",
       "        }\n",
       "        else if (typeof evt.data === 'string' && evt.data.slice(0, 21) == \"data:image/png;base64\") {\n",
       "            fig.imageObj.src = evt.data;\n",
       "            fig.updated_canvas_event();\n",
       "            fig.waiting = false;\n",
       "            return;\n",
       "        }\n",
       "\n",
       "        var msg = JSON.parse(evt.data);\n",
       "        var msg_type = msg['type'];\n",
       "\n",
       "        // Call the  \"handle_{type}\" callback, which takes\n",
       "        // the figure and JSON message as its only arguments.\n",
       "        try {\n",
       "            var callback = fig[\"handle_\" + msg_type];\n",
       "        } catch (e) {\n",
       "            console.log(\"No handler for the '\" + msg_type + \"' message type: \", msg);\n",
       "            return;\n",
       "        }\n",
       "\n",
       "        if (callback) {\n",
       "            try {\n",
       "                // console.log(\"Handling '\" + msg_type + \"' message: \", msg);\n",
       "                callback(fig, msg);\n",
       "            } catch (e) {\n",
       "                console.log(\"Exception inside the 'handler_\" + msg_type + \"' callback:\", e, e.stack, msg);\n",
       "            }\n",
       "        }\n",
       "    };\n",
       "}\n",
       "\n",
       "// from http://stackoverflow.com/questions/1114465/getting-mouse-location-in-canvas\n",
       "mpl.findpos = function(e) {\n",
       "    //this section is from http://www.quirksmode.org/js/events_properties.html\n",
       "    var targ;\n",
       "    if (!e)\n",
       "        e = window.event;\n",
       "    if (e.target)\n",
       "        targ = e.target;\n",
       "    else if (e.srcElement)\n",
       "        targ = e.srcElement;\n",
       "    if (targ.nodeType == 3) // defeat Safari bug\n",
       "        targ = targ.parentNode;\n",
       "\n",
       "    // jQuery normalizes the pageX and pageY\n",
       "    // pageX,Y are the mouse positions relative to the document\n",
       "    // offset() returns the position of the element relative to the document\n",
       "    var x = e.pageX - $(targ).offset().left;\n",
       "    var y = e.pageY - $(targ).offset().top;\n",
       "\n",
       "    return {\"x\": x, \"y\": y};\n",
       "};\n",
       "\n",
       "/*\n",
       " * return a copy of an object with only non-object keys\n",
       " * we need this to avoid circular references\n",
       " * http://stackoverflow.com/a/24161582/3208463\n",
       " */\n",
       "function simpleKeys (original) {\n",
       "  return Object.keys(original).reduce(function (obj, key) {\n",
       "    if (typeof original[key] !== 'object')\n",
       "        obj[key] = original[key]\n",
       "    return obj;\n",
       "  }, {});\n",
       "}\n",
       "\n",
       "mpl.figure.prototype.mouse_event = function(event, name) {\n",
       "    var canvas_pos = mpl.findpos(event)\n",
       "\n",
       "    if (name === 'button_press')\n",
       "    {\n",
       "        this.canvas.focus();\n",
       "        this.canvas_div.focus();\n",
       "    }\n",
       "\n",
       "    var x = canvas_pos.x * mpl.ratio;\n",
       "    var y = canvas_pos.y * mpl.ratio;\n",
       "\n",
       "    this.send_message(name, {x: x, y: y, button: event.button,\n",
       "                             step: event.step,\n",
       "                             guiEvent: simpleKeys(event)});\n",
       "\n",
       "    /* This prevents the web browser from automatically changing to\n",
       "     * the text insertion cursor when the button is pressed.  We want\n",
       "     * to control all of the cursor setting manually through the\n",
       "     * 'cursor' event from matplotlib */\n",
       "    event.preventDefault();\n",
       "    return false;\n",
       "}\n",
       "\n",
       "mpl.figure.prototype._key_event_extra = function(event, name) {\n",
       "    // Handle any extra behaviour associated with a key event\n",
       "}\n",
       "\n",
       "mpl.figure.prototype.key_event = function(event, name) {\n",
       "\n",
       "    // Prevent repeat events\n",
       "    if (name == 'key_press')\n",
       "    {\n",
       "        if (event.which === this._key)\n",
       "            return;\n",
       "        else\n",
       "            this._key = event.which;\n",
       "    }\n",
       "    if (name == 'key_release')\n",
       "        this._key = null;\n",
       "\n",
       "    var value = '';\n",
       "    if (event.ctrlKey && event.which != 17)\n",
       "        value += \"ctrl+\";\n",
       "    if (event.altKey && event.which != 18)\n",
       "        value += \"alt+\";\n",
       "    if (event.shiftKey && event.which != 16)\n",
       "        value += \"shift+\";\n",
       "\n",
       "    value += 'k';\n",
       "    value += event.which.toString();\n",
       "\n",
       "    this._key_event_extra(event, name);\n",
       "\n",
       "    this.send_message(name, {key: value,\n",
       "                             guiEvent: simpleKeys(event)});\n",
       "    return false;\n",
       "}\n",
       "\n",
       "mpl.figure.prototype.toolbar_button_onclick = function(name) {\n",
       "    if (name == 'download') {\n",
       "        this.handle_save(this, null);\n",
       "    } else {\n",
       "        this.send_message(\"toolbar_button\", {name: name});\n",
       "    }\n",
       "};\n",
       "\n",
       "mpl.figure.prototype.toolbar_button_onmouseover = function(tooltip) {\n",
       "    this.message.textContent = tooltip;\n",
       "};\n",
       "mpl.toolbar_items = [[\"Home\", \"Reset original view\", \"fa fa-home icon-home\", \"home\"], [\"Back\", \"Back to previous view\", \"fa fa-arrow-left icon-arrow-left\", \"back\"], [\"Forward\", \"Forward to next view\", \"fa fa-arrow-right icon-arrow-right\", \"forward\"], [\"\", \"\", \"\", \"\"], [\"Pan\", \"Pan axes with left mouse, zoom with right\", \"fa fa-arrows icon-move\", \"pan\"], [\"Zoom\", \"Zoom to rectangle\", \"fa fa-square-o icon-check-empty\", \"zoom\"], [\"\", \"\", \"\", \"\"], [\"Download\", \"Download plot\", \"fa fa-floppy-o icon-save\", \"download\"]];\n",
       "\n",
       "mpl.extensions = [\"eps\", \"jpeg\", \"pdf\", \"png\", \"ps\", \"raw\", \"svg\", \"tif\"];\n",
       "\n",
       "mpl.default_extension = \"png\";var comm_websocket_adapter = function(comm) {\n",
       "    // Create a \"websocket\"-like object which calls the given IPython comm\n",
       "    // object with the appropriate methods. Currently this is a non binary\n",
       "    // socket, so there is still some room for performance tuning.\n",
       "    var ws = {};\n",
       "\n",
       "    ws.close = function() {\n",
       "        comm.close()\n",
       "    };\n",
       "    ws.send = function(m) {\n",
       "        //console.log('sending', m);\n",
       "        comm.send(m);\n",
       "    };\n",
       "    // Register the callback with on_msg.\n",
       "    comm.on_msg(function(msg) {\n",
       "        //console.log('receiving', msg['content']['data'], msg);\n",
       "        // Pass the mpl event to the overridden (by mpl) onmessage function.\n",
       "        ws.onmessage(msg['content']['data'])\n",
       "    });\n",
       "    return ws;\n",
       "}\n",
       "\n",
       "mpl.mpl_figure_comm = function(comm, msg) {\n",
       "    // This is the function which gets called when the mpl process\n",
       "    // starts-up an IPython Comm through the \"matplotlib\" channel.\n",
       "\n",
       "    var id = msg.content.data.id;\n",
       "    // Get hold of the div created by the display call when the Comm\n",
       "    // socket was opened in Python.\n",
       "    var element = $(\"#\" + id);\n",
       "    var ws_proxy = comm_websocket_adapter(comm)\n",
       "\n",
       "    function ondownload(figure, format) {\n",
       "        window.open(figure.imageObj.src);\n",
       "    }\n",
       "\n",
       "    var fig = new mpl.figure(id, ws_proxy,\n",
       "                           ondownload,\n",
       "                           element.get(0));\n",
       "\n",
       "    // Call onopen now - mpl needs it, as it is assuming we've passed it a real\n",
       "    // web socket which is closed, not our websocket->open comm proxy.\n",
       "    ws_proxy.onopen();\n",
       "\n",
       "    fig.parent_element = element.get(0);\n",
       "    fig.cell_info = mpl.find_output_cell(\"<div id='\" + id + \"'></div>\");\n",
       "    if (!fig.cell_info) {\n",
       "        console.error(\"Failed to find cell for figure\", id, fig);\n",
       "        return;\n",
       "    }\n",
       "\n",
       "    var output_index = fig.cell_info[2]\n",
       "    var cell = fig.cell_info[0];\n",
       "\n",
       "};\n",
       "\n",
       "mpl.figure.prototype.handle_close = function(fig, msg) {\n",
       "    var width = fig.canvas.width/mpl.ratio\n",
       "    fig.root.unbind('remove')\n",
       "\n",
       "    // Update the output cell to use the data from the current canvas.\n",
       "    fig.push_to_output();\n",
       "    var dataURL = fig.canvas.toDataURL();\n",
       "    // Re-enable the keyboard manager in IPython - without this line, in FF,\n",
       "    // the notebook keyboard shortcuts fail.\n",
       "    IPython.keyboard_manager.enable()\n",
       "    $(fig.parent_element).html('<img src=\"' + dataURL + '\" width=\"' + width + '\">');\n",
       "    fig.close_ws(fig, msg);\n",
       "}\n",
       "\n",
       "mpl.figure.prototype.close_ws = function(fig, msg){\n",
       "    fig.send_message('closing', msg);\n",
       "    // fig.ws.close()\n",
       "}\n",
       "\n",
       "mpl.figure.prototype.push_to_output = function(remove_interactive) {\n",
       "    // Turn the data on the canvas into data in the output cell.\n",
       "    var width = this.canvas.width/mpl.ratio\n",
       "    var dataURL = this.canvas.toDataURL();\n",
       "    this.cell_info[1]['text/html'] = '<img src=\"' + dataURL + '\" width=\"' + width + '\">';\n",
       "}\n",
       "\n",
       "mpl.figure.prototype.updated_canvas_event = function() {\n",
       "    // Tell IPython that the notebook contents must change.\n",
       "    IPython.notebook.set_dirty(true);\n",
       "    this.send_message(\"ack\", {});\n",
       "    var fig = this;\n",
       "    // Wait a second, then push the new image to the DOM so\n",
       "    // that it is saved nicely (might be nice to debounce this).\n",
       "    setTimeout(function () { fig.push_to_output() }, 1000);\n",
       "}\n",
       "\n",
       "mpl.figure.prototype._init_toolbar = function() {\n",
       "    var fig = this;\n",
       "\n",
       "    var nav_element = $('<div/>');\n",
       "    nav_element.attr('style', 'width: 100%');\n",
       "    this.root.append(nav_element);\n",
       "\n",
       "    // Define a callback function for later on.\n",
       "    function toolbar_event(event) {\n",
       "        return fig.toolbar_button_onclick(event['data']);\n",
       "    }\n",
       "    function toolbar_mouse_event(event) {\n",
       "        return fig.toolbar_button_onmouseover(event['data']);\n",
       "    }\n",
       "\n",
       "    for(var toolbar_ind in mpl.toolbar_items){\n",
       "        var name = mpl.toolbar_items[toolbar_ind][0];\n",
       "        var tooltip = mpl.toolbar_items[toolbar_ind][1];\n",
       "        var image = mpl.toolbar_items[toolbar_ind][2];\n",
       "        var method_name = mpl.toolbar_items[toolbar_ind][3];\n",
       "\n",
       "        if (!name) { continue; };\n",
       "\n",
       "        var button = $('<button class=\"btn btn-default\" href=\"#\" title=\"' + name + '\"><i class=\"fa ' + image + ' fa-lg\"></i></button>');\n",
       "        button.click(method_name, toolbar_event);\n",
       "        button.mouseover(tooltip, toolbar_mouse_event);\n",
       "        nav_element.append(button);\n",
       "    }\n",
       "\n",
       "    // Add the status bar.\n",
       "    var status_bar = $('<span class=\"mpl-message\" style=\"text-align:right; float: right;\"/>');\n",
       "    nav_element.append(status_bar);\n",
       "    this.message = status_bar[0];\n",
       "\n",
       "    // Add the close button to the window.\n",
       "    var buttongrp = $('<div class=\"btn-group inline pull-right\"></div>');\n",
       "    var button = $('<button class=\"btn btn-mini btn-primary\" href=\"#\" title=\"Stop Interaction\"><i class=\"fa fa-power-off icon-remove icon-large\"></i></button>');\n",
       "    button.click(function (evt) { fig.handle_close(fig, {}); } );\n",
       "    button.mouseover('Stop Interaction', toolbar_mouse_event);\n",
       "    buttongrp.append(button);\n",
       "    var titlebar = this.root.find($('.ui-dialog-titlebar'));\n",
       "    titlebar.prepend(buttongrp);\n",
       "}\n",
       "\n",
       "mpl.figure.prototype._root_extra_style = function(el){\n",
       "    var fig = this\n",
       "    el.on(\"remove\", function(){\n",
       "\tfig.close_ws(fig, {});\n",
       "    });\n",
       "}\n",
       "\n",
       "mpl.figure.prototype._canvas_extra_style = function(el){\n",
       "    // this is important to make the div 'focusable\n",
       "    el.attr('tabindex', 0)\n",
       "    // reach out to IPython and tell the keyboard manager to turn it's self\n",
       "    // off when our div gets focus\n",
       "\n",
       "    // location in version 3\n",
       "    if (IPython.notebook.keyboard_manager) {\n",
       "        IPython.notebook.keyboard_manager.register_events(el);\n",
       "    }\n",
       "    else {\n",
       "        // location in version 2\n",
       "        IPython.keyboard_manager.register_events(el);\n",
       "    }\n",
       "\n",
       "}\n",
       "\n",
       "mpl.figure.prototype._key_event_extra = function(event, name) {\n",
       "    var manager = IPython.notebook.keyboard_manager;\n",
       "    if (!manager)\n",
       "        manager = IPython.keyboard_manager;\n",
       "\n",
       "    // Check for shift+enter\n",
       "    if (event.shiftKey && event.which == 13) {\n",
       "        this.canvas_div.blur();\n",
       "        event.shiftKey = false;\n",
       "        // Send a \"J\" for go to next cell\n",
       "        event.which = 74;\n",
       "        event.keyCode = 74;\n",
       "        manager.command_mode();\n",
       "        manager.handle_keydown(event);\n",
       "    }\n",
       "}\n",
       "\n",
       "mpl.figure.prototype.handle_save = function(fig, msg) {\n",
       "    fig.ondownload(fig, null);\n",
       "}\n",
       "\n",
       "\n",
       "mpl.find_output_cell = function(html_output) {\n",
       "    // Return the cell and output element which can be found *uniquely* in the notebook.\n",
       "    // Note - this is a bit hacky, but it is done because the \"notebook_saving.Notebook\"\n",
       "    // IPython event is triggered only after the cells have been serialised, which for\n",
       "    // our purposes (turning an active figure into a static one), is too late.\n",
       "    var cells = IPython.notebook.get_cells();\n",
       "    var ncells = cells.length;\n",
       "    for (var i=0; i<ncells; i++) {\n",
       "        var cell = cells[i];\n",
       "        if (cell.cell_type === 'code'){\n",
       "            for (var j=0; j<cell.output_area.outputs.length; j++) {\n",
       "                var data = cell.output_area.outputs[j];\n",
       "                if (data.data) {\n",
       "                    // IPython >= 3 moved mimebundle to data attribute of output\n",
       "                    data = data.data;\n",
       "                }\n",
       "                if (data['text/html'] == html_output) {\n",
       "                    return [cell, data, j];\n",
       "                }\n",
       "            }\n",
       "        }\n",
       "    }\n",
       "}\n",
       "\n",
       "// Register the function which deals with the matplotlib target/channel.\n",
       "// The kernel may be null if the page has been refreshed.\n",
       "if (IPython.notebook.kernel != null) {\n",
       "    IPython.notebook.kernel.comm_manager.register_target('matplotlib', mpl.mpl_figure_comm);\n",
       "}\n"
      ],
      "text/plain": [
       "<IPython.core.display.Javascript object>"
      ]
     },
     "metadata": {},
     "output_type": "display_data"
    },
    {
     "data": {
      "text/html": [
       "<img src=\"data:image/png;base64,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\" width=\"640\">"
      ],
      "text/plain": [
       "<IPython.core.display.HTML object>"
      ]
     },
     "metadata": {},
     "output_type": "display_data"
    },
    {
     "data": {
      "text/plain": [
       "[<matplotlib.lines.Line2D at 0x18d80301fc8>]"
      ]
     },
     "execution_count": 21,
     "metadata": {},
     "output_type": "execute_result"
    }
   ],
   "source": [
    "Efield = [1,0]\n",
    "M1 = _M1.dot(Efield)\n",
    "M2 = _M2.dot(Efield)\n",
    "M1p = _M1p.dot(Efield)\n",
    "M2p = _M2p.dot(Efield)\n",
    "\n",
    "fig, ax = plt.subplots()\n",
    "ax.plot(Ts, M1)\n",
    "ax.plot(Ts, M2)\n",
    "ax.plot(Ts, M1p, '-')\n",
    "ax.plot(Ts, M2p, '^')"
   ]
  },
  {
   "cell_type": "markdown",
   "metadata": {},
   "source": [
    "## E field in y direction"
   ]
  },
  {
   "cell_type": "code",
   "execution_count": 35,
   "metadata": {},
   "outputs": [
    {
     "data": {
      "text/plain": [
       "[<matplotlib.lines.Line2D at 0x1f49d544848>]"
      ]
     },
     "execution_count": 35,
     "metadata": {},
     "output_type": "execute_result"
    },
    {
     "data": {
      "image/png": "[encoded data removed]",
      "text/plain": [
       "<Figure size 432x288 with 1 Axes>"
      ]
     },
     "metadata": {
      "needs_background": "light"
     },
     "output_type": "display_data"
    }
   ],
   "source": [
    "Efield = [0,1]\n",
    "M1 = _M1.dot(Efield)\n",
    "M2 = _M2.dot(Efield)\n",
    "\n",
    "fig, ax = plt.subplots()\n",
    "ax.plot(EFs, M1)\n",
    "ax.plot(EFs, M2, '.')"
   ]
  },
  {
   "cell_type": "markdown",
   "metadata": {},
   "source": [
    "# Strain along theta=90"
   ]
  },
  {
   "cell_type": "code",
   "execution_count": 36,
   "metadata": {},
   "outputs": [],
   "source": [
    "bs1 = BandStructure(xi=1, delta=0.01, Delta=0.01, theta=np.pi/2)\n",
    "bs2 = BandStructure(xi=-1, delta=0.01, Delta=0.01, theta=np.pi/2)"
   ]
  },
  {
   "cell_type": "code",
   "execution_count": 20,
   "metadata": {},
   "outputs": [],
   "source": [
    "bs1.calculate()\n",
    "bs2.calculate()"
   ]
  },
  {
   "cell_type": "code",
   "execution_count": 21,
   "metadata": {},
   "outputs": [
    {
     "data": {
      "text/plain": [
       "<matplotlib.collections.QuadMesh at 0x2c1afd6b408>"
      ]
     },
     "execution_count": 21,
     "metadata": {},
     "output_type": "execute_result"
    },
    {
     "data": {
      "image/png": "[encoded data removed]",
      "text/plain": [
       "<Figure size 432x288 with 1 Axes>"
      ]
     },
     "metadata": {
      "needs_background": "light"
     },
     "output_type": "display_data"
    }
   ],
   "source": [
    "fig, ax = plt.subplots()\n",
    "ax.pcolormesh(bs1.Kx, bs1.Ky, bs1.E[2])"
   ]
  },
  {
   "cell_type": "markdown",
   "metadata": {},
   "source": [
    "## E field in x direction "
   ]
  },
  {
   "cell_type": "code",
   "execution_count": 12,
   "metadata": {},
   "outputs": [],
   "source": [
    "from blg_strain.macroscopic import _M_bands"
   ]
  },
  {
   "cell_type": "code",
   "execution_count": 13,
   "metadata": {
    "scrolled": false
   },
   "outputs": [],
   "source": [
    "EFs = np.linspace(0.005,0.008, 10)\n",
    "T=0\n",
    "\n",
    "_M1 = np.empty((len(EFs), 2))\n",
    "_M2 = np.empty((len(EFs), 2))\n",
    "\n",
    "for i, EF in enumerate(EFs):\n",
    "    for M, bs in zip([_M1, _M2], [bs1, bs2]):\n",
    "        f = feq_func(bs.E, EF, T)\n",
    "        M[i] = _M_bands(bs.kx, bs.ky, f, bs.splE, bs.splO, bs.splM, tau=.1, EF=EF)"
   ]
  },
  {
   "cell_type": "code",
   "execution_count": 14,
   "metadata": {
    "scrolled": true
   },
   "outputs": [
    {
     "data": {
      "text/plain": [
       "[<matplotlib.lines.Line2D at 0x2c18655ed08>]"
      ]
     },
     "execution_count": 14,
     "metadata": {},
     "output_type": "execute_result"
    },
    {
     "data": {
      "image/png": "[encoded data removed]",
      "text/plain": [
       "<Figure size 432x288 with 1 Axes>"
      ]
     },
     "metadata": {
      "needs_background": "light"
     },
     "output_type": "display_data"
    }
   ],
   "source": [
    "Efield = [1,0]\n",
    "M1 = _M1.dot(Efield)\n",
    "M2 = _M2.dot(Efield)\n",
    "\n",
    "fig, ax = plt.subplots()\n",
    "ax.plot(EFs, M1)\n",
    "ax.plot(EFs, M2, '.')"
   ]
  },
  {
   "cell_type": "markdown",
   "metadata": {},
   "source": [
    "## E field in y direction"
   ]
  },
  {
   "cell_type": "code",
   "execution_count": 15,
   "metadata": {},
   "outputs": [
    {
     "data": {
      "text/plain": [
       "[<matplotlib.lines.Line2D at 0x2c1863c1888>]"
      ]
     },
     "execution_count": 15,
     "metadata": {},
     "output_type": "execute_result"
    },
    {
     "data": {
      "image/png": "[encoded data removed]",
      "text/plain": [
       "<Figure size 432x288 with 1 Axes>"
      ]
     },
     "metadata": {
      "needs_background": "light"
     },
     "output_type": "display_data"
    }
   ],
   "source": [
    "Efield = [0,1]\n",
    "M1 = _M1.dot(Efield)\n",
    "M2 = _M2.dot(Efield)\n",
    "\n",
    "fig, ax = plt.subplots()\n",
    "ax.plot(EFs, M1)\n",
    "ax.plot(EFs, M2, '.')"
   ]
  },
  {
   "cell_type": "markdown",
   "metadata": {},
   "source": [
    "# Try integrating *not* by parts"
   ]
  },
  {
   "cell_type": "code",
   "execution_count": 1,
   "metadata": {},
   "outputs": [],
   "source": [
    "from blg_strain.classes import *\n",
    "from blg_strain.microscopic import feq_func\n",
    "\n",
    "import numpy as np\n",
    "import matplotlib.pyplot as plt\n",
    "%matplotlib notebook"
   ]
  },
  {
   "cell_type": "code",
   "execution_count": 61,
   "metadata": {},
   "outputs": [],
   "source": [
    "bs1 = BandStructure(xi=1, delta=0.001, Delta=0.01)\n",
    "bs2 = BandStructure(xi=-1, delta=0, Delta=0.01)"
   ]
  },
  {
   "cell_type": "code",
   "execution_count": 62,
   "metadata": {},
   "outputs": [],
   "source": [
    "bs1.calculate(Nkx_new=1000, Nky_new=1000)\n",
    "# bs2.calculate()"
   ]
  },
  {
   "cell_type": "code",
   "execution_count": 63,
   "metadata": {},
   "outputs": [],
   "source": [
    "from blg_strain.macroscopic import _M_bands, _M_integral, _M_integral_by_parts"
   ]
  },
  {
   "cell_type": "code",
   "execution_count": 64,
   "metadata": {},
   "outputs": [],
   "source": [
    "EF = 0.006\n",
    "feq = feq_func(bs1.E, EF, 1)\n",
    "M1 = _M_integral(bs1.kx, bs1.ky, feq[2], bs1.splE[2], bs1.splO[2], bs1.splM[2], tau=.1, EF=EF)\n",
    "M2 = _M_integral_by_parts(bs1.kx, bs1.ky, feq[2], bs1.splE[2], bs1.splO[2], bs1.splM[2], tau=.1, EF=EF)"
   ]
  },
  {
   "cell_type": "code",
   "execution_count": 66,
   "metadata": {},
   "outputs": [
    {
     "data": {
      "text/plain": [
       "(array([ 1.04389447e-21, -4.32632461e-36]),\n",
       " array([ 1.05033584e-21, -3.10549632e-36]))"
      ]
     },
     "execution_count": 66,
     "metadata": {},
     "output_type": "execute_result"
    }
   ],
   "source": [
    "M1, M2"
   ]
  },
  {
   "cell_type": "code",
   "execution_count": 52,
   "metadata": {},
   "outputs": [],
   "source": [
    "f = np.array(np.gradient(feq[2], bs1.kx, bs1.ky, axis=(-2, -1)))"
   ]
  },
  {
   "cell_type": "code",
   "execution_count": 53,
   "metadata": {},
   "outputs": [
    {
     "data": {
      "text/plain": [
       "<matplotlib.collections.QuadMesh at 0x1a78b25d288>"
      ]
     },
     "execution_count": 53,
     "metadata": {},
     "output_type": "execute_result"
    },
    {
     "data": {
      "image/png": "[encoded data removed]",
      "text/plain": [
       "<Figure size 432x288 with 1 Axes>"
      ]
     },
     "metadata": {
      "needs_background": "light"
     },
     "output_type": "display_data"
    }
   ],
   "source": [
    "fig, ax = plt.subplots()\n",
    "ax.pcolormesh(f[0])"
   ]
  },
  {
   "cell_type": "code",
   "execution_count": 31,
   "metadata": {},
   "outputs": [],
   "source": [
    "from scipy.integrate import simps"
   ]
  },
  {
   "cell_type": "code",
   "execution_count": 42,
   "metadata": {},
   "outputs": [
    {
     "data": {
      "text/plain": [
       "25.0"
      ]
     },
     "execution_count": 42,
     "metadata": {},
     "output_type": "execute_result"
    }
   ],
   "source": [
    "x = np.linspace(0,5)\n",
    "simps(2 * x, x)"
   ]
  },
  {
   "cell_type": "code",
   "execution_count": 40,
   "metadata": {},
   "outputs": [
    {
     "data": {
      "text/plain": [
       "[<matplotlib.lines.Line2D at 0x2892c59ff48>]"
      ]
     },
     "execution_count": 40,
     "metadata": {},
     "output_type": "execute_result"
    },
    {
     "data": {
      "image/png": "[encoded data removed]",
      "text/plain": [
       "<Figure size 432x288 with 2 Axes>"
      ]
     },
     "metadata": {
      "needs_background": "light"
     },
     "output_type": "display_data"
    }
   ],
   "source": [
    "EE = bs1.splE[2](bs1.kx, bs1.ky)\n",
    "dE_dky =  bs1.splE[2](bs1.kx, bs1.ky, dy=1)\n",
    "\n",
    "fig, ax = plt.subplots()\n",
    "i=1000\n",
    "ax.plot(bs1.ky/1e8, EE[i, :])\n",
    "ax2 = ax.twinx()\n",
    "ax2.plot(bs1.ky/1e8, dE_dky[i, :]*1e8, 'C1')\n",
    "# ax.pcolormesh(bs1.splE[2](bs1.kx, bs1.ky, dy=1))"
   ]
  },
  {
   "cell_type": "code",
   "execution_count": 35,
   "metadata": {},
   "outputs": [
    {
     "data": {
      "text/plain": [
       "array([[0.17326411, 0.17316138, 0.17305881, ..., 0.17305881, 0.17316138,\n",
       "        0.17326411],\n",
       "       [0.17309412, 0.1729913 , 0.17288863, ..., 0.17288863, 0.1729913 ,\n",
       "        0.17309412],\n",
       "       [0.17292426, 0.17282134, 0.17271857, ..., 0.17271857, 0.17282134,\n",
       "        0.17292426],\n",
       "       ...,\n",
       "       [0.2152045 , 0.21502186, 0.21483926, ..., 0.21483926, 0.21502186,\n",
       "        0.2152045 ],\n",
       "       [0.21532656, 0.21514393, 0.21496135, ..., 0.21496135, 0.21514393,\n",
       "        0.21532656],\n",
       "       [0.21544867, 0.21526606, 0.21508349, ..., 0.21508349, 0.21526606,\n",
       "        0.21544867]])"
      ]
     },
     "execution_count": 35,
     "metadata": {},
     "output_type": "execute_result"
    }
   ],
   "source": [
    "bs1.splE[2](bs1.kx, bs1.ky)"
   ]
  },
  {
   "cell_type": "code",
   "execution_count": 30,
   "metadata": {},
   "outputs": [
    {
     "data": {
      "text/plain": [
       "(array([9.00641088e-03, 1.31480825e-12]),\n",
       " array([7.24261843e-28, 2.24293957e-35]))"
      ]
     },
     "execution_count": 30,
     "metadata": {},
     "output_type": "execute_result"
    }
   ],
   "source": [
    "M1, M2"
   ]
  },
  {
   "cell_type": "code",
   "execution_count": 27,
   "metadata": {},
   "outputs": [],
   "source": [
    "EFs = np.linspace(0.005,0.008, 10)\n",
    "T=0\n",
    "\n",
    "_M1 = np.empty((len(EFs), 2))\n",
    "_M2 = np.empty((len(EFs), 2))\n",
    "\n",
    "for i, EF in enumerate(EFs):\n",
    "    for M, bs in zip([_M1, _M2], [bs1, bs2]):\n",
    "        f = feq_func(bs.E, EF, T)\n",
    "        M[i] = _M_bands(bs.kx, bs.ky, f, bs.splE, bs.splO, \\\n",
    "                        bs.splM, tau=.1, EF=EF, byparts=False)"
   ]
  },
  {
   "cell_type": "code",
   "execution_count": 28,
   "metadata": {},
   "outputs": [
    {
     "data": {
      "text/plain": [
       "array([[ 7.86622969e-24,  3.45063052e-34],\n",
       "       [ 3.14015522e-23, -8.02977819e-34],\n",
       "       [-8.38185017e-24, -2.88013215e-34],\n",
       "       [-1.00501929e-23,  1.27580740e-34],\n",
       "       [-2.43693426e-23, -1.07819346e-34],\n",
       "       [-1.96524798e-23, -5.34835654e-35],\n",
       "       [ 3.30505148e-24,  6.64010079e-35],\n",
       "       [-1.85220270e-23, -2.01343947e-35],\n",
       "       [-7.74163437e-24,  4.14611900e-35],\n",
       "       [ 3.43222828e-23,  6.18085484e-36]])"
      ]
     },
     "execution_count": 28,
     "metadata": {},
     "output_type": "execute_result"
    }
   ],
   "source": [
    "M"
   ]
  },
  {
   "cell_type": "code",
   "execution_count": 29,
   "metadata": {},
   "outputs": [
    {
     "data": {
      "text/plain": [
       "[<matplotlib.lines.Line2D at 0x19e001748c8>]"
      ]
     },
     "execution_count": 29,
     "metadata": {},
     "output_type": "execute_result"
    },
    {
     "data": {
      "image/png": "[encoded data removed]",
      "text/plain": [
       "<Figure size 432x288 with 1 Axes>"
      ]
     },
     "metadata": {
      "needs_background": "light"
     },
     "output_type": "display_data"
    }
   ],
   "source": [
    "Efield = [1,0]\n",
    "M1 = _M1.dot(Efield)\n",
    "M2 = _M2.dot(Efield)\n",
    "\n",
    "fig, ax = plt.subplots()\n",
    "ax.plot(EFs, M1)\n",
    "ax.plot(EFs, M2, '.')"
   ]
  },
  {
   "cell_type": "markdown",
   "metadata": {},
   "source": [
    "## Try quad instead of simps"
   ]
  },
  {
   "cell_type": "code",
   "execution_count": 35,
   "metadata": {},
   "outputs": [],
   "source": [
    "from scipy.integrate import dblquad, simps\n",
    "from blg_strain.utils.const import q, hbar, muB"
   ]
  },
  {
   "cell_type": "code",
   "execution_count": 113,
   "metadata": {},
   "outputs": [],
   "source": [
    "def _M_integral2(kx, ky, splgradfeq, splE, splO, splM, tau=0, EF=0):\n",
    "    def func(ky, kx): # order specified by dblquad\n",
    "        E = splE(kx, ky)\n",
    "        O = splO(kx, ky)\n",
    "        Mu = splM(kx, ky)\n",
    "\n",
    "        # non-equilibrium occupation (\"divided by\" dot product with E field)\n",
    "        # equilibrium term will integrate to zero\n",
    "        f = q * tau / hbar * splgradfeq(kx, ky)\n",
    "\n",
    "        integrand = 1 / (2 * np.pi) **2 * f * (Mu * muB + q * O / hbar * (EF - E))\n",
    "        return integrand\n",
    "      \n",
    "#     return func(0, 0)\n",
    "    integral, err = dblquad(func, kx.min(), kx.max(), ky.min(), ky.max(), epsabs=1e-100)\n",
    "    integral2 = simps(simps(func(ky, kx), ky, axis=-1), kx, axis=-1)\n",
    "    return integral, integral2, err"
   ]
  },
  {
   "cell_type": "code",
   "execution_count": 114,
   "metadata": {},
   "outputs": [],
   "source": [
    "from scipy.interpolate import RectBivariateSpline\n",
    "gradfeq = np.array(np.gradient(feq, bs1.kx, bs1.ky, axis=(-2, -1)))[0]\n",
    "splgradfeq = RectBivariateSpline(bs1.kx, bs1.ky, gradfeq[2])"
   ]
  },
  {
   "cell_type": "code",
   "execution_count": 166,
   "metadata": {},
   "outputs": [
    {
     "ename": "NameError",
     "evalue": "name '_M_integral2' is not defined",
     "output_type": "error",
     "traceback": [
      "\u001b[1;31m---------------------------------------------------------------------------\u001b[0m",
      "\u001b[1;31mNameError\u001b[0m                                 Traceback (most recent call last)",
      "\u001b[1;32m<ipython-input-166-b9e0a4179827>\u001b[0m in \u001b[0;36m<module>\u001b[1;34m\u001b[0m\n\u001b[1;32m----> 1\u001b[1;33m \u001b[0mM1\u001b[0m \u001b[1;33m=\u001b[0m \u001b[0m_M_integral2\u001b[0m\u001b[1;33m(\u001b[0m\u001b[0mbs1\u001b[0m\u001b[1;33m.\u001b[0m\u001b[0mkx\u001b[0m\u001b[1;33m,\u001b[0m \u001b[0mbs1\u001b[0m\u001b[1;33m.\u001b[0m\u001b[0mky\u001b[0m\u001b[1;33m,\u001b[0m \u001b[0msplgradfeq\u001b[0m\u001b[1;33m,\u001b[0m \u001b[0mbs1\u001b[0m\u001b[1;33m.\u001b[0m\u001b[0msplE\u001b[0m\u001b[1;33m[\u001b[0m\u001b[1;36m2\u001b[0m\u001b[1;33m]\u001b[0m\u001b[1;33m,\u001b[0m \u001b[0mbs1\u001b[0m\u001b[1;33m.\u001b[0m\u001b[0msplO\u001b[0m\u001b[1;33m[\u001b[0m\u001b[1;36m2\u001b[0m\u001b[1;33m]\u001b[0m\u001b[1;33m,\u001b[0m \u001b[0mbs1\u001b[0m\u001b[1;33m.\u001b[0m\u001b[0msplM\u001b[0m\u001b[1;33m[\u001b[0m\u001b[1;36m2\u001b[0m\u001b[1;33m]\u001b[0m\u001b[1;33m,\u001b[0m \u001b[0mtau\u001b[0m\u001b[1;33m=\u001b[0m\u001b[1;36m.1\u001b[0m\u001b[1;33m,\u001b[0m \u001b[0mEF\u001b[0m\u001b[1;33m=\u001b[0m\u001b[0mEF\u001b[0m\u001b[1;33m)\u001b[0m\u001b[1;33m\u001b[0m\u001b[1;33m\u001b[0m\u001b[0m\n\u001b[0m\u001b[0;32m      2\u001b[0m \u001b[0mM2\u001b[0m \u001b[1;33m=\u001b[0m \u001b[0m_M_integral\u001b[0m\u001b[1;33m(\u001b[0m\u001b[0mbs1\u001b[0m\u001b[1;33m.\u001b[0m\u001b[0mkx\u001b[0m\u001b[1;33m,\u001b[0m \u001b[0mbs1\u001b[0m\u001b[1;33m.\u001b[0m\u001b[0mky\u001b[0m\u001b[1;33m,\u001b[0m \u001b[0mfeq\u001b[0m\u001b[1;33m[\u001b[0m\u001b[1;36m2\u001b[0m\u001b[1;33m]\u001b[0m\u001b[1;33m,\u001b[0m \u001b[0mbs1\u001b[0m\u001b[1;33m.\u001b[0m\u001b[0msplE\u001b[0m\u001b[1;33m[\u001b[0m\u001b[1;36m2\u001b[0m\u001b[1;33m]\u001b[0m\u001b[1;33m,\u001b[0m \u001b[0mbs1\u001b[0m\u001b[1;33m.\u001b[0m\u001b[0msplO\u001b[0m\u001b[1;33m[\u001b[0m\u001b[1;36m2\u001b[0m\u001b[1;33m]\u001b[0m\u001b[1;33m,\u001b[0m \u001b[0mbs1\u001b[0m\u001b[1;33m.\u001b[0m\u001b[0msplM\u001b[0m\u001b[1;33m[\u001b[0m\u001b[1;36m2\u001b[0m\u001b[1;33m]\u001b[0m\u001b[1;33m,\u001b[0m \u001b[0mtau\u001b[0m\u001b[1;33m=\u001b[0m\u001b[1;36m.1\u001b[0m\u001b[1;33m,\u001b[0m \u001b[0mEF\u001b[0m\u001b[1;33m=\u001b[0m\u001b[0mEF\u001b[0m\u001b[1;33m)\u001b[0m\u001b[1;33m\u001b[0m\u001b[1;33m\u001b[0m\u001b[0m\n",
      "\u001b[1;31mNameError\u001b[0m: name '_M_integral2' is not defined"
     ]
    }
   ],
   "source": [
    "M1 = _M_integral2(bs1.kx, bs1.ky, splgradfeq, bs1.splE[2], bs1.splO[2], bs1.splM[2], tau=.1, EF=EF)\n",
    "M2 = _M_integral(bs1.kx, bs1.ky, feq[2], bs1.splE[2], bs1.splO[2], bs1.splM[2], tau=.1, EF=EF)"
   ]
  },
  {
   "cell_type": "code",
   "execution_count": 116,
   "metadata": {},
   "outputs": [
    {
     "data": {
      "text/plain": [
       "((3.6099671602436266e-25, 3.610153108915174e-25, 4.066129140796916e-28),\n",
       " array([ 3.61015311e-25, -5.32019371e-36]))"
      ]
     },
     "execution_count": 116,
     "metadata": {},
     "output_type": "execute_result"
    }
   ],
   "source": [
    "M1, M2"
   ]
  },
  {
   "cell_type": "markdown",
   "metadata": {},
   "source": [
    "# Integrate another function by parts"
   ]
  },
  {
   "cell_type": "code",
   "execution_count": 16,
   "metadata": {},
   "outputs": [],
   "source": [
    "def ff(x, y):\n",
    "    return np.exp(-(x**2+y**2))\n",
    "\n",
    "def ffx(x,y):\n",
    "    return -2*x*np.exp(-(x**2+y**2))\n",
    "\n",
    "def gg(x, y):\n",
    "    return np.exp(-((x-1)**2+(y+1)**2))\n",
    "\n",
    "def ggx(x, y):\n",
    "    return -2*(x-1)*np.exp(-((x-1)**2+(y+1)**2))"
   ]
  },
  {
   "cell_type": "code",
   "execution_count": 18,
   "metadata": {},
   "outputs": [
    {
     "data": {
      "text/plain": [
       "<matplotlib.collections.QuadMesh at 0x270802b8088>"
      ]
     },
     "execution_count": 18,
     "metadata": {},
     "output_type": "execute_result"
    },
    {
     "data": {
      "image/png": "[encoded data removed]",
      "text/plain": [
       "<Figure size 432x288 with 2 Axes>"
      ]
     },
     "metadata": {
      "needs_background": "light"
     },
     "output_type": "display_data"
    }
   ],
   "source": [
    "x = np.linspace(-10,10, 1000)\n",
    "y = np.linspace(-10,10, 1000)\n",
    "X, Y = np.meshgrid(x, y, indexing='ij')\n",
    "fig, ax = plt.subplots(2)\n",
    "ax[0].pcolormesh(X,Y, ff(X, Y)*ggx(X,Y))\n",
    "ax[1].pcolormesh(X,Y, -ffx(X, Y)*gg(X,Y))"
   ]
  },
  {
   "cell_type": "code",
   "execution_count": 35,
   "metadata": {},
   "outputs": [],
   "source": [
    "from scipy.integrate import simps"
   ]
  },
  {
   "cell_type": "code",
   "execution_count": 55,
   "metadata": {},
   "outputs": [],
   "source": [
    "def integral(x, y, f, g):\n",
    "    fx = np.gradient(f, x[:,0], axis=-2)\n",
    "    return simps(simps(fx*g, y[0,:], axis=-1), x[:,0], axis=-1)\n",
    "\n",
    "def integral_by_parts(x, y, f, g):\n",
    "    gx = np.gradient(g, x[:,0], axis=-2)\n",
    "    return -simps(simps(f*gx, y[0,:], axis=-1), x[:,0], axis=-1)\n",
    "    "
   ]
  },
  {
   "cell_type": "code",
   "execution_count": 56,
   "metadata": {},
   "outputs": [
    {
     "data": {
      "text/plain": [
       "(-0.5777864767183405, -0.5777864767183405)"
      ]
     },
     "execution_count": 56,
     "metadata": {},
     "output_type": "execute_result"
    }
   ],
   "source": [
    "integral(X, Y, ff(X, Y), gg(X, Y)), integral_by_parts(X, Y, ff(X, Y),gg(X, Y))"
   ]
  },
  {
   "cell_type": "code",
   "execution_count": 169,
   "metadata": {},
   "outputs": [],
   "source": [
    "from blg_strain.utils.const import *\n",
    "tau = 0.01\n",
    "EF = 0.01\n",
    "\n",
    "kx = bs1.kx\n",
    "ky = bs1.ky"
   ]
  },
  {
   "cell_type": "code",
   "execution_count": 217,
   "metadata": {},
   "outputs": [],
   "source": [
    "feq = feq_func(bs1.E[2], EF, T=10)\n",
    "feqx = np.array(np.gradient(feq, kx, ky, axis=(-2, -1)))\n",
    "\n",
    "g = (bs1.Mu[2] * muB + q * bs1.Omega[2] / hbar * (EF- bs1.E[2]))"
   ]
  },
  {
   "cell_type": "code",
   "execution_count": 218,
   "metadata": {},
   "outputs": [
    {
     "data": {
      "text/plain": [
       "array([ 7.33669212e-19, -1.01605806e-29])"
      ]
     },
     "execution_count": 218,
     "metadata": {},
     "output_type": "execute_result"
    }
   ],
   "source": [
    "simps(simps(feqx * g, ky, axis=-1), kx, axis=-1)"
   ]
  },
  {
   "cell_type": "code",
   "execution_count": 219,
   "metadata": {},
   "outputs": [],
   "source": [
    "# gx = np.gradient(g, kx, axis=-2)\n",
    "E_grad = np.array([bs1.splE[2](kx, ky, dx=1), bs1.splE[2](kx, ky, dy=1)])\n",
    "O_grad = np.array([bs1.splO[2](kx, ky, dx=1), bs1.splO[2](kx, ky, dy=1)])\n",
    "Mu_grad = np.array([bs1.splM[2](kx, ky, dx=1), bs1.splM[2](kx, ky, dy=1)])\n",
    "\n",
    "prefactor = - feq\n",
    "gx = prefactor * (Mu_grad * muB \\\n",
    "    + q * O_grad / hbar * (EF - bs1.splE[2](kx, ky)) \\\n",
    "    + q * bs1.splO[2](kx, ky) / hbar * (-E_grad))"
   ]
  },
  {
   "cell_type": "code",
   "execution_count": 220,
   "metadata": {},
   "outputs": [
    {
     "data": {
      "text/plain": [
       "array([ 5.48361335e-20, -2.91139744e-30])"
      ]
     },
     "execution_count": 220,
     "metadata": {},
     "output_type": "execute_result"
    }
   ],
   "source": [
    "simps(simps(feq * gx, ky, axis=-1), kx, axis=-1)"
   ]
  },
  {
   "cell_type": "code",
   "execution_count": 104,
   "metadata": {},
   "outputs": [
    {
     "data": {
      "text/plain": [
       "(array([[ 1.56698035e-09,  1.56623719e-09,  1.56548163e-09, ...,\n",
       "         -1.56548163e-09, -1.56623719e-09, -1.56698035e-09],\n",
       "        [ 1.57359460e-09,  1.57285649e-09,  1.57210592e-09, ...,\n",
       "         -1.57210592e-09, -1.57285649e-09, -1.57359460e-09],\n",
       "        [ 1.58023664e-09,  1.57950365e-09,  1.57875814e-09, ...,\n",
       "         -1.57875814e-09, -1.57950365e-09, -1.58023664e-09],\n",
       "        ...,\n",
       "        [ 1.57131779e-09,  1.57511314e-09,  1.57891947e-09, ...,\n",
       "         -1.57891947e-09, -1.57511314e-09, -1.57131779e-09],\n",
       "        [ 1.56940815e-09,  1.57319634e-09,  1.57699549e-09, ...,\n",
       "         -1.57699549e-09, -1.57319634e-09, -1.56940815e-09],\n",
       "        [ 1.56749939e-09,  1.57128043e-09,  1.57507240e-09, ...,\n",
       "         -1.57507240e-09, -1.57128043e-09, -1.56749939e-09]]),\n",
       " array([[ 1.56660981e-09,  1.56623512e-09,  1.56547956e-09, ...,\n",
       "         -1.56547956e-09, -1.56623512e-09, -1.56660981e-09],\n",
       "        [ 1.57322658e-09,  1.57285441e-09,  1.57210384e-09, ...,\n",
       "         -1.57210384e-09, -1.57285441e-09, -1.57322658e-09],\n",
       "        [ 1.57987119e-09,  1.57950156e-09,  1.57875606e-09, ...,\n",
       "         -1.57875606e-09, -1.57950156e-09, -1.57987119e-09],\n",
       "        ...,\n",
       "        [ 1.57321455e-09,  1.57511497e-09,  1.57892130e-09, ...,\n",
       "         -1.57892130e-09, -1.57511497e-09, -1.57321455e-09],\n",
       "        [ 1.57130134e-09,  1.57319817e-09,  1.57699732e-09, ...,\n",
       "         -1.57699732e-09, -1.57319817e-09, -1.57130134e-09],\n",
       "        [ 1.56938900e-09,  1.57128225e-09,  1.57507422e-09, ...,\n",
       "         -1.57507422e-09, -1.57128225e-09, -1.56938900e-09]]))"
      ]
     },
     "execution_count": 104,
     "metadata": {},
     "output_type": "execute_result"
    }
   ],
   "source": [
    "bs1.splM[2](kx, ky, dy=1), np.gradient(bs1.Mu[2], ky, axis=-1)"
   ]
  },
  {
   "cell_type": "code",
   "execution_count": 42,
   "metadata": {},
   "outputs": [],
   "source": [
    "kx, ky = bs1.kx, bs1.ky\n",
    "feq = feq_func(bs1.E[2], EF, T=30)\n",
    "feqx = np.array(np.gradient(feq, kx, ky, axis=(-2, -1)))"
   ]
  },
  {
   "cell_type": "code",
   "execution_count": 43,
   "metadata": {},
   "outputs": [
    {
     "data": {
      "text/plain": [
       "<matplotlib.collections.QuadMesh at 0x28829c3f108>"
      ]
     },
     "execution_count": 43,
     "metadata": {},
     "output_type": "execute_result"
    },
    {
     "data": {
      "image/png": "[encoded data removed]",
      "text/plain": [
       "<Figure size 720x288 with 3 Axes>"
      ]
     },
     "metadata": {
      "needs_background": "light"
     },
     "output_type": "display_data"
    }
   ],
   "source": [
    "fig, ax = plt.subplots(ncols=3, figsize=(10,4))\n",
    "ax[0].pcolormesh(kx, ky, feq.T)\n",
    "ax[1].pcolormesh(kx, ky, feqx[0].T)\n",
    "ax[2].pcolormesh(kx, ky, feqx[1].T)"
   ]
  },
  {
   "cell_type": "code",
   "execution_count": null,
   "metadata": {},
   "outputs": [],
   "source": []
  }
 ],
 "metadata": {
  "kernelspec": {
   "display_name": "Python 3",
   "language": "python",
   "name": "python3"
  },
  "language_info": {
   "codemirror_mode": {
    "name": "ipython",
    "version": 3
   },
   "file_extension": ".py",
   "mimetype": "text/x-python",
   "name": "python",
   "nbconvert_exporter": "python",
   "pygments_lexer": "ipython3",
   "version": "3.7.4"
  }
 },
 "nbformat": 4,
 "nbformat_minor": 2
}
