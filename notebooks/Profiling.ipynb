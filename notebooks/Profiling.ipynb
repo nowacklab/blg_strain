{
 "cells": [
  {
   "cell_type": "code",
   "execution_count": 1,
   "metadata": {},
   "outputs": [],
   "source": [
    "import numpy as np"
   ]
  },
  {
   "cell_type": "code",
   "execution_count": 2,
   "metadata": {},
   "outputs": [],
   "source": [
    "from blg_strain.hamiltonian import Hfunc"
   ]
  },
  {
   "cell_type": "code",
   "execution_count": 3,
   "metadata": {},
   "outputs": [],
   "source": [
    "kxlims=[-0.35e9, .35e9]\n",
    "kylims=[-0.35e9, .35e9]\n",
    "Nkx, Nky = 1000, 1000\n",
    "\n",
    "kx = np.linspace(kxlims[0], kxlims[1], Nkx)\n",
    "ky = np.linspace(kylims[0], kylims[1], Nky)\n",
    "\n",
    "Kx, Ky = np.meshgrid(kx, ky, indexing='ij')"
   ]
  },
  {
   "cell_type": "markdown",
   "metadata": {},
   "source": [
    "# Eigenvalues of Hamiltonian\n",
    "calculating eigenvalues is the slowest step"
   ]
  },
  {
   "cell_type": "code",
   "execution_count": 4,
   "metadata": {},
   "outputs": [
    {
     "name": "stdout",
     "output_type": "stream",
     "text": [
      "393 ms ± 33.3 ms per loop (mean ± std. dev. of 7 runs, 1 loop each)\n"
     ]
    }
   ],
   "source": [
    "%%timeit\n",
    "H = Hfunc(Kx, Ky)\n",
    "H = H.transpose(2,3,0,1) # put the 4x4 in the last 2 dims for eigh"
   ]
  },
  {
   "cell_type": "code",
   "execution_count": 4,
   "metadata": {},
   "outputs": [],
   "source": [
    "H = Hfunc(Kx, Ky)\n",
    "H = H.transpose(2,3,0,1) # put the 4x4 in the last 2 dims for eigh"
   ]
  },
  {
   "cell_type": "code",
   "execution_count": 7,
   "metadata": {},
   "outputs": [
    {
     "name": "stdout",
     "output_type": "stream",
     "text": [
      "3.59 s ± 60.5 ms per loop (mean ± std. dev. of 7 runs, 1 loop each)\n"
     ]
    }
   ],
   "source": [
    "%%timeit\n",
    "E, Psi = np.linalg.eigh(H)  # using eigh for Hermitian\n",
    "                            # eigenvalues are real and sorted (low to high)\n",
    "# Shapes - E: Nkx x Nky x 4, Psi: Nkx x Nky x 4 x 4"
   ]
  },
  {
   "cell_type": "code",
   "execution_count": 5,
   "metadata": {},
   "outputs": [],
   "source": [
    "E, Psi = np.linalg.eigh(H)"
   ]
  },
  {
   "cell_type": "code",
   "execution_count": 12,
   "metadata": {},
   "outputs": [
    {
     "name": "stdout",
     "output_type": "stream",
     "text": [
      "579 ns ± 4.96 ns per loop (mean ± std. dev. of 7 runs, 1000000 loops each)\n"
     ]
    }
   ],
   "source": [
    "%%timeit\n",
    "E2 = E.transpose(2,0,1) # put the kx,ky points in last 2 dims\n",
    "Psi2 = Psi.transpose(2,3,0,1) # put the kx,ky points in last 2 dims\n",
    "# now E[:, 0, 0] is a length-4 array of eigenvalues"
   ]
  },
  {
   "cell_type": "code",
   "execution_count": 6,
   "metadata": {},
   "outputs": [],
   "source": [
    "E = E.transpose(2,0,1) # put the kx,ky points in last 2 dims\n",
    "Psi = Psi.transpose(2,3,0,1) # put the kx,ky points in last 2 dims"
   ]
  },
  {
   "cell_type": "code",
   "execution_count": 16,
   "metadata": {},
   "outputs": [
    {
     "name": "stdout",
     "output_type": "stream",
     "text": [
      "216 ms ± 973 µs per loop (mean ± std. dev. of 7 runs, 10 loops each)\n"
     ]
    }
   ],
   "source": [
    "%%timeit\n",
    "multiplier = 2 * (Psi[0, :, :, :].real > 0) - 1  # shape 4 x Nkx x Nky\n",
    "Psi2 = Psi* multiplier \n",
    "Psi2 = Psi2.transpose((1,0,2,3))"
   ]
  },
  {
   "cell_type": "code",
   "execution_count": 7,
   "metadata": {},
   "outputs": [],
   "source": [
    "multiplier = 2 * (Psi[0, :, :, :].real > 0) - 1  # shape 4 x Nkx x Nky\n",
    "Psi *= multiplier \n",
    "Psi = Psi.transpose((1,0,2,3))"
   ]
  },
  {
   "cell_type": "markdown",
   "metadata": {},
   "source": [
    "# Berry"
   ]
  },
  {
   "cell_type": "code",
   "execution_count": 8,
   "metadata": {},
   "outputs": [],
   "source": [
    "from blg_strain.hamiltonian import H_dkx, H_dky"
   ]
  },
  {
   "cell_type": "code",
   "execution_count": 9,
   "metadata": {},
   "outputs": [],
   "source": [
    "hdkx, hdky = H_dkx(1), H_dky()  # 4x4 matrices\n",
    "\n",
    "Omega = np.zeros_like(E)  # 4 x Nkx x Nky\n",
    "Mu = np.zeros_like(E)"
   ]
  },
  {
   "cell_type": "code",
   "execution_count": 24,
   "metadata": {},
   "outputs": [
    {
     "name": "stdout",
     "output_type": "stream",
     "text": [
      "396 ms ± 5.59 ms per loop (mean ± std. dev. of 7 runs, 1 loop each)\n"
     ]
    }
   ],
   "source": [
    "%%timeit\n",
    "psi_n = Psi[0]\n",
    "psi_m = Psi[1]\n",
    "prod1 = np.einsum('ijk,il,ljk->jk', psi_n.conj(), hdkx, psi_m)\n",
    "prod2 = np.einsum('ijk,il,ljk->jk', psi_m.conj(), hdky, psi_n)"
   ]
  },
  {
   "cell_type": "code",
   "execution_count": 27,
   "metadata": {},
   "outputs": [
    {
     "name": "stdout",
     "output_type": "stream",
     "text": [
      "77.7 ms ± 501 µs per loop (mean ± std. dev. of 7 runs, 10 loops each)\n"
     ]
    }
   ],
   "source": [
    "%%timeit\n",
    "Omega[n] += np.imag(prod1 * prod2 / (e_n - e_m) ** 2)\n",
    "Mu[n] += np.imag(prod1 * prod2 / (e_n - e_m))"
   ]
  },
  {
   "cell_type": "code",
   "execution_count": 48,
   "metadata": {},
   "outputs": [
    {
     "name": "stdout",
     "output_type": "stream",
     "text": [
      "4.41 s ± 116 ms per loop (mean ± std. dev. of 7 runs, 1 loop each)\n"
     ]
    }
   ],
   "source": [
    "%%timeit\n",
    "for n, (e_n, psi_n) in enumerate(zip(E, Psi)):\n",
    "    for m, (e_m, psi_m) in enumerate(zip(E, Psi)):\n",
    "        if n == m: # sum runs over n != m\n",
    "            continue\n",
    "\n",
    "        prod1 = np.einsum('ijk,il,ljk->jk', psi_n.conj(), hdkx, psi_m, optimize=True)\n",
    "        prod2 = np.einsum('ijk,il,ljk->jk', psi_m.conj(), hdky, psi_n, optimize=True)\n",
    "\n",
    "        Omega[n] += np.imag(prod1 * prod2 / (e_n - e_m) ** 2)\n",
    "        Mu[n] += np.imag(prod1 * prod2 / (e_n - e_m))"
   ]
  },
  {
   "cell_type": "code",
   "execution_count": 41,
   "metadata": {},
   "outputs": [],
   "source": [
    "for n, (e_n, psi_n) in enumerate(zip(E, Psi)):\n",
    "    for m, (e_m, psi_m) in enumerate(zip(E, Psi)):\n",
    "        if n == m: # sum runs over n != m\n",
    "            continue\n",
    "\n",
    "        prod1 = np.einsum('ijk,il,ljk->jk', psi_n.conj(), hdkx, psi_m)\n",
    "        prod2 = np.einsum('ijk,il,ljk->jk', psi_m.conj(), hdky, psi_n)\n",
    "\n",
    "        Omega[n] += np.imag(prod1 * prod2 / (e_n - e_m) ** 2)\n",
    "        Mu[n] += np.imag(prod1 * prod2 / (e_n - e_m))"
   ]
  },
  {
   "cell_type": "markdown",
   "metadata": {},
   "source": [
    "Non-looping version:"
   ]
  },
  {
   "cell_type": "code",
   "execution_count": 40,
   "metadata": {},
   "outputs": [
    {
     "name": "stdout",
     "output_type": "stream",
     "text": [
      "10.2 s ± 384 ms per loop (mean ± std. dev. of 7 runs, 1 loop each)\n"
     ]
    }
   ],
   "source": [
    "%%timeit\n",
    "Enm = E.reshape(4,1, E.shape[-2], E.shape[-1]) - E.reshape(1,4, E.shape[-2], E.shape[-1])\n",
    "for i in range(4):\n",
    "    Enm[i,i,:,:] = 1e100 # make diagonal components go to zero when divide by Enm\n",
    "\n",
    "\n",
    "# compute matrix products then sum the products\n",
    "prod1 = np.einsum('nikl,ij,mjkl->nmkl', Psi.conj(), hdkx, Psi)\n",
    "prod2 = np.einsum('mikl,ij,njkl->nmkl', Psi.conj(), hdky, Psi)\n",
    "Omega = np.sum(np.imag(prod1*prod2/Enm**2), axis=1)  # sum over m\n",
    "Mu = np.sum(np.imag(prod1*prod2/Enm), axis=1)  # sum over m"
   ]
  },
  {
   "cell_type": "code",
   "execution_count": null,
   "metadata": {},
   "outputs": [],
   "source": [
    "Enm = E.reshape(4,1, E.shape[-2], E.shape[-1]) - E.reshape(1,4, E.shape[-2], E.shape[-1])\n",
    "for i in range(4):\n",
    "    Enm[i,i,:,:] = 1e100 # make diagonal components go to zero when divide by Enm\n",
    "\n",
    "\n",
    "# compute matrix products then sum the products\n",
    "prod1 = np.einsum('nikl,ij,mjkl->nmkl', Psi.conj(), hdkx, Psi)\n",
    "prod2 = np.einsum('mikl,ij,njkl->nmkl', Psi.conj(), hdky, Psi)\n",
    "Omega = np.sum(np.imag(prod1*prod2/Enm**2), axis=1)  # sum over m\n",
    "Mu = np.sum(np.imag(prod1*prod2/Enm), axis=1)  # sum over m"
   ]
  },
  {
   "cell_type": "markdown",
   "metadata": {},
   "source": [
    "Looping `tensordot` version - memory error!"
   ]
  },
  {
   "cell_type": "code",
   "execution_count": 49,
   "metadata": {},
   "outputs": [],
   "source": [
    "hdkx, hdky = H_dkx(1), H_dky()  # 4x4 matrices\n",
    "\n",
    "Omega = np.zeros_like(E)  # 4 x Nkx x Nky\n",
    "Mu = np.zeros_like(E)"
   ]
  },
  {
   "cell_type": "code",
   "execution_count": null,
   "metadata": {},
   "outputs": [],
   "source": [
    "for n, (e_n, psi_n) in enumerate(zip(E, Psi)):\n",
    "    for m, (e_m, psi_m) in enumerate(zip(E, Psi)):\n",
    "        if n == m: # sum runs over n != m\n",
    "            continue\n",
    "\n",
    "        prod1 = np.einsum('ijk,il,ljk->jk', psi_n.conj(), hdkx, psi_m)\n",
    "        prod2 = np.einsum('ijk,il,ljk->jk', psi_m.conj(), hdky, psi_n)\n",
    "\n",
    "        Omega[n] += np.imag(prod1 * prod2 / (e_n - e_m) ** 2)\n",
    "        Mu[n] += np.imag(prod1 * prod2 / (e_n - e_m))"
   ]
  },
  {
   "cell_type": "code",
   "execution_count": 57,
   "metadata": {},
   "outputs": [
    {
     "ename": "MemoryError",
     "evalue": "",
     "output_type": "error",
     "traceback": [
      "\u001b[1;31m---------------------------------------------------------------------------\u001b[0m",
      "\u001b[1;31mMemoryError\u001b[0m                               Traceback (most recent call last)",
      "\u001b[1;32m<ipython-input-57-1067305634d1>\u001b[0m in \u001b[0;36m<module>\u001b[1;34m\u001b[0m\n\u001b[0;32m      1\u001b[0m \u001b[0mprod1\u001b[0m \u001b[1;33m=\u001b[0m \u001b[0mnp\u001b[0m\u001b[1;33m.\u001b[0m\u001b[0mtensordot\u001b[0m\u001b[1;33m(\u001b[0m\u001b[0mpsi_n\u001b[0m\u001b[1;33m.\u001b[0m\u001b[0mconj\u001b[0m\u001b[1;33m(\u001b[0m\u001b[1;33m)\u001b[0m\u001b[1;33m,\u001b[0m \u001b[0mhdkx\u001b[0m\u001b[1;33m,\u001b[0m \u001b[0maxes\u001b[0m\u001b[1;33m=\u001b[0m\u001b[1;33m[\u001b[0m\u001b[1;33m[\u001b[0m\u001b[1;36m0\u001b[0m\u001b[1;33m]\u001b[0m\u001b[1;33m,\u001b[0m\u001b[1;33m[\u001b[0m\u001b[1;36m0\u001b[0m\u001b[1;33m]\u001b[0m\u001b[1;33m]\u001b[0m\u001b[1;33m)\u001b[0m\u001b[1;33m\u001b[0m\u001b[1;33m\u001b[0m\u001b[0m\n\u001b[1;32m----> 2\u001b[1;33m \u001b[0mprod2\u001b[0m \u001b[1;33m=\u001b[0m \u001b[0mnp\u001b[0m\u001b[1;33m.\u001b[0m\u001b[0mtensordot\u001b[0m\u001b[1;33m(\u001b[0m\u001b[0mprod1\u001b[0m\u001b[1;33m,\u001b[0m \u001b[0mpsi_m\u001b[0m\u001b[1;33m,\u001b[0m \u001b[0maxes\u001b[0m\u001b[1;33m=\u001b[0m\u001b[1;33m[\u001b[0m\u001b[1;33m[\u001b[0m\u001b[1;33m-\u001b[0m\u001b[1;36m1\u001b[0m\u001b[1;33m]\u001b[0m\u001b[1;33m,\u001b[0m\u001b[1;33m[\u001b[0m\u001b[1;36m0\u001b[0m\u001b[1;33m]\u001b[0m\u001b[1;33m]\u001b[0m\u001b[1;33m)\u001b[0m\u001b[1;33m\u001b[0m\u001b[1;33m\u001b[0m\u001b[0m\n\u001b[0m",
      "\u001b[1;32m~\\Anaconda3\\lib\\site-packages\\numpy\\core\\numeric.py\u001b[0m in \u001b[0;36mtensordot\u001b[1;34m(a, b, axes)\u001b[0m\n\u001b[0;32m   1391\u001b[0m     \u001b[0mat\u001b[0m \u001b[1;33m=\u001b[0m \u001b[0ma\u001b[0m\u001b[1;33m.\u001b[0m\u001b[0mtranspose\u001b[0m\u001b[1;33m(\u001b[0m\u001b[0mnewaxes_a\u001b[0m\u001b[1;33m)\u001b[0m\u001b[1;33m.\u001b[0m\u001b[0mreshape\u001b[0m\u001b[1;33m(\u001b[0m\u001b[0mnewshape_a\u001b[0m\u001b[1;33m)\u001b[0m\u001b[1;33m\u001b[0m\u001b[1;33m\u001b[0m\u001b[0m\n\u001b[0;32m   1392\u001b[0m     \u001b[0mbt\u001b[0m \u001b[1;33m=\u001b[0m \u001b[0mb\u001b[0m\u001b[1;33m.\u001b[0m\u001b[0mtranspose\u001b[0m\u001b[1;33m(\u001b[0m\u001b[0mnewaxes_b\u001b[0m\u001b[1;33m)\u001b[0m\u001b[1;33m.\u001b[0m\u001b[0mreshape\u001b[0m\u001b[1;33m(\u001b[0m\u001b[0mnewshape_b\u001b[0m\u001b[1;33m)\u001b[0m\u001b[1;33m\u001b[0m\u001b[1;33m\u001b[0m\u001b[0m\n\u001b[1;32m-> 1393\u001b[1;33m     \u001b[0mres\u001b[0m \u001b[1;33m=\u001b[0m \u001b[0mdot\u001b[0m\u001b[1;33m(\u001b[0m\u001b[0mat\u001b[0m\u001b[1;33m,\u001b[0m \u001b[0mbt\u001b[0m\u001b[1;33m)\u001b[0m\u001b[1;33m\u001b[0m\u001b[1;33m\u001b[0m\u001b[0m\n\u001b[0m\u001b[0;32m   1394\u001b[0m     \u001b[1;32mreturn\u001b[0m \u001b[0mres\u001b[0m\u001b[1;33m.\u001b[0m\u001b[0mreshape\u001b[0m\u001b[1;33m(\u001b[0m\u001b[0molda\u001b[0m \u001b[1;33m+\u001b[0m \u001b[0moldb\u001b[0m\u001b[1;33m)\u001b[0m\u001b[1;33m\u001b[0m\u001b[1;33m\u001b[0m\u001b[0m\n\u001b[0;32m   1395\u001b[0m \u001b[1;33m\u001b[0m\u001b[0m\n",
      "\u001b[1;31mMemoryError\u001b[0m: "
     ]
    }
   ],
   "source": [
    "prod1 = np.tensordot(psi_n.conj(), hdkx, axes=[[0],[0]])\n",
    "prod2 = np.tensordot(prod1, psi_m, axes=[[-1],[0]])"
   ]
  },
  {
   "cell_type": "markdown",
   "metadata": {},
   "source": [
    "`opt_einsum` package - no difference using numpy backend"
   ]
  },
  {
   "cell_type": "code",
   "execution_count": 12,
   "metadata": {},
   "outputs": [],
   "source": [
    "from opt_einsum import contract"
   ]
  },
  {
   "cell_type": "code",
   "execution_count": null,
   "metadata": {},
   "outputs": [],
   "source": [
    "hdkx, hdky = H_dkx(1), H_dky()  # 4x4 matrices\n",
    "\n",
    "Omega = np.zeros_like(E)  # 4 x Nkx x Nky\n",
    "Mu = np.zeros_like(E)"
   ]
  },
  {
   "cell_type": "code",
   "execution_count": 45,
   "metadata": {},
   "outputs": [
    {
     "name": "stdout",
     "output_type": "stream",
     "text": [
      "4.52 s ± 41.4 ms per loop (mean ± std. dev. of 7 runs, 1 loop each)\n"
     ]
    }
   ],
   "source": [
    "%%timeit\n",
    "Psi_conj = Psi.conj()\n",
    "\n",
    "for n, (e_n, psi_n, psi_n_conj) in enumerate(zip(E, Psi, Psi_conj)):\n",
    "    for m, (e_m, psi_m_conj) in enumerate(zip(E, Psi_conj)):\n",
    "        if n == m: # sum runs over n != m\n",
    "            continue\n",
    "\n",
    "        prod1 = contract('ijk,il,ljk->jk', psi_n_conj, hdkx, psi_m, optimize=True)\n",
    "        prod2 = contract('ijk,il,ljk->jk', psi_m_conj, hdky, psi_n, optimize=True)\n",
    "\n",
    "        Omega[n] += np.imag(prod1 * prod2 / (e_n - e_m) ** 2)\n",
    "        Mu[n] += np.imag(prod1 * prod2 / (e_n - e_m))"
   ]
  },
  {
   "cell_type": "code",
   "execution_count": 44,
   "metadata": {},
   "outputs": [
    {
     "name": "stdout",
     "output_type": "stream",
     "text": [
      " "
     ]
    }
   ],
   "source": [
    "%%prun\n",
    "Psi_conj = Psi.conj()\n",
    "\n",
    "for n, (e_n, psi_n, psi_n_conj) in enumerate(zip(E, Psi, Psi_conj)):\n",
    "    for m, (e_m, psi_m_conj) in enumerate(zip(E, Psi_conj)):\n",
    "        if n == m: # sum runs over n != m\n",
    "            continue\n",
    "\n",
    "        prod1 = contract('ijk,il,ljk->jk', psi_n_conj, hdkx, psi_m, optimize=True)\n",
    "        prod2 = contract('ijk,il,ljk->jk', psi_m_conj, hdky, psi_n, optimize=True)\n",
    "\n",
    "        Omega[n] += np.imag(prod1 * prod2 / (e_n - e_m) ** 2)\n",
    "        Mu[n] += np.imag(prod1 * prod2 / (e_n - e_m))"
   ]
  },
  {
   "cell_type": "code",
   "execution_count": 16,
   "metadata": {},
   "outputs": [],
   "source": [
    "psi_n = Psi[0]\n",
    "psi_m = Psi[1]"
   ]
  },
  {
   "cell_type": "code",
   "execution_count": 17,
   "metadata": {},
   "outputs": [
    {
     "name": "stdout",
     "output_type": "stream",
     "text": [
      "146 ms ± 13.5 ms per loop (mean ± std. dev. of 7 runs, 10 loops each)\n",
      "153 ms ± 21.4 ms per loop (mean ± std. dev. of 7 runs, 10 loops each)\n"
     ]
    }
   ],
   "source": [
    "%timeit prod1 = np.einsum('ijk,il,ljk->jk', psi_n.conj(), hdkx, psi_m, optimize=True)\n",
    "%timeit prod1 = contract('ijk,il,ljk->jk', psi_n.conj(), hdkx, psi_m, optimize=True)"
   ]
  },
  {
   "cell_type": "markdown",
   "metadata": {},
   "source": [
    "tensorflow backend?"
   ]
  },
  {
   "cell_type": "code",
   "execution_count": 35,
   "metadata": {},
   "outputs": [],
   "source": [
    "import tensorflow as tf"
   ]
  },
  {
   "cell_type": "code",
   "execution_count": 30,
   "metadata": {},
   "outputs": [],
   "source": [
    "from opt_einsum import contract_expression, contract"
   ]
  },
  {
   "cell_type": "code",
   "execution_count": 16,
   "metadata": {},
   "outputs": [],
   "source": [
    "psi_n=Psi[0]\n",
    "psi_m=Psi[1]"
   ]
  },
  {
   "cell_type": "code",
   "execution_count": 17,
   "metadata": {},
   "outputs": [],
   "source": [
    "expr = contract_expression('ijk,il,ljk->jk', psi_n.shape, hdkx.shape, psi_n.shape)"
   ]
  },
  {
   "cell_type": "code",
   "execution_count": 32,
   "metadata": {},
   "outputs": [
    {
     "name": "stdout",
     "output_type": "stream",
     "text": [
      "205 ms ± 3.01 ms per loop (mean ± std. dev. of 7 runs, 1 loop each)\n"
     ]
    }
   ],
   "source": [
    "%%timeit\n",
    "prod1 = contract('ijk,il,ljk->jk', psi_n.conj().imag, hdkx, psi_m.real, optimize=True, backend='tensorflow')\n",
    "prod2 = contract('ijk,il,ljk->jk', psi_n.conj().real, hdkx, psi_m.imag, optimize=True, backend='tensorflow')\n",
    "# prod1 = expr(psi_n.conj().imag, hdkx, psi_m.real, backend='tensorflow')\n",
    "# prod2 = expr(psi_n.conj().real, hdkx, psi_m.imag, backend='tensorflow')\n",
    "prod = prod1 + prod2"
   ]
  },
  {
   "cell_type": "code",
   "execution_count": null,
   "metadata": {},
   "outputs": [],
   "source": [
    "# Showing real and imaginary parts explicitly, we have\n",
    "# Imag[(a+bi)*H*(c+di)] = bHc +aHd"
   ]
  },
  {
   "cell_type": "markdown",
   "metadata": {},
   "source": [
    "removed for loop with tensorflow"
   ]
  },
  {
   "cell_type": "code",
   "execution_count": 37,
   "metadata": {},
   "outputs": [
    {
     "name": "stdout",
     "output_type": "stream",
     "text": [
      "5.01 s ± 441 ms per loop (mean ± std. dev. of 7 runs, 1 loop each)\n"
     ]
    }
   ],
   "source": [
    "%%timeit\n",
    "Enm = E.reshape(4,1, E.shape[-2], E.shape[-1]) - E.reshape(1,4, E.shape[-2], E.shape[-1])\n",
    "for i in range(4):\n",
    "    Enm[i,i,:,:] = 1e100 # make diagonal components go to zero when divide by Enm\n",
    "\n",
    "\n",
    "# compute matrix products then sum the products\n",
    "\n",
    "prod1a = contract('nikl,ij,mjkl->nmkl', Psi.conj().imag, hdkx, Psi.real, optimize=True, backend='tensorflow')\n",
    "prod1b = contract('nikl,ij,mjkl->nmkl', Psi.conj().real, hdkx, Psi.imag, optimize=True, backend='tensorflow')\n",
    "prod1 = prod1a + prod1b\n",
    "\n",
    "prod2a = contract('mikl,ij,njkl->nmkl', Psi.conj().imag, hdkx, Psi.real, optimize=True, backend='tensorflow')\n",
    "prod2b = contract('mikl,ij,njkl->nmkl', Psi.conj().real, hdkx, Psi.imag, optimize=True, backend='tensorflow')\n",
    "prod2 = prod2a + prod2b\n",
    "\n",
    "\n",
    "# prod2 = contract('mikl,ij,njkl->nmkl', Psi.conj(), hdky, Psi, backend='tensorflow')\n",
    "Omega = np.sum(np.imag(prod1*prod2/Enm**2), axis=1)  # sum over m\n",
    "Mu = np.sum(np.imag(prod1*prod2/Enm), axis=1)  # sum over m"
   ]
  },
  {
   "cell_type": "code",
   "execution_count": 39,
   "metadata": {},
   "outputs": [
    {
     "name": "stdout",
     "output_type": "stream",
     "text": [
      " "
     ]
    }
   ],
   "source": [
    "%%prun\n",
    "Enm = E.reshape(4,1, E.shape[-2], E.shape[-1]) - E.reshape(1,4, E.shape[-2], E.shape[-1])\n",
    "for i in range(4):\n",
    "    Enm[i,i,:,:] = 1e100 # make diagonal components go to zero when divide by Enm\n",
    "\n",
    "\n",
    "# compute matrix products then sum the products\n",
    "\n",
    "prod1a = contract('nikl,ij,mjkl->nmkl', Psi.conj().imag, hdkx, Psi.real, optimize=True, backend='tensorflow')\n",
    "prod1b = contract('nikl,ij,mjkl->nmkl', Psi.conj().real, hdkx, Psi.imag, optimize=True, backend='tensorflow')\n",
    "prod1 = prod1a + prod1b\n",
    "\n",
    "prod2a = contract('mikl,ij,njkl->nmkl', Psi.conj().imag, hdkx, Psi.real, optimize=True, backend='tensorflow')\n",
    "prod2b = contract('mikl,ij,njkl->nmkl', Psi.conj().real, hdkx, Psi.imag, optimize=True, backend='tensorflow')\n",
    "prod2 = prod2a + prod2b\n",
    "\n",
    "\n",
    "# prod2 = contract('mikl,ij,njkl->nmkl', Psi.conj(), hdky, Psi, backend='tensorflow')\n",
    "Omega = np.sum(np.imag(prod1*prod2/Enm**2), axis=1)  # sum over m\n",
    "Mu = np.sum(np.imag(prod1*prod2/Enm), axis=1)  # sum over m"
   ]
  },
  {
   "cell_type": "code",
   "execution_count": null,
   "metadata": {},
   "outputs": [],
   "source": []
  },
  {
   "cell_type": "code",
   "execution_count": null,
   "metadata": {},
   "outputs": [],
   "source": []
  },
  {
   "cell_type": "code",
   "execution_count": 46,
   "metadata": {},
   "outputs": [
    {
     "name": "stdout",
     "output_type": "stream",
     "text": [
      " "
     ]
    }
   ],
   "source": [
    "%%timeit\n",
    "Psi_conj = Psi.conj()\n",
    "\n",
    "for n, (e_n, psi_n, psi_n_conj) in enumerate(zip(E, Psi, Psi_conj)):\n",
    "    for m, (e_m, psi_m_conj) in enumerate(zip(E, Psi_conj)):\n",
    "        if n == m: # sum runs over n != m\n",
    "            continue\n",
    "\n",
    "        prod1 = np.einsum('ijk,il,ljk->jk', psi_n_conj, hdkx, psi_m, optimize=True)\n",
    "        prod2 = np.einsum('ijk,il,ljk->jk', psi_m_conj, hdky, psi_n, optimize=True)\n",
    "\n",
    "        Omega[n] += np.imag(prod1 * prod2 / (e_n - e_m) ** 2)\n",
    "        Mu[n] += np.imag(prod1 * prod2 / (e_n - e_m))"
   ]
  },
  {
   "cell_type": "markdown",
   "metadata": {},
   "source": [
    "## rewrite einsum to eliminate for loop?"
   ]
  },
  {
   "cell_type": "code",
   "execution_count": 12,
   "metadata": {},
   "outputs": [
    {
     "data": {
      "text/plain": [
       "(4, 1000, 1000)"
      ]
     },
     "execution_count": 12,
     "metadata": {},
     "output_type": "execute_result"
    }
   ],
   "source": [
    "E.shape"
   ]
  },
  {
   "cell_type": "code",
   "execution_count": 14,
   "metadata": {},
   "outputs": [
    {
     "data": {
      "text/plain": [
       "(4, 4, 1000, 1000)"
      ]
     },
     "execution_count": 14,
     "metadata": {},
     "output_type": "execute_result"
    }
   ],
   "source": [
    "Enm = E.reshape(4,1, E.shape[-2], E.shape[-1]) - E.reshape(1,4, E.shape[-2], E.shape[-1])\n",
    "Enm.shape"
   ]
  },
  {
   "cell_type": "code",
   "execution_count": 21,
   "metadata": {},
   "outputs": [],
   "source": [
    "for i in range(4):\n",
    "    Enm[i,i,:,:] = 1e100\n",
    "# when dividing by Enm, diagonal components (n=m) will go to zero"
   ]
  },
  {
   "cell_type": "code",
   "execution_count": 16,
   "metadata": {},
   "outputs": [],
   "source": [
    "# BAD - these sum before multiplying the two inner products\n",
    "prod1 = np.einsum('nikl,ij,mjkl->kl', Psi.conj(), hdkx, Psi)\n",
    "prod2 = np.einsum('mikl,ij,njkl->kl', Psi.conj(), hdky, Psi)"
   ]
  },
  {
   "cell_type": "code",
   "execution_count": null,
   "metadata": {},
   "outputs": [],
   "source": [
    "# this takes too long/hangs\n",
    "prod = np.einsum('nikl,ij,mjkl,nokl,op,mpkl->kl', Psi.conj(), hdkx, Psi, Psi.conj(), hdky, Psi/Enm)"
   ]
  },
  {
   "cell_type": "code",
   "execution_count": 49,
   "metadata": {},
   "outputs": [
    {
     "name": "stdout",
     "output_type": "stream",
     "text": [
      " "
     ]
    }
   ],
   "source": [
    "%%prun\n",
    "# compute matrix products then sum the products\n",
    "prod1 = np.einsum('nikl,ij,mjkl->nmkl', Psi.conj(), hdkx, Psi)\n",
    "prod2 = np.einsum('mikl,ij,njkl->nmkl', Psi.conj(), hdky, Psi)\n",
    "prod = np.sum(np.imag(prod1*prod2/Enm), axis=1)  # sum over m"
   ]
  },
  {
   "cell_type": "code",
   "execution_count": 27,
   "metadata": {
    "scrolled": true
   },
   "outputs": [
    {
     "data": {
      "text/plain": [
       "(4, 1000, 1000)"
      ]
     },
     "execution_count": 27,
     "metadata": {},
     "output_type": "execute_result"
    }
   ],
   "source": [
    "prod.shape"
   ]
  },
  {
   "cell_type": "code",
   "execution_count": null,
   "metadata": {},
   "outputs": [],
   "source": []
  },
  {
   "cell_type": "code",
   "execution_count": null,
   "metadata": {},
   "outputs": [],
   "source": []
  },
  {
   "cell_type": "code",
   "execution_count": null,
   "metadata": {},
   "outputs": [],
   "source": [
    "Omega2 = np.imag(prod1 * prod2)"
   ]
  },
  {
   "cell_type": "code",
   "execution_count": 65,
   "metadata": {},
   "outputs": [],
   "source": [
    "E = np.array([1, 2, 3, 4])"
   ]
  },
  {
   "cell_type": "code",
   "execution_count": 69,
   "metadata": {},
   "outputs": [
    {
     "data": {
      "text/plain": [
       "array([[1],\n",
       "       [2],\n",
       "       [3],\n",
       "       [4]])"
      ]
     },
     "execution_count": 69,
     "metadata": {},
     "output_type": "execute_result"
    }
   ],
   "source": [
    "E.reshape(4,1)"
   ]
  },
  {
   "cell_type": "code",
   "execution_count": 68,
   "metadata": {},
   "outputs": [
    {
     "data": {
      "text/plain": [
       "array([[ 0, -1, -2, -3],\n",
       "       [ 1,  0, -1, -2],\n",
       "       [ 2,  1,  0, -1],\n",
       "       [ 3,  2,  1,  0]])"
      ]
     },
     "execution_count": 68,
     "metadata": {},
     "output_type": "execute_result"
    }
   ],
   "source": [
    "E.reshape(4,1) - E.reshape(1,4)"
   ]
  },
  {
   "cell_type": "code",
   "execution_count": null,
   "metadata": {},
   "outputs": [],
   "source": [
    "Omega = np.imag(prod1 * prod2 / )"
   ]
  },
  {
   "cell_type": "code",
   "execution_count": 33,
   "metadata": {},
   "outputs": [],
   "source": [
    "import matplotlib.pyplot as plt"
   ]
  },
  {
   "cell_type": "code",
   "execution_count": 36,
   "metadata": {},
   "outputs": [
    {
     "data": {
      "text/plain": [
       "<matplotlib.collections.QuadMesh at 0x1d1941923c8>"
      ]
     },
     "execution_count": 36,
     "metadata": {},
     "output_type": "execute_result"
    },
    {
     "data": {
      "image/png": "[encoded data removed]",
      "text/plain": [
       "<Figure size 432x288 with 1 Axes>"
      ]
     },
     "metadata": {
      "needs_background": "light"
     },
     "output_type": "display_data"
    }
   ],
   "source": [
    "fig, ax = plt.subplots()\n",
    "ax.pcolormesh(kx, ky, Mu[2])"
   ]
  },
  {
   "cell_type": "code",
   "execution_count": 38,
   "metadata": {},
   "outputs": [
    {
     "data": {
      "text/plain": [
       "(-2.872962451952862e-34, -2.872962451952862e-34)"
      ]
     },
     "execution_count": 38,
     "metadata": {},
     "output_type": "execute_result"
    }
   ],
   "source": [
    "Mu[0,27,0], prod[0,27,0]"
   ]
  },
  {
   "cell_type": "code",
   "execution_count": null,
   "metadata": {},
   "outputs": [],
   "source": [
    "\n"
   ]
  }
 ],
 "metadata": {
  "kernelspec": {
   "display_name": "Python 3",
   "language": "python",
   "name": "python3"
  },
  "language_info": {
   "codemirror_mode": {
    "name": "ipython",
    "version": 3
   },
   "file_extension": ".py",
   "mimetype": "text/x-python",
   "name": "python",
   "nbconvert_exporter": "python",
   "pygments_lexer": "ipython3",
   "version": "3.7.4"
  }
 },
 "nbformat": 4,
 "nbformat_minor": 2
}
