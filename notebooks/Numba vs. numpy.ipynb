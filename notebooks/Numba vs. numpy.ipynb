{
 "cells": [
  {
   "cell_type": "markdown",
   "metadata": {},
   "source": [
    "# Numpy"
   ]
  },
  {
   "cell_type": "code",
   "execution_count": 2,
   "metadata": {},
   "outputs": [],
   "source": [
    "import numpy as np\n",
    "import matplotlib.pyplot as plt\n",
    "\n",
    "from blg_strain.bands import get_bands, _get_bands\n",
    "\n",
    "Nkx, Nky = 1000, 1000  # number of points in k space\n",
    "Delta = 0.01  # interlayer asymmetry, eV\n",
    "delta = -0.02  # uniaxial strain\n",
    "theta = 0"
   ]
  },
  {
   "cell_type": "code",
   "execution_count": 3,
   "metadata": {},
   "outputs": [],
   "source": [
    "import time"
   ]
  },
  {
   "cell_type": "code",
   "execution_count": 4,
   "metadata": {},
   "outputs": [],
   "source": [
    "Ns = np.array([10, 20, 50, 100, 200, 500, 1000], dtype=float)\n",
    "ts = np.empty_like(Ns)\n",
    "\n",
    "for i, N in enumerate(Ns):\n",
    "    t0 = time.time()\n",
    "    kx, ky, Kx, Ky, E, Psi, Omega, Mu = get_bands(Nkx=N, Nky=N, xi=1, \\\n",
    "                                    Delta=Delta, delta=delta, theta=theta)\n",
    "    \n",
    "    ts[i] = time.time() - t0"
   ]
  },
  {
   "cell_type": "code",
   "execution_count": 6,
   "metadata": {},
   "outputs": [
    {
     "data": {
      "text/plain": [
       "Text(0, 0.5, 'Time (s)')"
      ]
     },
     "execution_count": 6,
     "metadata": {},
     "output_type": "execute_result"
    },
    {
     "data": {
      "image/png": "[encoded data removed]",
      "text/plain": [
       "<Figure size 432x288 with 1 Axes>"
      ]
     },
     "metadata": {
      "needs_background": "light"
     },
     "output_type": "display_data"
    }
   ],
   "source": [
    "fig, ax = plt.subplots()\n",
    "ax.loglog(Ns, ts, '.')\n",
    "ax.loglog(Ns, 1e-5*Ns**2, '-')\n",
    "ax.set_xlabel('N')\n",
    "ax.set_ylabel('Time (s)')"
   ]
  },
  {
   "cell_type": "code",
   "execution_count": null,
   "metadata": {},
   "outputs": [],
   "source": []
  }
 ],
 "metadata": {
  "kernelspec": {
   "display_name": "Python 3",
   "language": "python",
   "name": "python3"
  },
  "language_info": {
   "codemirror_mode": {
    "name": "ipython",
    "version": 3
   },
   "file_extension": ".py",
   "mimetype": "text/x-python",
   "name": "python",
   "nbconvert_exporter": "python",
   "pygments_lexer": "ipython3",
   "version": "3.7.4"
  }
 },
 "nbformat": 4,
 "nbformat_minor": 2
}
