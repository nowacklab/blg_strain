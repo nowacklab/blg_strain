{
 "cells": [
  {
   "cell_type": "code",
   "execution_count": 1,
   "metadata": {},
   "outputs": [],
   "source": [
    "import numpy as np\n",
    "\n",
    "from blg_strain.lattice import StrainedLattice\n",
    "from blg_strain.bands import BandStructure, FilledBands\n",
    "from blg_strain.utils.utils import print_time"
   ]
  },
  {
   "cell_type": "markdown",
   "metadata": {},
   "source": [
    "# Fixed strain: 1% applied along zigzag axis"
   ]
  },
  {
   "cell_type": "code",
   "execution_count": 2,
   "metadata": {},
   "outputs": [],
   "source": [
    "path = r'E:\\sBLG_data\\2020-08-07'"
   ]
  },
  {
   "cell_type": "code",
   "execution_count": 3,
   "metadata": {},
   "outputs": [],
   "source": [
    "eps = 0.01\n",
    "theta = 0\n",
    "sl = StrainedLattice(0.01, 0)\n",
    "sl.calculate()\n",
    "sl.save(path)"
   ]
  },
  {
   "cell_type": "markdown",
   "metadata": {},
   "source": [
    "## 2D map of ME coef versus $\\Delta$, $E_F$"
   ]
  },
  {
   "cell_type": "code",
   "execution_count": 4,
   "metadata": {},
   "outputs": [],
   "source": [
    "Deltas = np.linspace(-0.05, 0.05, 1)\n",
    "EFs = np.linspace(-0.05, 0.05, 1)"
   ]
  },
  {
   "cell_type": "code",
   "execution_count": 5,
   "metadata": {
    "scrolled": true
   },
   "outputs": [
    {
     "name": "stdout",
     "output_type": "stream",
     "text": [
      "2020-08-07 12:24:06\tDelta: -0.05\n"
     ]
    }
   ],
   "source": [
    "for Delta in Deltas:\n",
    "    print_time({'Delta': Delta})\n",
    "    bs = BandStructure(sl, Delta=Delta)\n",
    "    Nx = 1000\n",
    "    Ny = 1000\n",
    "    bs.calculate(Nx, Ny)\n",
    "    bs.save(path)\n",
    "    \n",
    "    for EF in EFs:\n",
    "        fb = FilledBands(bs, EF=EF, T=0)\n",
    "        fb.calculate()\n",
    "        fb.save(path)"
   ]
  },
  {
   "cell_type": "code",
   "execution_count": 6,
   "metadata": {},
   "outputs": [],
   "source": [
    "fb = FilledBands(bs, EF=EF, T=0)\n",
    "fb.calculate()"
   ]
  },
  {
   "cell_type": "code",
   "execution_count": 7,
   "metadata": {},
   "outputs": [],
   "source": [
    "fb.save('test')"
   ]
  },
  {
   "cell_type": "code",
   "execution_count": 8,
   "metadata": {},
   "outputs": [
    {
     "data": {
      "text/plain": [
       "'test\\\\FilledBands_EF-50.000_T0.0.h5'"
      ]
     },
     "execution_count": 8,
     "metadata": {},
     "output_type": "execute_result"
    }
   ],
   "source": [
    "fb.filename"
   ]
  },
  {
   "cell_type": "code",
   "execution_count": 9,
   "metadata": {},
   "outputs": [],
   "source": [
    "fb = FilledBands.load('test/FilledBands_EF-50.000_T0.0.h5')"
   ]
  },
  {
   "cell_type": "code",
   "execution_count": 11,
   "metadata": {},
   "outputs": [
    {
     "data": {
      "text/plain": [
       "{'sl': <blg_strain.lattice.StrainedLattice at 0x28d90167d48>,\n",
       " 'window': 0.1,\n",
       " 'Delta': -0.05,\n",
       " 'K': <blg_strain.bands.Valley at 0x28d90177708>,\n",
       " 'Kp': <blg_strain.bands.Valley at 0x28d90187048>,\n",
       " 'Nkx': 1000,\n",
       " 'Nky': 1000,\n",
       " 'E0': 0.9438878386540188,\n",
       " 'filename': 'E:\\\\sBLG_data\\\\2020-08-07\\\\BandStructure_Nkx1000_Nky1000_Delta-50.000.h5',\n",
       " 'obj_filenames': ['E:\\\\sBLG_data\\\\2020-08-07\\\\StrainedLattice_eps0.010_theta0.000.h5']}"
      ]
     },
     "execution_count": 11,
     "metadata": {},
     "output_type": "execute_result"
    }
   ],
   "source": [
    "bs.__dict__"
   ]
  },
  {
   "cell_type": "markdown",
   "metadata": {},
   "source": [
    "# Load data and plot map"
   ]
  },
  {
   "cell_type": "code",
   "execution_count": null,
   "metadata": {},
   "outputs": [],
   "source": []
  }
 ],
 "metadata": {
  "kernelspec": {
   "display_name": "Python 3",
   "language": "python",
   "name": "python3"
  },
  "language_info": {
   "codemirror_mode": {
    "name": "ipython",
    "version": 3
   },
   "file_extension": ".py",
   "mimetype": "text/x-python",
   "name": "python",
   "nbconvert_exporter": "python",
   "pygments_lexer": "ipython3",
   "version": "3.7.4"
  }
 },
 "nbformat": 4,
 "nbformat_minor": 2
}
