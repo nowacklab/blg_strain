{
 "cells": [
  {
   "cell_type": "code",
   "execution_count": 18,
   "metadata": {},
   "outputs": [],
   "source": [
    "import numpy as np\n",
    "import os\n",
    "\n",
    "from blg_strain.lattice import StrainedLattice\n",
    "from blg_strain.bands import BandStructure, FilledBands\n",
    "from blg_strain.utils.utils import print_time\n",
    "from blg_strain.utils.saver import Saver"
   ]
  },
  {
   "cell_type": "markdown",
   "metadata": {},
   "source": [
    "# Fixed strain: 1% applied along zigzag axis"
   ]
  },
  {
   "cell_type": "code",
   "execution_count": 7,
   "metadata": {},
   "outputs": [],
   "source": [
    "path = r'E:\\sBLG_data\\2020-08-07'"
   ]
  },
  {
   "cell_type": "code",
   "execution_count": 8,
   "metadata": {},
   "outputs": [],
   "source": [
    "eps = 0.01\n",
    "theta = 0\n",
    "sl = StrainedLattice(0.01, 0)\n",
    "sl.calculate()\n",
    "sl.save(path)"
   ]
  },
  {
   "cell_type": "markdown",
   "metadata": {},
   "source": [
    "## 2D map of ME coef versus $\\Delta$, $E_F$"
   ]
  },
  {
   "cell_type": "code",
   "execution_count": 16,
   "metadata": {},
   "outputs": [],
   "source": [
    "Deltas = np.linspace(-0.05, 0.05, 41)\n",
    "EFs = np.linspace(-0.05, 0.05, 61)\n",
    "ns = np.empty((len(Deltas), len(EFs), 2))\n",
    "alphas = np.empty((len(Deltas), len(EFs), 2))\n",
    "Ds = np.empty((len(Deltas), len(EFs), 2))"
   ]
  },
  {
   "cell_type": "code",
   "execution_count": null,
   "metadata": {},
   "outputs": [],
   "source": [
    "for i, Delta in enumerate(Deltas):\n",
    "    print_time({'Delta': Delta})\n",
    "    bs = BandStructure(sl, Delta=Delta)\n",
    "    Nx = 1000\n",
    "    Ny = 1000\n",
    "    bs.calculate(Nx, Ny)\n",
    "    bs.save()\n",
    "    \n",
    "    for j, EF in enumerate(EFs):\n",
    "        fb = FilledBands(bs, EF=EF, T=0)\n",
    "        fb.calculate()\n",
    "        fb.save()\n",
    "        \n",
    "        ns[i,j] = fb.n\n",
    "        Ds[i,j] = fb.D\n",
    "        alphas[i,j] = fb.alpha"
   ]
  },
  {
   "cell_type": "code",
   "execution_count": 25,
   "metadata": {
    "scrolled": false
   },
   "outputs": [],
   "source": [
    "# Save summary\n",
    "s = Saver()\n",
    "s.EFs = EFs\n",
    "s.Deltas = Deltas\n",
    "s.ns = ns\n",
    "s.Ds = Ds\n",
    "s.alphas = alphas\n",
    "s.save(os.path.splitext(sl.filename)[0] + '\\summary.h5')"
   ]
  },
  {
   "cell_type": "code",
   "execution_count": 26,
   "metadata": {},
   "outputs": [],
   "source": [
    "s = Saver.load(os.path.splitext(sl.filename)[0] + '\\summary.h5')"
   ]
  },
  {
   "cell_type": "markdown",
   "metadata": {},
   "source": [
    "# We need a denser grid, |EF| and |Delta| closer to zero"
   ]
  },
  {
   "cell_type": "code",
   "execution_count": 16,
   "metadata": {},
   "outputs": [],
   "source": [
    "Deltas = np.linspace(-0.05, 0.05, 41)\n",
    "EFs = np.linspace(-0.05, 0.05, 61)\n",
    "ns = np.empty((len(Deltas), len(EFs), 2))\n",
    "alphas = np.empty((len(Deltas), len(EFs), 2))\n",
    "Ds = np.empty((len(Deltas), len(EFs), 2))"
   ]
  },
  {
   "cell_type": "code",
   "execution_count": null,
   "metadata": {},
   "outputs": [],
   "source": [
    "for i, Delta in enumerate(Deltas):\n",
    "    print_time({'Delta': Delta})\n",
    "    bs = BandStructure(sl, Delta=Delta)\n",
    "    Nx = 1000\n",
    "    Ny = 1000\n",
    "    bs.calculate(Nx, Ny)\n",
    "    bs.save()\n",
    "    \n",
    "    for j, EF in enumerate(EFs):\n",
    "        fb = FilledBands(bs, EF=EF, T=0)\n",
    "        fb.calculate()\n",
    "        fb.save()\n",
    "        \n",
    "        ns[i,j] = fb.n\n",
    "        Ds[i,j] = fb.D\n",
    "        alphas[i,j] = fb.alpha"
   ]
  },
  {
   "cell_type": "code",
   "execution_count": 25,
   "metadata": {
    "scrolled": false
   },
   "outputs": [],
   "source": [
    "# Save summary\n",
    "s = Saver()\n",
    "s.EFs = EFs\n",
    "s.Deltas = Deltas\n",
    "s.ns = ns\n",
    "s.Ds = Ds\n",
    "s.alphas = alphas\n",
    "s.save(os.path.splitext(sl.filename)[0] + '\\summary.h5')"
   ]
  }
 ],
 "metadata": {
  "kernelspec": {
   "display_name": "Python 3",
   "language": "python",
   "name": "python3"
  },
  "language_info": {
   "codemirror_mode": {
    "name": "ipython",
    "version": 3
   },
   "file_extension": ".py",
   "mimetype": "text/x-python",
   "name": "python",
   "nbconvert_exporter": "python",
   "pygments_lexer": "ipython3",
   "version": "3.7.4"
  }
 },
 "nbformat": 4,
 "nbformat_minor": 2
}
