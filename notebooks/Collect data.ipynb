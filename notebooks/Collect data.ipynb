{
 "cells": [
  {
   "cell_type": "code",
   "execution_count": 6,
   "metadata": {},
   "outputs": [],
   "source": [
    "import numpy as np\n",
    "\n",
    "from blg_strain.lattice import StrainedLattice\n",
    "from blg_strain.bands import BandStructure, FilledBands\n",
    "from blg_strain.utils.utils import print_time"
   ]
  },
  {
   "cell_type": "markdown",
   "metadata": {},
   "source": [
    "# Fixed strain: 1% applied along zigzag axis"
   ]
  },
  {
   "cell_type": "code",
   "execution_count": 7,
   "metadata": {},
   "outputs": [],
   "source": [
    "path = r'E:\\sBLG_data\\2020-08-07'"
   ]
  },
  {
   "cell_type": "code",
   "execution_count": 8,
   "metadata": {},
   "outputs": [],
   "source": [
    "eps = 0.01\n",
    "theta = 0\n",
    "sl = StrainedLattice(0.01, 0)\n",
    "sl.calculate()\n",
    "sl.save(path)"
   ]
  },
  {
   "cell_type": "markdown",
   "metadata": {},
   "source": [
    "## 2D map of ME coef versus $\\Delta$, $E_F$"
   ]
  },
  {
   "cell_type": "code",
   "execution_count": 11,
   "metadata": {},
   "outputs": [],
   "source": [
    "Deltas = np.linspace(-0.05, 0.05, 41)\n",
    "EFs = np.linspace(-0.05, 0.05, 61)"
   ]
  },
  {
   "cell_type": "code",
   "execution_count": null,
   "metadata": {
    "scrolled": false
   },
   "outputs": [
    {
     "name": "stdout",
     "output_type": "stream",
     "text": [
      "2020-08-07 13:52:56\tDelta: -0.05\n",
      "2020-08-07 13:55:21\tDelta: -0.0475\n",
      "2020-08-07 13:58:02\tDelta: -0.045000000000000005\n",
      "2020-08-07 14:01:50\tDelta: -0.0425\n",
      "2020-08-07 14:05:34\tDelta: -0.04\n",
      "2020-08-07 14:09:21\tDelta: -0.037500000000000006\n",
      "2020-08-07 14:12:43\tDelta: -0.035\n",
      "2020-08-07 14:15:35\tDelta: -0.0325\n",
      "2020-08-07 14:18:10\tDelta: -0.030000000000000002\n",
      "2020-08-07 14:20:43\tDelta: -0.027500000000000004\n",
      "2020-08-07 14:23:19\tDelta: -0.025\n",
      "2020-08-07 14:25:55\tDelta: -0.022500000000000003\n",
      "2020-08-07 14:28:33\tDelta: -0.020000000000000004\n",
      "2020-08-07 14:31:12\tDelta: -0.0175\n",
      "2020-08-07 14:33:52\tDelta: -0.015\n",
      "2020-08-07 14:36:33\tDelta: -0.012500000000000004\n",
      "2020-08-07 14:39:12\tDelta: -0.010000000000000002\n",
      "2020-08-07 14:41:58\tDelta: -0.0075\n",
      "2020-08-07 14:44:44\tDelta: -0.0050000000000000044\n",
      "2020-08-07 14:47:38\tDelta: -0.0025000000000000022\n",
      "2020-08-07 14:50:34\tDelta: 0.0\n",
      "2020-08-07 14:53:24\tDelta: 0.0024999999999999953\n",
      "2020-08-07 14:56:10\tDelta: 0.0049999999999999975\n",
      "2020-08-07 14:58:58\tDelta: 0.0075\n",
      "2020-08-07 15:01:44\tDelta: 0.009999999999999995\n",
      "2020-08-07 15:04:30\tDelta: 0.012499999999999997\n",
      "2020-08-07 15:07:12\tDelta: 0.015\n",
      "2020-08-07 15:09:53\tDelta: 0.0175\n",
      "2020-08-07 15:12:50\tDelta: 0.020000000000000004\n",
      "2020-08-07 15:15:34\tDelta: 0.022499999999999992\n",
      "2020-08-07 15:17:48\tDelta: 0.024999999999999994\n",
      "2020-08-07 15:20:01\tDelta: 0.027499999999999997\n",
      "2020-08-07 15:22:12\tDelta: 0.03\n",
      "2020-08-07 15:24:24\tDelta: 0.0325\n",
      "2020-08-07 15:26:35\tDelta: 0.035\n"
     ]
    }
   ],
   "source": [
    "for Delta in Deltas:\n",
    "    print_time({'Delta': Delta})\n",
    "    bs = BandStructure(sl, Delta=Delta)\n",
    "    Nx = 1000\n",
    "    Ny = 1000\n",
    "    bs.calculate(Nx, Ny)\n",
    "    bs.save()\n",
    "    \n",
    "    for EF in EFs:\n",
    "        fb = FilledBands(bs, EF=EF, T=0)\n",
    "        fb.calculate()\n",
    "        fb.save()"
   ]
  },
  {
   "cell_type": "markdown",
   "metadata": {},
   "source": [
    "# Load data"
   ]
  },
  {
   "cell_type": "code",
   "execution_count": null,
   "metadata": {},
   "outputs": [],
   "source": []
  }
 ],
 "metadata": {
  "kernelspec": {
   "display_name": "Python 3",
   "language": "python",
   "name": "python3"
  },
  "language_info": {
   "codemirror_mode": {
    "name": "ipython",
    "version": 3
   },
   "file_extension": ".py",
   "mimetype": "text/x-python",
   "name": "python",
   "nbconvert_exporter": "python",
   "pygments_lexer": "ipython3",
   "version": "3.7.4"
  }
 },
 "nbformat": 4,
 "nbformat_minor": 2
}
