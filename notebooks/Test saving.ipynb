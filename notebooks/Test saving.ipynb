{
 "cells": [
  {
   "cell_type": "code",
   "execution_count": 1,
   "metadata": {},
   "outputs": [],
   "source": [
    "from blg_strain.utils.saver import Saver"
   ]
  },
  {
   "cell_type": "code",
   "execution_count": 2,
   "metadata": {},
   "outputs": [],
   "source": [
    "s = Saver()"
   ]
  },
  {
   "cell_type": "code",
   "execution_count": 3,
   "metadata": {},
   "outputs": [],
   "source": [
    "s.a = 1"
   ]
  },
  {
   "cell_type": "code",
   "execution_count": 5,
   "metadata": {},
   "outputs": [],
   "source": [
    "s.save(r'E:\\sBLG_data\\saver.npz')"
   ]
  },
  {
   "cell_type": "code",
   "execution_count": 7,
   "metadata": {},
   "outputs": [],
   "source": [
    "s2 = s.load(r'E:\\sBLG_data\\saver.npz')"
   ]
  },
  {
   "cell_type": "code",
   "execution_count": 8,
   "metadata": {},
   "outputs": [
    {
     "data": {
      "text/plain": [
       "1"
      ]
     },
     "execution_count": 8,
     "metadata": {},
     "output_type": "execute_result"
    }
   ],
   "source": [
    "s2.a"
   ]
  },
  {
   "cell_type": "code",
   "execution_count": 9,
   "metadata": {},
   "outputs": [],
   "source": [
    "\n",
    "import numpy as np\n",
    "import h5py"
   ]
  },
  {
   "cell_type": "code",
   "execution_count": 10,
   "metadata": {},
   "outputs": [],
   "source": [
    "a = np.linspace(0,2)"
   ]
  },
  {
   "cell_type": "code",
   "execution_count": 15,
   "metadata": {},
   "outputs": [],
   "source": [
    "data_dict = {'a': a, 'b': a**2, 'c':3}"
   ]
  },
  {
   "cell_type": "code",
   "execution_count": 16,
   "metadata": {},
   "outputs": [],
   "source": [
    "with h5py.File(r'E:\\sBLG_data\\test.h5', 'w') as f:\n",
    "    for k, v in data_dict.items():\n",
    "        f.create_dataset(k, data=v)"
   ]
  },
  {
   "cell_type": "code",
   "execution_count": 30,
   "metadata": {},
   "outputs": [],
   "source": [
    "new_dict = {}\n",
    "with h5py.File(r'E:\\sBLG_data\\test.h5', 'r') as f:\n",
    "    new_dict = {k: v[()] for k, v in f.items()} # [()] gets the value"
   ]
  },
  {
   "cell_type": "code",
   "execution_count": 31,
   "metadata": {},
   "outputs": [
    {
     "data": {
      "text/plain": [
       "{'a': array([0.        , 0.04081633, 0.08163265, 0.12244898, 0.16326531,\n",
       "        0.20408163, 0.24489796, 0.28571429, 0.32653061, 0.36734694,\n",
       "        0.40816327, 0.44897959, 0.48979592, 0.53061224, 0.57142857,\n",
       "        0.6122449 , 0.65306122, 0.69387755, 0.73469388, 0.7755102 ,\n",
       "        0.81632653, 0.85714286, 0.89795918, 0.93877551, 0.97959184,\n",
       "        1.02040816, 1.06122449, 1.10204082, 1.14285714, 1.18367347,\n",
       "        1.2244898 , 1.26530612, 1.30612245, 1.34693878, 1.3877551 ,\n",
       "        1.42857143, 1.46938776, 1.51020408, 1.55102041, 1.59183673,\n",
       "        1.63265306, 1.67346939, 1.71428571, 1.75510204, 1.79591837,\n",
       "        1.83673469, 1.87755102, 1.91836735, 1.95918367, 2.        ]),\n",
       " 'b': array([0.00000000e+00, 1.66597251e-03, 6.66389005e-03, 1.49937526e-02,\n",
       "        2.66555602e-02, 4.16493128e-02, 5.99750104e-02, 8.16326531e-02,\n",
       "        1.06622241e-01, 1.34943773e-01, 1.66597251e-01, 2.01582674e-01,\n",
       "        2.39900042e-01, 2.81549354e-01, 3.26530612e-01, 3.74843815e-01,\n",
       "        4.26488963e-01, 4.81466056e-01, 5.39775094e-01, 6.01416077e-01,\n",
       "        6.66389005e-01, 7.34693878e-01, 8.06330696e-01, 8.81299459e-01,\n",
       "        9.59600167e-01, 1.04123282e+00, 1.12619742e+00, 1.21449396e+00,\n",
       "        1.30612245e+00, 1.40108288e+00, 1.49937526e+00, 1.60099958e+00,\n",
       "        1.70595585e+00, 1.81424406e+00, 1.92586422e+00, 2.04081633e+00,\n",
       "        2.15910037e+00, 2.28071637e+00, 2.40566431e+00, 2.53394419e+00,\n",
       "        2.66555602e+00, 2.80049979e+00, 2.93877551e+00, 3.08038317e+00,\n",
       "        3.22532278e+00, 3.37359434e+00, 3.52519783e+00, 3.68013328e+00,\n",
       "        3.83840067e+00, 4.00000000e+00]),\n",
       " 'c': 3}"
      ]
     },
     "execution_count": 31,
     "metadata": {},
     "output_type": "execute_result"
    }
   ],
   "source": [
    "new_dict"
   ]
  },
  {
   "cell_type": "code",
   "execution_count": null,
   "metadata": {},
   "outputs": [],
   "source": []
  }
 ],
 "metadata": {
  "kernelspec": {
   "display_name": "Python 3",
   "language": "python",
   "name": "python3"
  },
  "language_info": {
   "codemirror_mode": {
    "name": "ipython",
    "version": 3
   },
   "file_extension": ".py",
   "mimetype": "text/x-python",
   "name": "python",
   "nbconvert_exporter": "python",
   "pygments_lexer": "ipython3",
   "version": "3.7.4"
  }
 },
 "nbformat": 4,
 "nbformat_minor": 2
}
