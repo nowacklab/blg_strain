{
 "cells": [
  {
   "cell_type": "code",
   "execution_count": 1,
   "metadata": {},
   "outputs": [],
   "source": [
    "import numpy as np\n",
    "import matplotlib.pyplot as plt\n",
    "%matplotlib notebook"
   ]
  },
  {
   "cell_type": "code",
   "execution_count": 2,
   "metadata": {},
   "outputs": [],
   "source": [
    "from blg_strain.hamiltonian import Hfunc"
   ]
  },
  {
   "cell_type": "code",
   "execution_count": 6,
   "metadata": {},
   "outputs": [
    {
     "data": {
      "text/plain": [
       "(4, 4, 2, 3)"
      ]
     },
     "execution_count": 6,
     "metadata": {},
     "output_type": "execute_result"
    }
   ],
   "source": [
    "kx = np.linspace(-1, 1, 3)\n",
    "ky = np.linspace(-1, 1, 2)\n",
    "Kx, Ky = np.meshgrid(kx, ky)\n",
    "\n",
    "H = Hfunc(Kx, Ky)\n",
    "H.shape"
   ]
  },
  {
   "cell_type": "code",
   "execution_count": 4,
   "metadata": {},
   "outputs": [
    {
     "ename": "LinAlgError",
     "evalue": "Last 2 dimensions of the array must be square",
     "output_type": "error",
     "traceback": [
      "\u001b[1;31m---------------------------------------------------------------------------\u001b[0m",
      "\u001b[1;31mLinAlgError\u001b[0m                               Traceback (most recent call last)",
      "\u001b[1;32m<ipython-input-4-fc948d022379>\u001b[0m in \u001b[0;36m<module>\u001b[1;34m\u001b[0m\n\u001b[1;32m----> 1\u001b[1;33m \u001b[0mE\u001b[0m\u001b[1;33m,\u001b[0m \u001b[0mPsi\u001b[0m \u001b[1;33m=\u001b[0m \u001b[0mnp\u001b[0m\u001b[1;33m.\u001b[0m\u001b[0mlinalg\u001b[0m\u001b[1;33m.\u001b[0m\u001b[0meigh\u001b[0m\u001b[1;33m(\u001b[0m\u001b[0mH\u001b[0m\u001b[1;33m)\u001b[0m\u001b[1;33m\u001b[0m\u001b[1;33m\u001b[0m\u001b[0m\n\u001b[0m",
      "\u001b[1;32m~\\Anaconda3\\lib\\site-packages\\numpy\\linalg\\linalg.py\u001b[0m in \u001b[0;36meigh\u001b[1;34m(a, UPLO)\u001b[0m\n\u001b[0;32m   1443\u001b[0m     \u001b[0ma\u001b[0m\u001b[1;33m,\u001b[0m \u001b[0mwrap\u001b[0m \u001b[1;33m=\u001b[0m \u001b[0m_makearray\u001b[0m\u001b[1;33m(\u001b[0m\u001b[0ma\u001b[0m\u001b[1;33m)\u001b[0m\u001b[1;33m\u001b[0m\u001b[1;33m\u001b[0m\u001b[0m\n\u001b[0;32m   1444\u001b[0m     \u001b[0m_assertRankAtLeast2\u001b[0m\u001b[1;33m(\u001b[0m\u001b[0ma\u001b[0m\u001b[1;33m)\u001b[0m\u001b[1;33m\u001b[0m\u001b[1;33m\u001b[0m\u001b[0m\n\u001b[1;32m-> 1445\u001b[1;33m     \u001b[0m_assertNdSquareness\u001b[0m\u001b[1;33m(\u001b[0m\u001b[0ma\u001b[0m\u001b[1;33m)\u001b[0m\u001b[1;33m\u001b[0m\u001b[1;33m\u001b[0m\u001b[0m\n\u001b[0m\u001b[0;32m   1446\u001b[0m     \u001b[0mt\u001b[0m\u001b[1;33m,\u001b[0m \u001b[0mresult_t\u001b[0m \u001b[1;33m=\u001b[0m \u001b[0m_commonType\u001b[0m\u001b[1;33m(\u001b[0m\u001b[0ma\u001b[0m\u001b[1;33m)\u001b[0m\u001b[1;33m\u001b[0m\u001b[1;33m\u001b[0m\u001b[0m\n\u001b[0;32m   1447\u001b[0m \u001b[1;33m\u001b[0m\u001b[0m\n",
      "\u001b[1;32m~\\Anaconda3\\lib\\site-packages\\numpy\\linalg\\linalg.py\u001b[0m in \u001b[0;36m_assertNdSquareness\u001b[1;34m(*arrays)\u001b[0m\n\u001b[0;32m    211\u001b[0m         \u001b[0mm\u001b[0m\u001b[1;33m,\u001b[0m \u001b[0mn\u001b[0m \u001b[1;33m=\u001b[0m \u001b[0ma\u001b[0m\u001b[1;33m.\u001b[0m\u001b[0mshape\u001b[0m\u001b[1;33m[\u001b[0m\u001b[1;33m-\u001b[0m\u001b[1;36m2\u001b[0m\u001b[1;33m:\u001b[0m\u001b[1;33m]\u001b[0m\u001b[1;33m\u001b[0m\u001b[1;33m\u001b[0m\u001b[0m\n\u001b[0;32m    212\u001b[0m         \u001b[1;32mif\u001b[0m \u001b[0mm\u001b[0m \u001b[1;33m!=\u001b[0m \u001b[0mn\u001b[0m\u001b[1;33m:\u001b[0m\u001b[1;33m\u001b[0m\u001b[1;33m\u001b[0m\u001b[0m\n\u001b[1;32m--> 213\u001b[1;33m             \u001b[1;32mraise\u001b[0m \u001b[0mLinAlgError\u001b[0m\u001b[1;33m(\u001b[0m\u001b[1;34m'Last 2 dimensions of the array must be square'\u001b[0m\u001b[1;33m)\u001b[0m\u001b[1;33m\u001b[0m\u001b[1;33m\u001b[0m\u001b[0m\n\u001b[0m\u001b[0;32m    214\u001b[0m \u001b[1;33m\u001b[0m\u001b[0m\n\u001b[0;32m    215\u001b[0m \u001b[1;32mdef\u001b[0m \u001b[0m_assertFinite\u001b[0m\u001b[1;33m(\u001b[0m\u001b[1;33m*\u001b[0m\u001b[0marrays\u001b[0m\u001b[1;33m)\u001b[0m\u001b[1;33m:\u001b[0m\u001b[1;33m\u001b[0m\u001b[1;33m\u001b[0m\u001b[0m\n",
      "\u001b[1;31mLinAlgError\u001b[0m: Last 2 dimensions of the array must be square"
     ]
    }
   ],
   "source": [
    "E, Psi = np.linalg.eigh(H)"
   ]
  },
  {
   "cell_type": "code",
   "execution_count": 5,
   "metadata": {},
   "outputs": [
    {
     "ename": "NameError",
     "evalue": "name 'E' is not defined",
     "output_type": "error",
     "traceback": [
      "\u001b[1;31m---------------------------------------------------------------------------\u001b[0m",
      "\u001b[1;31mNameError\u001b[0m                                 Traceback (most recent call last)",
      "\u001b[1;32m<ipython-input-5-26333c0d5cd6>\u001b[0m in \u001b[0;36m<module>\u001b[1;34m\u001b[0m\n\u001b[1;32m----> 1\u001b[1;33m \u001b[0mE\u001b[0m\u001b[1;33m.\u001b[0m\u001b[0mshape\u001b[0m\u001b[1;33m,\u001b[0m \u001b[0mPsi\u001b[0m\u001b[1;33m.\u001b[0m\u001b[0mshape\u001b[0m\u001b[1;33m\u001b[0m\u001b[1;33m\u001b[0m\u001b[0m\n\u001b[0m",
      "\u001b[1;31mNameError\u001b[0m: name 'E' is not defined"
     ]
    }
   ],
   "source": [
    "E.shape, Psi.shape"
   ]
  },
  {
   "cell_type": "code",
   "execution_count": 5,
   "metadata": {},
   "outputs": [
    {
     "data": {
      "text/plain": [
       "(50, 50, 4, 4)"
      ]
     },
     "execution_count": 5,
     "metadata": {},
     "output_type": "execute_result"
    }
   ],
   "source": [
    "H.swapaxes(0, 2).swapaxes(1,3).shape"
   ]
  },
  {
   "cell_type": "code",
   "execution_count": 102,
   "metadata": {},
   "outputs": [],
   "source": [
    "E = E.swapaxes(0,1).swapaxes(0,2) # put the kx,ky points in last 2 dims\n",
    "Psi = Psi.swapaxes(0, 2).swapaxes(1,3) # put the kx,ky points in last 2 dims\n",
    "# Psi = Psi.transpose((1,0,2,3))"
   ]
  },
  {
   "cell_type": "code",
   "execution_count": 103,
   "metadata": {},
   "outputs": [
    {
     "data": {
      "text/plain": [
       "((4, 2, 3), (4, 4, 2, 3))"
      ]
     },
     "execution_count": 103,
     "metadata": {},
     "output_type": "execute_result"
    }
   ],
   "source": [
    "E.shape, Psi.shape"
   ]
  },
  {
   "cell_type": "code",
   "execution_count": 108,
   "metadata": {
    "scrolled": true
   },
   "outputs": [
    {
     "data": {
      "text/plain": [
       "array([[[1.95892052e-09, 1.38516598e-09, 1.95892051e-09],\n",
       "        [1.95892052e-09, 1.38516598e-09, 1.95892051e-09]],\n",
       "\n",
       "       [[7.07106770e-01, 7.07106777e-01, 7.07106759e-01],\n",
       "        [7.07106770e-01, 7.07106777e-01, 7.07106759e-01]],\n",
       "\n",
       "       [[7.07106792e-01, 7.07106785e-01, 7.07106803e-01],\n",
       "        [7.07106792e-01, 7.07106785e-01, 7.07106803e-01]],\n",
       "\n",
       "       [[1.59702391e-09, 1.12926644e-09, 1.59702391e-09],\n",
       "        [1.59702391e-09, 1.12926644e-09, 1.59702391e-09]]])"
      ]
     },
     "execution_count": 108,
     "metadata": {},
     "output_type": "execute_result"
    }
   ],
   "source": [
    "(Psi.real * multiplier)[0,:,:,:]"
   ]
  },
  {
   "cell_type": "code",
   "execution_count": null,
   "metadata": {},
   "outputs": [],
   "source": [
    "np.multiply()"
   ]
  },
  {
   "cell_type": "code",
   "execution_count": 1,
   "metadata": {},
   "outputs": [],
   "source": [
    "from blg_strain.bands import get_bands"
   ]
  },
  {
   "cell_type": "code",
   "execution_count": 4,
   "metadata": {},
   "outputs": [
    {
     "ename": "ValueError",
     "evalue": "too many values to unpack (expected 4)",
     "output_type": "error",
     "traceback": [
      "\u001b[1;31m---------------------------------------------------------------------------\u001b[0m",
      "\u001b[1;31mValueError\u001b[0m                                Traceback (most recent call last)",
      "\u001b[1;32m<ipython-input-4-24cde6976311>\u001b[0m in \u001b[0;36m<module>\u001b[1;34m\u001b[0m\n\u001b[1;32m----> 1\u001b[1;33m \u001b[0mE\u001b[0m\u001b[1;33m,\u001b[0m \u001b[0mPsi\u001b[0m\u001b[1;33m,\u001b[0m \u001b[0mOmega\u001b[0m\u001b[1;33m,\u001b[0m \u001b[0mMu\u001b[0m \u001b[1;33m=\u001b[0m \u001b[0mget_bands\u001b[0m\u001b[1;33m(\u001b[0m\u001b[1;33m)\u001b[0m\u001b[1;33m\u001b[0m\u001b[1;33m\u001b[0m\u001b[0m\n\u001b[0m",
      "\u001b[1;31mValueError\u001b[0m: too many values to unpack (expected 4)"
     ]
    }
   ],
   "source": [
    "E, Psi, Omega, Mu = get_bands()"
   ]
  },
  {
   "cell_type": "markdown",
   "metadata": {},
   "source": [
    "# Get bands"
   ]
  },
  {
   "cell_type": "code",
   "execution_count": 18,
   "metadata": {},
   "outputs": [],
   "source": [
    "from blg_strain.bands import get_bands"
   ]
  },
  {
   "cell_type": "code",
   "execution_count": 4,
   "metadata": {},
   "outputs": [],
   "source": [
    "kx, ky, Kx, Ky, E, Psi, Omega, Mu = get_bands(Nkx=20, Nky=20, Delta=0.02, delta=0.02)"
   ]
  },
  {
   "cell_type": "code",
   "execution_count": 7,
   "metadata": {},
   "outputs": [
    {
     "data": {
      "text/plain": [
       "((4, 20, 20), (4, 4, 20, 20))"
      ]
     },
     "execution_count": 7,
     "metadata": {},
     "output_type": "execute_result"
    }
   ],
   "source": [
    "E.shape, Psi.shape"
   ]
  },
  {
   "cell_type": "code",
   "execution_count": 7,
   "metadata": {},
   "outputs": [
    {
     "data": {
      "text/plain": [
       "(4, 20, 20)"
      ]
     },
     "execution_count": 7,
     "metadata": {},
     "output_type": "execute_result"
    }
   ],
   "source": [
    "E.shape"
   ]
  },
  {
   "cell_type": "code",
   "execution_count": 21,
   "metadata": {},
   "outputs": [
    {
     "data": {
      "application/javascript": [
       "/* Put everything inside the global mpl namespace */\n",
       "window.mpl = {};\n",
       "\n",
       "\n",
       "mpl.get_websocket_type = function() {\n",
       "    if (typeof(WebSocket) !== 'undefined') {\n",
       "        return WebSocket;\n",
       "    } else if (typeof(MozWebSocket) !== 'undefined') {\n",
       "        return MozWebSocket;\n",
       "    } else {\n",
       "        alert('Your browser does not have WebSocket support. ' +\n",
       "              'Please try Chrome, Safari or Firefox ≥ 6. ' +\n",
       "              'Firefox 4 and 5 are also supported but you ' +\n",
       "              'have to enable WebSockets in about:config.');\n",
       "    };\n",
       "}\n",
       "\n",
       "mpl.figure = function(figure_id, websocket, ondownload, parent_element) {\n",
       "    this.id = figure_id;\n",
       "\n",
       "    this.ws = websocket;\n",
       "\n",
       "    this.supports_binary = (this.ws.binaryType != undefined);\n",
       "\n",
       "    if (!this.supports_binary) {\n",
       "        var warnings = document.getElementById(\"mpl-warnings\");\n",
       "        if (warnings) {\n",
       "            warnings.style.display = 'block';\n",
       "            warnings.textContent = (\n",
       "                \"This browser does not support binary websocket messages. \" +\n",
       "                    \"Performance may be slow.\");\n",
       "        }\n",
       "    }\n",
       "\n",
       "    this.imageObj = new Image();\n",
       "\n",
       "    this.context = undefined;\n",
       "    this.message = undefined;\n",
       "    this.canvas = undefined;\n",
       "    this.rubberband_canvas = undefined;\n",
       "    this.rubberband_context = undefined;\n",
       "    this.format_dropdown = undefined;\n",
       "\n",
       "    this.image_mode = 'full';\n",
       "\n",
       "    this.root = $('<div/>');\n",
       "    this._root_extra_style(this.root)\n",
       "    this.root.attr('style', 'display: inline-block');\n",
       "\n",
       "    $(parent_element).append(this.root);\n",
       "\n",
       "    this._init_header(this);\n",
       "    this._init_canvas(this);\n",
       "    this._init_toolbar(this);\n",
       "\n",
       "    var fig = this;\n",
       "\n",
       "    this.waiting = false;\n",
       "\n",
       "    this.ws.onopen =  function () {\n",
       "            fig.send_message(\"supports_binary\", {value: fig.supports_binary});\n",
       "            fig.send_message(\"send_image_mode\", {});\n",
       "            if (mpl.ratio != 1) {\n",
       "                fig.send_message(\"set_dpi_ratio\", {'dpi_ratio': mpl.ratio});\n",
       "            }\n",
       "            fig.send_message(\"refresh\", {});\n",
       "        }\n",
       "\n",
       "    this.imageObj.onload = function() {\n",
       "            if (fig.image_mode == 'full') {\n",
       "                // Full images could contain transparency (where diff images\n",
       "                // almost always do), so we need to clear the canvas so that\n",
       "                // there is no ghosting.\n",
       "                fig.context.clearRect(0, 0, fig.canvas.width, fig.canvas.height);\n",
       "            }\n",
       "            fig.context.drawImage(fig.imageObj, 0, 0);\n",
       "        };\n",
       "\n",
       "    this.imageObj.onunload = function() {\n",
       "        fig.ws.close();\n",
       "    }\n",
       "\n",
       "    this.ws.onmessage = this._make_on_message_function(this);\n",
       "\n",
       "    this.ondownload = ondownload;\n",
       "}\n",
       "\n",
       "mpl.figure.prototype._init_header = function() {\n",
       "    var titlebar = $(\n",
       "        '<div class=\"ui-dialog-titlebar ui-widget-header ui-corner-all ' +\n",
       "        'ui-helper-clearfix\"/>');\n",
       "    var titletext = $(\n",
       "        '<div class=\"ui-dialog-title\" style=\"width: 100%; ' +\n",
       "        'text-align: center; padding: 3px;\"/>');\n",
       "    titlebar.append(titletext)\n",
       "    this.root.append(titlebar);\n",
       "    this.header = titletext[0];\n",
       "}\n",
       "\n",
       "\n",
       "\n",
       "mpl.figure.prototype._canvas_extra_style = function(canvas_div) {\n",
       "\n",
       "}\n",
       "\n",
       "\n",
       "mpl.figure.prototype._root_extra_style = function(canvas_div) {\n",
       "\n",
       "}\n",
       "\n",
       "mpl.figure.prototype._init_canvas = function() {\n",
       "    var fig = this;\n",
       "\n",
       "    var canvas_div = $('<div/>');\n",
       "\n",
       "    canvas_div.attr('style', 'position: relative; clear: both; outline: 0');\n",
       "\n",
       "    function canvas_keyboard_event(event) {\n",
       "        return fig.key_event(event, event['data']);\n",
       "    }\n",
       "\n",
       "    canvas_div.keydown('key_press', canvas_keyboard_event);\n",
       "    canvas_div.keyup('key_release', canvas_keyboard_event);\n",
       "    this.canvas_div = canvas_div\n",
       "    this._canvas_extra_style(canvas_div)\n",
       "    this.root.append(canvas_div);\n",
       "\n",
       "    var canvas = $('<canvas/>');\n",
       "    canvas.addClass('mpl-canvas');\n",
       "    canvas.attr('style', \"left: 0; top: 0; z-index: 0; outline: 0\")\n",
       "\n",
       "    this.canvas = canvas[0];\n",
       "    this.context = canvas[0].getContext(\"2d\");\n",
       "\n",
       "    var backingStore = this.context.backingStorePixelRatio ||\n",
       "\tthis.context.webkitBackingStorePixelRatio ||\n",
       "\tthis.context.mozBackingStorePixelRatio ||\n",
       "\tthis.context.msBackingStorePixelRatio ||\n",
       "\tthis.context.oBackingStorePixelRatio ||\n",
       "\tthis.context.backingStorePixelRatio || 1;\n",
       "\n",
       "    mpl.ratio = (window.devicePixelRatio || 1) / backingStore;\n",
       "\n",
       "    var rubberband = $('<canvas/>');\n",
       "    rubberband.attr('style', \"position: absolute; left: 0; top: 0; z-index: 1;\")\n",
       "\n",
       "    var pass_mouse_events = true;\n",
       "\n",
       "    canvas_div.resizable({\n",
       "        start: function(event, ui) {\n",
       "            pass_mouse_events = false;\n",
       "        },\n",
       "        resize: function(event, ui) {\n",
       "            fig.request_resize(ui.size.width, ui.size.height);\n",
       "        },\n",
       "        stop: function(event, ui) {\n",
       "            pass_mouse_events = true;\n",
       "            fig.request_resize(ui.size.width, ui.size.height);\n",
       "        },\n",
       "    });\n",
       "\n",
       "    function mouse_event_fn(event) {\n",
       "        if (pass_mouse_events)\n",
       "            return fig.mouse_event(event, event['data']);\n",
       "    }\n",
       "\n",
       "    rubberband.mousedown('button_press', mouse_event_fn);\n",
       "    rubberband.mouseup('button_release', mouse_event_fn);\n",
       "    // Throttle sequential mouse events to 1 every 20ms.\n",
       "    rubberband.mousemove('motion_notify', mouse_event_fn);\n",
       "\n",
       "    rubberband.mouseenter('figure_enter', mouse_event_fn);\n",
       "    rubberband.mouseleave('figure_leave', mouse_event_fn);\n",
       "\n",
       "    canvas_div.on(\"wheel\", function (event) {\n",
       "        event = event.originalEvent;\n",
       "        event['data'] = 'scroll'\n",
       "        if (event.deltaY < 0) {\n",
       "            event.step = 1;\n",
       "        } else {\n",
       "            event.step = -1;\n",
       "        }\n",
       "        mouse_event_fn(event);\n",
       "    });\n",
       "\n",
       "    canvas_div.append(canvas);\n",
       "    canvas_div.append(rubberband);\n",
       "\n",
       "    this.rubberband = rubberband;\n",
       "    this.rubberband_canvas = rubberband[0];\n",
       "    this.rubberband_context = rubberband[0].getContext(\"2d\");\n",
       "    this.rubberband_context.strokeStyle = \"#000000\";\n",
       "\n",
       "    this._resize_canvas = function(width, height) {\n",
       "        // Keep the size of the canvas, canvas container, and rubber band\n",
       "        // canvas in synch.\n",
       "        canvas_div.css('width', width)\n",
       "        canvas_div.css('height', height)\n",
       "\n",
       "        canvas.attr('width', width * mpl.ratio);\n",
       "        canvas.attr('height', height * mpl.ratio);\n",
       "        canvas.attr('style', 'width: ' + width + 'px; height: ' + height + 'px;');\n",
       "\n",
       "        rubberband.attr('width', width);\n",
       "        rubberband.attr('height', height);\n",
       "    }\n",
       "\n",
       "    // Set the figure to an initial 600x600px, this will subsequently be updated\n",
       "    // upon first draw.\n",
       "    this._resize_canvas(600, 600);\n",
       "\n",
       "    // Disable right mouse context menu.\n",
       "    $(this.rubberband_canvas).bind(\"contextmenu\",function(e){\n",
       "        return false;\n",
       "    });\n",
       "\n",
       "    function set_focus () {\n",
       "        canvas.focus();\n",
       "        canvas_div.focus();\n",
       "    }\n",
       "\n",
       "    window.setTimeout(set_focus, 100);\n",
       "}\n",
       "\n",
       "mpl.figure.prototype._init_toolbar = function() {\n",
       "    var fig = this;\n",
       "\n",
       "    var nav_element = $('<div/>');\n",
       "    nav_element.attr('style', 'width: 100%');\n",
       "    this.root.append(nav_element);\n",
       "\n",
       "    // Define a callback function for later on.\n",
       "    function toolbar_event(event) {\n",
       "        return fig.toolbar_button_onclick(event['data']);\n",
       "    }\n",
       "    function toolbar_mouse_event(event) {\n",
       "        return fig.toolbar_button_onmouseover(event['data']);\n",
       "    }\n",
       "\n",
       "    for(var toolbar_ind in mpl.toolbar_items) {\n",
       "        var name = mpl.toolbar_items[toolbar_ind][0];\n",
       "        var tooltip = mpl.toolbar_items[toolbar_ind][1];\n",
       "        var image = mpl.toolbar_items[toolbar_ind][2];\n",
       "        var method_name = mpl.toolbar_items[toolbar_ind][3];\n",
       "\n",
       "        if (!name) {\n",
       "            // put a spacer in here.\n",
       "            continue;\n",
       "        }\n",
       "        var button = $('<button/>');\n",
       "        button.addClass('ui-button ui-widget ui-state-default ui-corner-all ' +\n",
       "                        'ui-button-icon-only');\n",
       "        button.attr('role', 'button');\n",
       "        button.attr('aria-disabled', 'false');\n",
       "        button.click(method_name, toolbar_event);\n",
       "        button.mouseover(tooltip, toolbar_mouse_event);\n",
       "\n",
       "        var icon_img = $('<span/>');\n",
       "        icon_img.addClass('ui-button-icon-primary ui-icon');\n",
       "        icon_img.addClass(image);\n",
       "        icon_img.addClass('ui-corner-all');\n",
       "\n",
       "        var tooltip_span = $('<span/>');\n",
       "        tooltip_span.addClass('ui-button-text');\n",
       "        tooltip_span.html(tooltip);\n",
       "\n",
       "        button.append(icon_img);\n",
       "        button.append(tooltip_span);\n",
       "\n",
       "        nav_element.append(button);\n",
       "    }\n",
       "\n",
       "    var fmt_picker_span = $('<span/>');\n",
       "\n",
       "    var fmt_picker = $('<select/>');\n",
       "    fmt_picker.addClass('mpl-toolbar-option ui-widget ui-widget-content');\n",
       "    fmt_picker_span.append(fmt_picker);\n",
       "    nav_element.append(fmt_picker_span);\n",
       "    this.format_dropdown = fmt_picker[0];\n",
       "\n",
       "    for (var ind in mpl.extensions) {\n",
       "        var fmt = mpl.extensions[ind];\n",
       "        var option = $(\n",
       "            '<option/>', {selected: fmt === mpl.default_extension}).html(fmt);\n",
       "        fmt_picker.append(option);\n",
       "    }\n",
       "\n",
       "    // Add hover states to the ui-buttons\n",
       "    $( \".ui-button\" ).hover(\n",
       "        function() { $(this).addClass(\"ui-state-hover\");},\n",
       "        function() { $(this).removeClass(\"ui-state-hover\");}\n",
       "    );\n",
       "\n",
       "    var status_bar = $('<span class=\"mpl-message\"/>');\n",
       "    nav_element.append(status_bar);\n",
       "    this.message = status_bar[0];\n",
       "}\n",
       "\n",
       "mpl.figure.prototype.request_resize = function(x_pixels, y_pixels) {\n",
       "    // Request matplotlib to resize the figure. Matplotlib will then trigger a resize in the client,\n",
       "    // which will in turn request a refresh of the image.\n",
       "    this.send_message('resize', {'width': x_pixels, 'height': y_pixels});\n",
       "}\n",
       "\n",
       "mpl.figure.prototype.send_message = function(type, properties) {\n",
       "    properties['type'] = type;\n",
       "    properties['figure_id'] = this.id;\n",
       "    this.ws.send(JSON.stringify(properties));\n",
       "}\n",
       "\n",
       "mpl.figure.prototype.send_draw_message = function() {\n",
       "    if (!this.waiting) {\n",
       "        this.waiting = true;\n",
       "        this.ws.send(JSON.stringify({type: \"draw\", figure_id: this.id}));\n",
       "    }\n",
       "}\n",
       "\n",
       "\n",
       "mpl.figure.prototype.handle_save = function(fig, msg) {\n",
       "    var format_dropdown = fig.format_dropdown;\n",
       "    var format = format_dropdown.options[format_dropdown.selectedIndex].value;\n",
       "    fig.ondownload(fig, format);\n",
       "}\n",
       "\n",
       "\n",
       "mpl.figure.prototype.handle_resize = function(fig, msg) {\n",
       "    var size = msg['size'];\n",
       "    if (size[0] != fig.canvas.width || size[1] != fig.canvas.height) {\n",
       "        fig._resize_canvas(size[0], size[1]);\n",
       "        fig.send_message(\"refresh\", {});\n",
       "    };\n",
       "}\n",
       "\n",
       "mpl.figure.prototype.handle_rubberband = function(fig, msg) {\n",
       "    var x0 = msg['x0'] / mpl.ratio;\n",
       "    var y0 = (fig.canvas.height - msg['y0']) / mpl.ratio;\n",
       "    var x1 = msg['x1'] / mpl.ratio;\n",
       "    var y1 = (fig.canvas.height - msg['y1']) / mpl.ratio;\n",
       "    x0 = Math.floor(x0) + 0.5;\n",
       "    y0 = Math.floor(y0) + 0.5;\n",
       "    x1 = Math.floor(x1) + 0.5;\n",
       "    y1 = Math.floor(y1) + 0.5;\n",
       "    var min_x = Math.min(x0, x1);\n",
       "    var min_y = Math.min(y0, y1);\n",
       "    var width = Math.abs(x1 - x0);\n",
       "    var height = Math.abs(y1 - y0);\n",
       "\n",
       "    fig.rubberband_context.clearRect(\n",
       "        0, 0, fig.canvas.width / mpl.ratio, fig.canvas.height / mpl.ratio);\n",
       "\n",
       "    fig.rubberband_context.strokeRect(min_x, min_y, width, height);\n",
       "}\n",
       "\n",
       "mpl.figure.prototype.handle_figure_label = function(fig, msg) {\n",
       "    // Updates the figure title.\n",
       "    fig.header.textContent = msg['label'];\n",
       "}\n",
       "\n",
       "mpl.figure.prototype.handle_cursor = function(fig, msg) {\n",
       "    var cursor = msg['cursor'];\n",
       "    switch(cursor)\n",
       "    {\n",
       "    case 0:\n",
       "        cursor = 'pointer';\n",
       "        break;\n",
       "    case 1:\n",
       "        cursor = 'default';\n",
       "        break;\n",
       "    case 2:\n",
       "        cursor = 'crosshair';\n",
       "        break;\n",
       "    case 3:\n",
       "        cursor = 'move';\n",
       "        break;\n",
       "    }\n",
       "    fig.rubberband_canvas.style.cursor = cursor;\n",
       "}\n",
       "\n",
       "mpl.figure.prototype.handle_message = function(fig, msg) {\n",
       "    fig.message.textContent = msg['message'];\n",
       "}\n",
       "\n",
       "mpl.figure.prototype.handle_draw = function(fig, msg) {\n",
       "    // Request the server to send over a new figure.\n",
       "    fig.send_draw_message();\n",
       "}\n",
       "\n",
       "mpl.figure.prototype.handle_image_mode = function(fig, msg) {\n",
       "    fig.image_mode = msg['mode'];\n",
       "}\n",
       "\n",
       "mpl.figure.prototype.updated_canvas_event = function() {\n",
       "    // Called whenever the canvas gets updated.\n",
       "    this.send_message(\"ack\", {});\n",
       "}\n",
       "\n",
       "// A function to construct a web socket function for onmessage handling.\n",
       "// Called in the figure constructor.\n",
       "mpl.figure.prototype._make_on_message_function = function(fig) {\n",
       "    return function socket_on_message(evt) {\n",
       "        if (evt.data instanceof Blob) {\n",
       "            /* FIXME: We get \"Resource interpreted as Image but\n",
       "             * transferred with MIME type text/plain:\" errors on\n",
       "             * Chrome.  But how to set the MIME type?  It doesn't seem\n",
       "             * to be part of the websocket stream */\n",
       "            evt.data.type = \"image/png\";\n",
       "\n",
       "            /* Free the memory for the previous frames */\n",
       "            if (fig.imageObj.src) {\n",
       "                (window.URL || window.webkitURL).revokeObjectURL(\n",
       "                    fig.imageObj.src);\n",
       "            }\n",
       "\n",
       "            fig.imageObj.src = (window.URL || window.webkitURL).createObjectURL(\n",
       "                evt.data);\n",
       "            fig.updated_canvas_event();\n",
       "            fig.waiting = false;\n",
       "            return;\n",
       "        }\n",
       "        else if (typeof evt.data === 'string' && evt.data.slice(0, 21) == \"data:image/png;base64\") {\n",
       "            fig.imageObj.src = evt.data;\n",
       "            fig.updated_canvas_event();\n",
       "            fig.waiting = false;\n",
       "            return;\n",
       "        }\n",
       "\n",
       "        var msg = JSON.parse(evt.data);\n",
       "        var msg_type = msg['type'];\n",
       "\n",
       "        // Call the  \"handle_{type}\" callback, which takes\n",
       "        // the figure and JSON message as its only arguments.\n",
       "        try {\n",
       "            var callback = fig[\"handle_\" + msg_type];\n",
       "        } catch (e) {\n",
       "            console.log(\"No handler for the '\" + msg_type + \"' message type: \", msg);\n",
       "            return;\n",
       "        }\n",
       "\n",
       "        if (callback) {\n",
       "            try {\n",
       "                // console.log(\"Handling '\" + msg_type + \"' message: \", msg);\n",
       "                callback(fig, msg);\n",
       "            } catch (e) {\n",
       "                console.log(\"Exception inside the 'handler_\" + msg_type + \"' callback:\", e, e.stack, msg);\n",
       "            }\n",
       "        }\n",
       "    };\n",
       "}\n",
       "\n",
       "// from http://stackoverflow.com/questions/1114465/getting-mouse-location-in-canvas\n",
       "mpl.findpos = function(e) {\n",
       "    //this section is from http://www.quirksmode.org/js/events_properties.html\n",
       "    var targ;\n",
       "    if (!e)\n",
       "        e = window.event;\n",
       "    if (e.target)\n",
       "        targ = e.target;\n",
       "    else if (e.srcElement)\n",
       "        targ = e.srcElement;\n",
       "    if (targ.nodeType == 3) // defeat Safari bug\n",
       "        targ = targ.parentNode;\n",
       "\n",
       "    // jQuery normalizes the pageX and pageY\n",
       "    // pageX,Y are the mouse positions relative to the document\n",
       "    // offset() returns the position of the element relative to the document\n",
       "    var x = e.pageX - $(targ).offset().left;\n",
       "    var y = e.pageY - $(targ).offset().top;\n",
       "\n",
       "    return {\"x\": x, \"y\": y};\n",
       "};\n",
       "\n",
       "/*\n",
       " * return a copy of an object with only non-object keys\n",
       " * we need this to avoid circular references\n",
       " * http://stackoverflow.com/a/24161582/3208463\n",
       " */\n",
       "function simpleKeys (original) {\n",
       "  return Object.keys(original).reduce(function (obj, key) {\n",
       "    if (typeof original[key] !== 'object')\n",
       "        obj[key] = original[key]\n",
       "    return obj;\n",
       "  }, {});\n",
       "}\n",
       "\n",
       "mpl.figure.prototype.mouse_event = function(event, name) {\n",
       "    var canvas_pos = mpl.findpos(event)\n",
       "\n",
       "    if (name === 'button_press')\n",
       "    {\n",
       "        this.canvas.focus();\n",
       "        this.canvas_div.focus();\n",
       "    }\n",
       "\n",
       "    var x = canvas_pos.x * mpl.ratio;\n",
       "    var y = canvas_pos.y * mpl.ratio;\n",
       "\n",
       "    this.send_message(name, {x: x, y: y, button: event.button,\n",
       "                             step: event.step,\n",
       "                             guiEvent: simpleKeys(event)});\n",
       "\n",
       "    /* This prevents the web browser from automatically changing to\n",
       "     * the text insertion cursor when the button is pressed.  We want\n",
       "     * to control all of the cursor setting manually through the\n",
       "     * 'cursor' event from matplotlib */\n",
       "    event.preventDefault();\n",
       "    return false;\n",
       "}\n",
       "\n",
       "mpl.figure.prototype._key_event_extra = function(event, name) {\n",
       "    // Handle any extra behaviour associated with a key event\n",
       "}\n",
       "\n",
       "mpl.figure.prototype.key_event = function(event, name) {\n",
       "\n",
       "    // Prevent repeat events\n",
       "    if (name == 'key_press')\n",
       "    {\n",
       "        if (event.which === this._key)\n",
       "            return;\n",
       "        else\n",
       "            this._key = event.which;\n",
       "    }\n",
       "    if (name == 'key_release')\n",
       "        this._key = null;\n",
       "\n",
       "    var value = '';\n",
       "    if (event.ctrlKey && event.which != 17)\n",
       "        value += \"ctrl+\";\n",
       "    if (event.altKey && event.which != 18)\n",
       "        value += \"alt+\";\n",
       "    if (event.shiftKey && event.which != 16)\n",
       "        value += \"shift+\";\n",
       "\n",
       "    value += 'k';\n",
       "    value += event.which.toString();\n",
       "\n",
       "    this._key_event_extra(event, name);\n",
       "\n",
       "    this.send_message(name, {key: value,\n",
       "                             guiEvent: simpleKeys(event)});\n",
       "    return false;\n",
       "}\n",
       "\n",
       "mpl.figure.prototype.toolbar_button_onclick = function(name) {\n",
       "    if (name == 'download') {\n",
       "        this.handle_save(this, null);\n",
       "    } else {\n",
       "        this.send_message(\"toolbar_button\", {name: name});\n",
       "    }\n",
       "};\n",
       "\n",
       "mpl.figure.prototype.toolbar_button_onmouseover = function(tooltip) {\n",
       "    this.message.textContent = tooltip;\n",
       "};\n",
       "mpl.toolbar_items = [[\"Home\", \"Reset original view\", \"fa fa-home icon-home\", \"home\"], [\"Back\", \"Back to previous view\", \"fa fa-arrow-left icon-arrow-left\", \"back\"], [\"Forward\", \"Forward to next view\", \"fa fa-arrow-right icon-arrow-right\", \"forward\"], [\"\", \"\", \"\", \"\"], [\"Pan\", \"Pan axes with left mouse, zoom with right\", \"fa fa-arrows icon-move\", \"pan\"], [\"Zoom\", \"Zoom to rectangle\", \"fa fa-square-o icon-check-empty\", \"zoom\"], [\"\", \"\", \"\", \"\"], [\"Download\", \"Download plot\", \"fa fa-floppy-o icon-save\", \"download\"]];\n",
       "\n",
       "mpl.extensions = [\"eps\", \"jpeg\", \"pdf\", \"png\", \"ps\", \"raw\", \"svg\", \"tif\"];\n",
       "\n",
       "mpl.default_extension = \"png\";var comm_websocket_adapter = function(comm) {\n",
       "    // Create a \"websocket\"-like object which calls the given IPython comm\n",
       "    // object with the appropriate methods. Currently this is a non binary\n",
       "    // socket, so there is still some room for performance tuning.\n",
       "    var ws = {};\n",
       "\n",
       "    ws.close = function() {\n",
       "        comm.close()\n",
       "    };\n",
       "    ws.send = function(m) {\n",
       "        //console.log('sending', m);\n",
       "        comm.send(m);\n",
       "    };\n",
       "    // Register the callback with on_msg.\n",
       "    comm.on_msg(function(msg) {\n",
       "        //console.log('receiving', msg['content']['data'], msg);\n",
       "        // Pass the mpl event to the overridden (by mpl) onmessage function.\n",
       "        ws.onmessage(msg['content']['data'])\n",
       "    });\n",
       "    return ws;\n",
       "}\n",
       "\n",
       "mpl.mpl_figure_comm = function(comm, msg) {\n",
       "    // This is the function which gets called when the mpl process\n",
       "    // starts-up an IPython Comm through the \"matplotlib\" channel.\n",
       "\n",
       "    var id = msg.content.data.id;\n",
       "    // Get hold of the div created by the display call when the Comm\n",
       "    // socket was opened in Python.\n",
       "    var element = $(\"#\" + id);\n",
       "    var ws_proxy = comm_websocket_adapter(comm)\n",
       "\n",
       "    function ondownload(figure, format) {\n",
       "        window.open(figure.imageObj.src);\n",
       "    }\n",
       "\n",
       "    var fig = new mpl.figure(id, ws_proxy,\n",
       "                           ondownload,\n",
       "                           element.get(0));\n",
       "\n",
       "    // Call onopen now - mpl needs it, as it is assuming we've passed it a real\n",
       "    // web socket which is closed, not our websocket->open comm proxy.\n",
       "    ws_proxy.onopen();\n",
       "\n",
       "    fig.parent_element = element.get(0);\n",
       "    fig.cell_info = mpl.find_output_cell(\"<div id='\" + id + \"'></div>\");\n",
       "    if (!fig.cell_info) {\n",
       "        console.error(\"Failed to find cell for figure\", id, fig);\n",
       "        return;\n",
       "    }\n",
       "\n",
       "    var output_index = fig.cell_info[2]\n",
       "    var cell = fig.cell_info[0];\n",
       "\n",
       "};\n",
       "\n",
       "mpl.figure.prototype.handle_close = function(fig, msg) {\n",
       "    var width = fig.canvas.width/mpl.ratio\n",
       "    fig.root.unbind('remove')\n",
       "\n",
       "    // Update the output cell to use the data from the current canvas.\n",
       "    fig.push_to_output();\n",
       "    var dataURL = fig.canvas.toDataURL();\n",
       "    // Re-enable the keyboard manager in IPython - without this line, in FF,\n",
       "    // the notebook keyboard shortcuts fail.\n",
       "    IPython.keyboard_manager.enable()\n",
       "    $(fig.parent_element).html('<img src=\"' + dataURL + '\" width=\"' + width + '\">');\n",
       "    fig.close_ws(fig, msg);\n",
       "}\n",
       "\n",
       "mpl.figure.prototype.close_ws = function(fig, msg){\n",
       "    fig.send_message('closing', msg);\n",
       "    // fig.ws.close()\n",
       "}\n",
       "\n",
       "mpl.figure.prototype.push_to_output = function(remove_interactive) {\n",
       "    // Turn the data on the canvas into data in the output cell.\n",
       "    var width = this.canvas.width/mpl.ratio\n",
       "    var dataURL = this.canvas.toDataURL();\n",
       "    this.cell_info[1]['text/html'] = '<img src=\"' + dataURL + '\" width=\"' + width + '\">';\n",
       "}\n",
       "\n",
       "mpl.figure.prototype.updated_canvas_event = function() {\n",
       "    // Tell IPython that the notebook contents must change.\n",
       "    IPython.notebook.set_dirty(true);\n",
       "    this.send_message(\"ack\", {});\n",
       "    var fig = this;\n",
       "    // Wait a second, then push the new image to the DOM so\n",
       "    // that it is saved nicely (might be nice to debounce this).\n",
       "    setTimeout(function () { fig.push_to_output() }, 1000);\n",
       "}\n",
       "\n",
       "mpl.figure.prototype._init_toolbar = function() {\n",
       "    var fig = this;\n",
       "\n",
       "    var nav_element = $('<div/>');\n",
       "    nav_element.attr('style', 'width: 100%');\n",
       "    this.root.append(nav_element);\n",
       "\n",
       "    // Define a callback function for later on.\n",
       "    function toolbar_event(event) {\n",
       "        return fig.toolbar_button_onclick(event['data']);\n",
       "    }\n",
       "    function toolbar_mouse_event(event) {\n",
       "        return fig.toolbar_button_onmouseover(event['data']);\n",
       "    }\n",
       "\n",
       "    for(var toolbar_ind in mpl.toolbar_items){\n",
       "        var name = mpl.toolbar_items[toolbar_ind][0];\n",
       "        var tooltip = mpl.toolbar_items[toolbar_ind][1];\n",
       "        var image = mpl.toolbar_items[toolbar_ind][2];\n",
       "        var method_name = mpl.toolbar_items[toolbar_ind][3];\n",
       "\n",
       "        if (!name) { continue; };\n",
       "\n",
       "        var button = $('<button class=\"btn btn-default\" href=\"#\" title=\"' + name + '\"><i class=\"fa ' + image + ' fa-lg\"></i></button>');\n",
       "        button.click(method_name, toolbar_event);\n",
       "        button.mouseover(tooltip, toolbar_mouse_event);\n",
       "        nav_element.append(button);\n",
       "    }\n",
       "\n",
       "    // Add the status bar.\n",
       "    var status_bar = $('<span class=\"mpl-message\" style=\"text-align:right; float: right;\"/>');\n",
       "    nav_element.append(status_bar);\n",
       "    this.message = status_bar[0];\n",
       "\n",
       "    // Add the close button to the window.\n",
       "    var buttongrp = $('<div class=\"btn-group inline pull-right\"></div>');\n",
       "    var button = $('<button class=\"btn btn-mini btn-primary\" href=\"#\" title=\"Stop Interaction\"><i class=\"fa fa-power-off icon-remove icon-large\"></i></button>');\n",
       "    button.click(function (evt) { fig.handle_close(fig, {}); } );\n",
       "    button.mouseover('Stop Interaction', toolbar_mouse_event);\n",
       "    buttongrp.append(button);\n",
       "    var titlebar = this.root.find($('.ui-dialog-titlebar'));\n",
       "    titlebar.prepend(buttongrp);\n",
       "}\n",
       "\n",
       "mpl.figure.prototype._root_extra_style = function(el){\n",
       "    var fig = this\n",
       "    el.on(\"remove\", function(){\n",
       "\tfig.close_ws(fig, {});\n",
       "    });\n",
       "}\n",
       "\n",
       "mpl.figure.prototype._canvas_extra_style = function(el){\n",
       "    // this is important to make the div 'focusable\n",
       "    el.attr('tabindex', 0)\n",
       "    // reach out to IPython and tell the keyboard manager to turn it's self\n",
       "    // off when our div gets focus\n",
       "\n",
       "    // location in version 3\n",
       "    if (IPython.notebook.keyboard_manager) {\n",
       "        IPython.notebook.keyboard_manager.register_events(el);\n",
       "    }\n",
       "    else {\n",
       "        // location in version 2\n",
       "        IPython.keyboard_manager.register_events(el);\n",
       "    }\n",
       "\n",
       "}\n",
       "\n",
       "mpl.figure.prototype._key_event_extra = function(event, name) {\n",
       "    var manager = IPython.notebook.keyboard_manager;\n",
       "    if (!manager)\n",
       "        manager = IPython.keyboard_manager;\n",
       "\n",
       "    // Check for shift+enter\n",
       "    if (event.shiftKey && event.which == 13) {\n",
       "        this.canvas_div.blur();\n",
       "        event.shiftKey = false;\n",
       "        // Send a \"J\" for go to next cell\n",
       "        event.which = 74;\n",
       "        event.keyCode = 74;\n",
       "        manager.command_mode();\n",
       "        manager.handle_keydown(event);\n",
       "    }\n",
       "}\n",
       "\n",
       "mpl.figure.prototype.handle_save = function(fig, msg) {\n",
       "    fig.ondownload(fig, null);\n",
       "}\n",
       "\n",
       "\n",
       "mpl.find_output_cell = function(html_output) {\n",
       "    // Return the cell and output element which can be found *uniquely* in the notebook.\n",
       "    // Note - this is a bit hacky, but it is done because the \"notebook_saving.Notebook\"\n",
       "    // IPython event is triggered only after the cells have been serialised, which for\n",
       "    // our purposes (turning an active figure into a static one), is too late.\n",
       "    var cells = IPython.notebook.get_cells();\n",
       "    var ncells = cells.length;\n",
       "    for (var i=0; i<ncells; i++) {\n",
       "        var cell = cells[i];\n",
       "        if (cell.cell_type === 'code'){\n",
       "            for (var j=0; j<cell.output_area.outputs.length; j++) {\n",
       "                var data = cell.output_area.outputs[j];\n",
       "                if (data.data) {\n",
       "                    // IPython >= 3 moved mimebundle to data attribute of output\n",
       "                    data = data.data;\n",
       "                }\n",
       "                if (data['text/html'] == html_output) {\n",
       "                    return [cell, data, j];\n",
       "                }\n",
       "            }\n",
       "        }\n",
       "    }\n",
       "}\n",
       "\n",
       "// Register the function which deals with the matplotlib target/channel.\n",
       "// The kernel may be null if the page has been refreshed.\n",
       "if (IPython.notebook.kernel != null) {\n",
       "    IPython.notebook.kernel.comm_manager.register_target('matplotlib', mpl.mpl_figure_comm);\n",
       "}\n"
      ],
      "text/plain": [
       "<IPython.core.display.Javascript object>"
      ]
     },
     "metadata": {},
     "output_type": "display_data"
    },
    {
     "data": {
      "text/html": [
       "<img src=\"data:image/png;base64,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\" width=\"640\">"
      ],
      "text/plain": [
       "<IPython.core.display.HTML object>"
      ]
     },
     "metadata": {},
     "output_type": "display_data"
    },
    {
     "data": {
      "text/plain": [
       "<matplotlib.collections.QuadMesh at 0x242022234c8>"
      ]
     },
     "execution_count": 21,
     "metadata": {},
     "output_type": "execute_result"
    }
   ],
   "source": [
    "fig, ax = plt.subplots()\n",
    "ax.pcolormesh(Kx, Ky, E[2], cmap='coolwarm')"
   ]
  },
  {
   "cell_type": "code",
   "execution_count": 31,
   "metadata": {},
   "outputs": [
    {
     "data": {
      "application/javascript": [
       "/* Put everything inside the global mpl namespace */\n",
       "window.mpl = {};\n",
       "\n",
       "\n",
       "mpl.get_websocket_type = function() {\n",
       "    if (typeof(WebSocket) !== 'undefined') {\n",
       "        return WebSocket;\n",
       "    } else if (typeof(MozWebSocket) !== 'undefined') {\n",
       "        return MozWebSocket;\n",
       "    } else {\n",
       "        alert('Your browser does not have WebSocket support. ' +\n",
       "              'Please try Chrome, Safari or Firefox ≥ 6. ' +\n",
       "              'Firefox 4 and 5 are also supported but you ' +\n",
       "              'have to enable WebSockets in about:config.');\n",
       "    };\n",
       "}\n",
       "\n",
       "mpl.figure = function(figure_id, websocket, ondownload, parent_element) {\n",
       "    this.id = figure_id;\n",
       "\n",
       "    this.ws = websocket;\n",
       "\n",
       "    this.supports_binary = (this.ws.binaryType != undefined);\n",
       "\n",
       "    if (!this.supports_binary) {\n",
       "        var warnings = document.getElementById(\"mpl-warnings\");\n",
       "        if (warnings) {\n",
       "            warnings.style.display = 'block';\n",
       "            warnings.textContent = (\n",
       "                \"This browser does not support binary websocket messages. \" +\n",
       "                    \"Performance may be slow.\");\n",
       "        }\n",
       "    }\n",
       "\n",
       "    this.imageObj = new Image();\n",
       "\n",
       "    this.context = undefined;\n",
       "    this.message = undefined;\n",
       "    this.canvas = undefined;\n",
       "    this.rubberband_canvas = undefined;\n",
       "    this.rubberband_context = undefined;\n",
       "    this.format_dropdown = undefined;\n",
       "\n",
       "    this.image_mode = 'full';\n",
       "\n",
       "    this.root = $('<div/>');\n",
       "    this._root_extra_style(this.root)\n",
       "    this.root.attr('style', 'display: inline-block');\n",
       "\n",
       "    $(parent_element).append(this.root);\n",
       "\n",
       "    this._init_header(this);\n",
       "    this._init_canvas(this);\n",
       "    this._init_toolbar(this);\n",
       "\n",
       "    var fig = this;\n",
       "\n",
       "    this.waiting = false;\n",
       "\n",
       "    this.ws.onopen =  function () {\n",
       "            fig.send_message(\"supports_binary\", {value: fig.supports_binary});\n",
       "            fig.send_message(\"send_image_mode\", {});\n",
       "            if (mpl.ratio != 1) {\n",
       "                fig.send_message(\"set_dpi_ratio\", {'dpi_ratio': mpl.ratio});\n",
       "            }\n",
       "            fig.send_message(\"refresh\", {});\n",
       "        }\n",
       "\n",
       "    this.imageObj.onload = function() {\n",
       "            if (fig.image_mode == 'full') {\n",
       "                // Full images could contain transparency (where diff images\n",
       "                // almost always do), so we need to clear the canvas so that\n",
       "                // there is no ghosting.\n",
       "                fig.context.clearRect(0, 0, fig.canvas.width, fig.canvas.height);\n",
       "            }\n",
       "            fig.context.drawImage(fig.imageObj, 0, 0);\n",
       "        };\n",
       "\n",
       "    this.imageObj.onunload = function() {\n",
       "        fig.ws.close();\n",
       "    }\n",
       "\n",
       "    this.ws.onmessage = this._make_on_message_function(this);\n",
       "\n",
       "    this.ondownload = ondownload;\n",
       "}\n",
       "\n",
       "mpl.figure.prototype._init_header = function() {\n",
       "    var titlebar = $(\n",
       "        '<div class=\"ui-dialog-titlebar ui-widget-header ui-corner-all ' +\n",
       "        'ui-helper-clearfix\"/>');\n",
       "    var titletext = $(\n",
       "        '<div class=\"ui-dialog-title\" style=\"width: 100%; ' +\n",
       "        'text-align: center; padding: 3px;\"/>');\n",
       "    titlebar.append(titletext)\n",
       "    this.root.append(titlebar);\n",
       "    this.header = titletext[0];\n",
       "}\n",
       "\n",
       "\n",
       "\n",
       "mpl.figure.prototype._canvas_extra_style = function(canvas_div) {\n",
       "\n",
       "}\n",
       "\n",
       "\n",
       "mpl.figure.prototype._root_extra_style = function(canvas_div) {\n",
       "\n",
       "}\n",
       "\n",
       "mpl.figure.prototype._init_canvas = function() {\n",
       "    var fig = this;\n",
       "\n",
       "    var canvas_div = $('<div/>');\n",
       "\n",
       "    canvas_div.attr('style', 'position: relative; clear: both; outline: 0');\n",
       "\n",
       "    function canvas_keyboard_event(event) {\n",
       "        return fig.key_event(event, event['data']);\n",
       "    }\n",
       "\n",
       "    canvas_div.keydown('key_press', canvas_keyboard_event);\n",
       "    canvas_div.keyup('key_release', canvas_keyboard_event);\n",
       "    this.canvas_div = canvas_div\n",
       "    this._canvas_extra_style(canvas_div)\n",
       "    this.root.append(canvas_div);\n",
       "\n",
       "    var canvas = $('<canvas/>');\n",
       "    canvas.addClass('mpl-canvas');\n",
       "    canvas.attr('style', \"left: 0; top: 0; z-index: 0; outline: 0\")\n",
       "\n",
       "    this.canvas = canvas[0];\n",
       "    this.context = canvas[0].getContext(\"2d\");\n",
       "\n",
       "    var backingStore = this.context.backingStorePixelRatio ||\n",
       "\tthis.context.webkitBackingStorePixelRatio ||\n",
       "\tthis.context.mozBackingStorePixelRatio ||\n",
       "\tthis.context.msBackingStorePixelRatio ||\n",
       "\tthis.context.oBackingStorePixelRatio ||\n",
       "\tthis.context.backingStorePixelRatio || 1;\n",
       "\n",
       "    mpl.ratio = (window.devicePixelRatio || 1) / backingStore;\n",
       "\n",
       "    var rubberband = $('<canvas/>');\n",
       "    rubberband.attr('style', \"position: absolute; left: 0; top: 0; z-index: 1;\")\n",
       "\n",
       "    var pass_mouse_events = true;\n",
       "\n",
       "    canvas_div.resizable({\n",
       "        start: function(event, ui) {\n",
       "            pass_mouse_events = false;\n",
       "        },\n",
       "        resize: function(event, ui) {\n",
       "            fig.request_resize(ui.size.width, ui.size.height);\n",
       "        },\n",
       "        stop: function(event, ui) {\n",
       "            pass_mouse_events = true;\n",
       "            fig.request_resize(ui.size.width, ui.size.height);\n",
       "        },\n",
       "    });\n",
       "\n",
       "    function mouse_event_fn(event) {\n",
       "        if (pass_mouse_events)\n",
       "            return fig.mouse_event(event, event['data']);\n",
       "    }\n",
       "\n",
       "    rubberband.mousedown('button_press', mouse_event_fn);\n",
       "    rubberband.mouseup('button_release', mouse_event_fn);\n",
       "    // Throttle sequential mouse events to 1 every 20ms.\n",
       "    rubberband.mousemove('motion_notify', mouse_event_fn);\n",
       "\n",
       "    rubberband.mouseenter('figure_enter', mouse_event_fn);\n",
       "    rubberband.mouseleave('figure_leave', mouse_event_fn);\n",
       "\n",
       "    canvas_div.on(\"wheel\", function (event) {\n",
       "        event = event.originalEvent;\n",
       "        event['data'] = 'scroll'\n",
       "        if (event.deltaY < 0) {\n",
       "            event.step = 1;\n",
       "        } else {\n",
       "            event.step = -1;\n",
       "        }\n",
       "        mouse_event_fn(event);\n",
       "    });\n",
       "\n",
       "    canvas_div.append(canvas);\n",
       "    canvas_div.append(rubberband);\n",
       "\n",
       "    this.rubberband = rubberband;\n",
       "    this.rubberband_canvas = rubberband[0];\n",
       "    this.rubberband_context = rubberband[0].getContext(\"2d\");\n",
       "    this.rubberband_context.strokeStyle = \"#000000\";\n",
       "\n",
       "    this._resize_canvas = function(width, height) {\n",
       "        // Keep the size of the canvas, canvas container, and rubber band\n",
       "        // canvas in synch.\n",
       "        canvas_div.css('width', width)\n",
       "        canvas_div.css('height', height)\n",
       "\n",
       "        canvas.attr('width', width * mpl.ratio);\n",
       "        canvas.attr('height', height * mpl.ratio);\n",
       "        canvas.attr('style', 'width: ' + width + 'px; height: ' + height + 'px;');\n",
       "\n",
       "        rubberband.attr('width', width);\n",
       "        rubberband.attr('height', height);\n",
       "    }\n",
       "\n",
       "    // Set the figure to an initial 600x600px, this will subsequently be updated\n",
       "    // upon first draw.\n",
       "    this._resize_canvas(600, 600);\n",
       "\n",
       "    // Disable right mouse context menu.\n",
       "    $(this.rubberband_canvas).bind(\"contextmenu\",function(e){\n",
       "        return false;\n",
       "    });\n",
       "\n",
       "    function set_focus () {\n",
       "        canvas.focus();\n",
       "        canvas_div.focus();\n",
       "    }\n",
       "\n",
       "    window.setTimeout(set_focus, 100);\n",
       "}\n",
       "\n",
       "mpl.figure.prototype._init_toolbar = function() {\n",
       "    var fig = this;\n",
       "\n",
       "    var nav_element = $('<div/>');\n",
       "    nav_element.attr('style', 'width: 100%');\n",
       "    this.root.append(nav_element);\n",
       "\n",
       "    // Define a callback function for later on.\n",
       "    function toolbar_event(event) {\n",
       "        return fig.toolbar_button_onclick(event['data']);\n",
       "    }\n",
       "    function toolbar_mouse_event(event) {\n",
       "        return fig.toolbar_button_onmouseover(event['data']);\n",
       "    }\n",
       "\n",
       "    for(var toolbar_ind in mpl.toolbar_items) {\n",
       "        var name = mpl.toolbar_items[toolbar_ind][0];\n",
       "        var tooltip = mpl.toolbar_items[toolbar_ind][1];\n",
       "        var image = mpl.toolbar_items[toolbar_ind][2];\n",
       "        var method_name = mpl.toolbar_items[toolbar_ind][3];\n",
       "\n",
       "        if (!name) {\n",
       "            // put a spacer in here.\n",
       "            continue;\n",
       "        }\n",
       "        var button = $('<button/>');\n",
       "        button.addClass('ui-button ui-widget ui-state-default ui-corner-all ' +\n",
       "                        'ui-button-icon-only');\n",
       "        button.attr('role', 'button');\n",
       "        button.attr('aria-disabled', 'false');\n",
       "        button.click(method_name, toolbar_event);\n",
       "        button.mouseover(tooltip, toolbar_mouse_event);\n",
       "\n",
       "        var icon_img = $('<span/>');\n",
       "        icon_img.addClass('ui-button-icon-primary ui-icon');\n",
       "        icon_img.addClass(image);\n",
       "        icon_img.addClass('ui-corner-all');\n",
       "\n",
       "        var tooltip_span = $('<span/>');\n",
       "        tooltip_span.addClass('ui-button-text');\n",
       "        tooltip_span.html(tooltip);\n",
       "\n",
       "        button.append(icon_img);\n",
       "        button.append(tooltip_span);\n",
       "\n",
       "        nav_element.append(button);\n",
       "    }\n",
       "\n",
       "    var fmt_picker_span = $('<span/>');\n",
       "\n",
       "    var fmt_picker = $('<select/>');\n",
       "    fmt_picker.addClass('mpl-toolbar-option ui-widget ui-widget-content');\n",
       "    fmt_picker_span.append(fmt_picker);\n",
       "    nav_element.append(fmt_picker_span);\n",
       "    this.format_dropdown = fmt_picker[0];\n",
       "\n",
       "    for (var ind in mpl.extensions) {\n",
       "        var fmt = mpl.extensions[ind];\n",
       "        var option = $(\n",
       "            '<option/>', {selected: fmt === mpl.default_extension}).html(fmt);\n",
       "        fmt_picker.append(option);\n",
       "    }\n",
       "\n",
       "    // Add hover states to the ui-buttons\n",
       "    $( \".ui-button\" ).hover(\n",
       "        function() { $(this).addClass(\"ui-state-hover\");},\n",
       "        function() { $(this).removeClass(\"ui-state-hover\");}\n",
       "    );\n",
       "\n",
       "    var status_bar = $('<span class=\"mpl-message\"/>');\n",
       "    nav_element.append(status_bar);\n",
       "    this.message = status_bar[0];\n",
       "}\n",
       "\n",
       "mpl.figure.prototype.request_resize = function(x_pixels, y_pixels) {\n",
       "    // Request matplotlib to resize the figure. Matplotlib will then trigger a resize in the client,\n",
       "    // which will in turn request a refresh of the image.\n",
       "    this.send_message('resize', {'width': x_pixels, 'height': y_pixels});\n",
       "}\n",
       "\n",
       "mpl.figure.prototype.send_message = function(type, properties) {\n",
       "    properties['type'] = type;\n",
       "    properties['figure_id'] = this.id;\n",
       "    this.ws.send(JSON.stringify(properties));\n",
       "}\n",
       "\n",
       "mpl.figure.prototype.send_draw_message = function() {\n",
       "    if (!this.waiting) {\n",
       "        this.waiting = true;\n",
       "        this.ws.send(JSON.stringify({type: \"draw\", figure_id: this.id}));\n",
       "    }\n",
       "}\n",
       "\n",
       "\n",
       "mpl.figure.prototype.handle_save = function(fig, msg) {\n",
       "    var format_dropdown = fig.format_dropdown;\n",
       "    var format = format_dropdown.options[format_dropdown.selectedIndex].value;\n",
       "    fig.ondownload(fig, format);\n",
       "}\n",
       "\n",
       "\n",
       "mpl.figure.prototype.handle_resize = function(fig, msg) {\n",
       "    var size = msg['size'];\n",
       "    if (size[0] != fig.canvas.width || size[1] != fig.canvas.height) {\n",
       "        fig._resize_canvas(size[0], size[1]);\n",
       "        fig.send_message(\"refresh\", {});\n",
       "    };\n",
       "}\n",
       "\n",
       "mpl.figure.prototype.handle_rubberband = function(fig, msg) {\n",
       "    var x0 = msg['x0'] / mpl.ratio;\n",
       "    var y0 = (fig.canvas.height - msg['y0']) / mpl.ratio;\n",
       "    var x1 = msg['x1'] / mpl.ratio;\n",
       "    var y1 = (fig.canvas.height - msg['y1']) / mpl.ratio;\n",
       "    x0 = Math.floor(x0) + 0.5;\n",
       "    y0 = Math.floor(y0) + 0.5;\n",
       "    x1 = Math.floor(x1) + 0.5;\n",
       "    y1 = Math.floor(y1) + 0.5;\n",
       "    var min_x = Math.min(x0, x1);\n",
       "    var min_y = Math.min(y0, y1);\n",
       "    var width = Math.abs(x1 - x0);\n",
       "    var height = Math.abs(y1 - y0);\n",
       "\n",
       "    fig.rubberband_context.clearRect(\n",
       "        0, 0, fig.canvas.width / mpl.ratio, fig.canvas.height / mpl.ratio);\n",
       "\n",
       "    fig.rubberband_context.strokeRect(min_x, min_y, width, height);\n",
       "}\n",
       "\n",
       "mpl.figure.prototype.handle_figure_label = function(fig, msg) {\n",
       "    // Updates the figure title.\n",
       "    fig.header.textContent = msg['label'];\n",
       "}\n",
       "\n",
       "mpl.figure.prototype.handle_cursor = function(fig, msg) {\n",
       "    var cursor = msg['cursor'];\n",
       "    switch(cursor)\n",
       "    {\n",
       "    case 0:\n",
       "        cursor = 'pointer';\n",
       "        break;\n",
       "    case 1:\n",
       "        cursor = 'default';\n",
       "        break;\n",
       "    case 2:\n",
       "        cursor = 'crosshair';\n",
       "        break;\n",
       "    case 3:\n",
       "        cursor = 'move';\n",
       "        break;\n",
       "    }\n",
       "    fig.rubberband_canvas.style.cursor = cursor;\n",
       "}\n",
       "\n",
       "mpl.figure.prototype.handle_message = function(fig, msg) {\n",
       "    fig.message.textContent = msg['message'];\n",
       "}\n",
       "\n",
       "mpl.figure.prototype.handle_draw = function(fig, msg) {\n",
       "    // Request the server to send over a new figure.\n",
       "    fig.send_draw_message();\n",
       "}\n",
       "\n",
       "mpl.figure.prototype.handle_image_mode = function(fig, msg) {\n",
       "    fig.image_mode = msg['mode'];\n",
       "}\n",
       "\n",
       "mpl.figure.prototype.updated_canvas_event = function() {\n",
       "    // Called whenever the canvas gets updated.\n",
       "    this.send_message(\"ack\", {});\n",
       "}\n",
       "\n",
       "// A function to construct a web socket function for onmessage handling.\n",
       "// Called in the figure constructor.\n",
       "mpl.figure.prototype._make_on_message_function = function(fig) {\n",
       "    return function socket_on_message(evt) {\n",
       "        if (evt.data instanceof Blob) {\n",
       "            /* FIXME: We get \"Resource interpreted as Image but\n",
       "             * transferred with MIME type text/plain:\" errors on\n",
       "             * Chrome.  But how to set the MIME type?  It doesn't seem\n",
       "             * to be part of the websocket stream */\n",
       "            evt.data.type = \"image/png\";\n",
       "\n",
       "            /* Free the memory for the previous frames */\n",
       "            if (fig.imageObj.src) {\n",
       "                (window.URL || window.webkitURL).revokeObjectURL(\n",
       "                    fig.imageObj.src);\n",
       "            }\n",
       "\n",
       "            fig.imageObj.src = (window.URL || window.webkitURL).createObjectURL(\n",
       "                evt.data);\n",
       "            fig.updated_canvas_event();\n",
       "            fig.waiting = false;\n",
       "            return;\n",
       "        }\n",
       "        else if (typeof evt.data === 'string' && evt.data.slice(0, 21) == \"data:image/png;base64\") {\n",
       "            fig.imageObj.src = evt.data;\n",
       "            fig.updated_canvas_event();\n",
       "            fig.waiting = false;\n",
       "            return;\n",
       "        }\n",
       "\n",
       "        var msg = JSON.parse(evt.data);\n",
       "        var msg_type = msg['type'];\n",
       "\n",
       "        // Call the  \"handle_{type}\" callback, which takes\n",
       "        // the figure and JSON message as its only arguments.\n",
       "        try {\n",
       "            var callback = fig[\"handle_\" + msg_type];\n",
       "        } catch (e) {\n",
       "            console.log(\"No handler for the '\" + msg_type + \"' message type: \", msg);\n",
       "            return;\n",
       "        }\n",
       "\n",
       "        if (callback) {\n",
       "            try {\n",
       "                // console.log(\"Handling '\" + msg_type + \"' message: \", msg);\n",
       "                callback(fig, msg);\n",
       "            } catch (e) {\n",
       "                console.log(\"Exception inside the 'handler_\" + msg_type + \"' callback:\", e, e.stack, msg);\n",
       "            }\n",
       "        }\n",
       "    };\n",
       "}\n",
       "\n",
       "// from http://stackoverflow.com/questions/1114465/getting-mouse-location-in-canvas\n",
       "mpl.findpos = function(e) {\n",
       "    //this section is from http://www.quirksmode.org/js/events_properties.html\n",
       "    var targ;\n",
       "    if (!e)\n",
       "        e = window.event;\n",
       "    if (e.target)\n",
       "        targ = e.target;\n",
       "    else if (e.srcElement)\n",
       "        targ = e.srcElement;\n",
       "    if (targ.nodeType == 3) // defeat Safari bug\n",
       "        targ = targ.parentNode;\n",
       "\n",
       "    // jQuery normalizes the pageX and pageY\n",
       "    // pageX,Y are the mouse positions relative to the document\n",
       "    // offset() returns the position of the element relative to the document\n",
       "    var x = e.pageX - $(targ).offset().left;\n",
       "    var y = e.pageY - $(targ).offset().top;\n",
       "\n",
       "    return {\"x\": x, \"y\": y};\n",
       "};\n",
       "\n",
       "/*\n",
       " * return a copy of an object with only non-object keys\n",
       " * we need this to avoid circular references\n",
       " * http://stackoverflow.com/a/24161582/3208463\n",
       " */\n",
       "function simpleKeys (original) {\n",
       "  return Object.keys(original).reduce(function (obj, key) {\n",
       "    if (typeof original[key] !== 'object')\n",
       "        obj[key] = original[key]\n",
       "    return obj;\n",
       "  }, {});\n",
       "}\n",
       "\n",
       "mpl.figure.prototype.mouse_event = function(event, name) {\n",
       "    var canvas_pos = mpl.findpos(event)\n",
       "\n",
       "    if (name === 'button_press')\n",
       "    {\n",
       "        this.canvas.focus();\n",
       "        this.canvas_div.focus();\n",
       "    }\n",
       "\n",
       "    var x = canvas_pos.x * mpl.ratio;\n",
       "    var y = canvas_pos.y * mpl.ratio;\n",
       "\n",
       "    this.send_message(name, {x: x, y: y, button: event.button,\n",
       "                             step: event.step,\n",
       "                             guiEvent: simpleKeys(event)});\n",
       "\n",
       "    /* This prevents the web browser from automatically changing to\n",
       "     * the text insertion cursor when the button is pressed.  We want\n",
       "     * to control all of the cursor setting manually through the\n",
       "     * 'cursor' event from matplotlib */\n",
       "    event.preventDefault();\n",
       "    return false;\n",
       "}\n",
       "\n",
       "mpl.figure.prototype._key_event_extra = function(event, name) {\n",
       "    // Handle any extra behaviour associated with a key event\n",
       "}\n",
       "\n",
       "mpl.figure.prototype.key_event = function(event, name) {\n",
       "\n",
       "    // Prevent repeat events\n",
       "    if (name == 'key_press')\n",
       "    {\n",
       "        if (event.which === this._key)\n",
       "            return;\n",
       "        else\n",
       "            this._key = event.which;\n",
       "    }\n",
       "    if (name == 'key_release')\n",
       "        this._key = null;\n",
       "\n",
       "    var value = '';\n",
       "    if (event.ctrlKey && event.which != 17)\n",
       "        value += \"ctrl+\";\n",
       "    if (event.altKey && event.which != 18)\n",
       "        value += \"alt+\";\n",
       "    if (event.shiftKey && event.which != 16)\n",
       "        value += \"shift+\";\n",
       "\n",
       "    value += 'k';\n",
       "    value += event.which.toString();\n",
       "\n",
       "    this._key_event_extra(event, name);\n",
       "\n",
       "    this.send_message(name, {key: value,\n",
       "                             guiEvent: simpleKeys(event)});\n",
       "    return false;\n",
       "}\n",
       "\n",
       "mpl.figure.prototype.toolbar_button_onclick = function(name) {\n",
       "    if (name == 'download') {\n",
       "        this.handle_save(this, null);\n",
       "    } else {\n",
       "        this.send_message(\"toolbar_button\", {name: name});\n",
       "    }\n",
       "};\n",
       "\n",
       "mpl.figure.prototype.toolbar_button_onmouseover = function(tooltip) {\n",
       "    this.message.textContent = tooltip;\n",
       "};\n",
       "mpl.toolbar_items = [[\"Home\", \"Reset original view\", \"fa fa-home icon-home\", \"home\"], [\"Back\", \"Back to previous view\", \"fa fa-arrow-left icon-arrow-left\", \"back\"], [\"Forward\", \"Forward to next view\", \"fa fa-arrow-right icon-arrow-right\", \"forward\"], [\"\", \"\", \"\", \"\"], [\"Pan\", \"Pan axes with left mouse, zoom with right\", \"fa fa-arrows icon-move\", \"pan\"], [\"Zoom\", \"Zoom to rectangle\", \"fa fa-square-o icon-check-empty\", \"zoom\"], [\"\", \"\", \"\", \"\"], [\"Download\", \"Download plot\", \"fa fa-floppy-o icon-save\", \"download\"]];\n",
       "\n",
       "mpl.extensions = [\"eps\", \"jpeg\", \"pdf\", \"png\", \"ps\", \"raw\", \"svg\", \"tif\"];\n",
       "\n",
       "mpl.default_extension = \"png\";var comm_websocket_adapter = function(comm) {\n",
       "    // Create a \"websocket\"-like object which calls the given IPython comm\n",
       "    // object with the appropriate methods. Currently this is a non binary\n",
       "    // socket, so there is still some room for performance tuning.\n",
       "    var ws = {};\n",
       "\n",
       "    ws.close = function() {\n",
       "        comm.close()\n",
       "    };\n",
       "    ws.send = function(m) {\n",
       "        //console.log('sending', m);\n",
       "        comm.send(m);\n",
       "    };\n",
       "    // Register the callback with on_msg.\n",
       "    comm.on_msg(function(msg) {\n",
       "        //console.log('receiving', msg['content']['data'], msg);\n",
       "        // Pass the mpl event to the overridden (by mpl) onmessage function.\n",
       "        ws.onmessage(msg['content']['data'])\n",
       "    });\n",
       "    return ws;\n",
       "}\n",
       "\n",
       "mpl.mpl_figure_comm = function(comm, msg) {\n",
       "    // This is the function which gets called when the mpl process\n",
       "    // starts-up an IPython Comm through the \"matplotlib\" channel.\n",
       "\n",
       "    var id = msg.content.data.id;\n",
       "    // Get hold of the div created by the display call when the Comm\n",
       "    // socket was opened in Python.\n",
       "    var element = $(\"#\" + id);\n",
       "    var ws_proxy = comm_websocket_adapter(comm)\n",
       "\n",
       "    function ondownload(figure, format) {\n",
       "        window.open(figure.imageObj.src);\n",
       "    }\n",
       "\n",
       "    var fig = new mpl.figure(id, ws_proxy,\n",
       "                           ondownload,\n",
       "                           element.get(0));\n",
       "\n",
       "    // Call onopen now - mpl needs it, as it is assuming we've passed it a real\n",
       "    // web socket which is closed, not our websocket->open comm proxy.\n",
       "    ws_proxy.onopen();\n",
       "\n",
       "    fig.parent_element = element.get(0);\n",
       "    fig.cell_info = mpl.find_output_cell(\"<div id='\" + id + \"'></div>\");\n",
       "    if (!fig.cell_info) {\n",
       "        console.error(\"Failed to find cell for figure\", id, fig);\n",
       "        return;\n",
       "    }\n",
       "\n",
       "    var output_index = fig.cell_info[2]\n",
       "    var cell = fig.cell_info[0];\n",
       "\n",
       "};\n",
       "\n",
       "mpl.figure.prototype.handle_close = function(fig, msg) {\n",
       "    var width = fig.canvas.width/mpl.ratio\n",
       "    fig.root.unbind('remove')\n",
       "\n",
       "    // Update the output cell to use the data from the current canvas.\n",
       "    fig.push_to_output();\n",
       "    var dataURL = fig.canvas.toDataURL();\n",
       "    // Re-enable the keyboard manager in IPython - without this line, in FF,\n",
       "    // the notebook keyboard shortcuts fail.\n",
       "    IPython.keyboard_manager.enable()\n",
       "    $(fig.parent_element).html('<img src=\"' + dataURL + '\" width=\"' + width + '\">');\n",
       "    fig.close_ws(fig, msg);\n",
       "}\n",
       "\n",
       "mpl.figure.prototype.close_ws = function(fig, msg){\n",
       "    fig.send_message('closing', msg);\n",
       "    // fig.ws.close()\n",
       "}\n",
       "\n",
       "mpl.figure.prototype.push_to_output = function(remove_interactive) {\n",
       "    // Turn the data on the canvas into data in the output cell.\n",
       "    var width = this.canvas.width/mpl.ratio\n",
       "    var dataURL = this.canvas.toDataURL();\n",
       "    this.cell_info[1]['text/html'] = '<img src=\"' + dataURL + '\" width=\"' + width + '\">';\n",
       "}\n",
       "\n",
       "mpl.figure.prototype.updated_canvas_event = function() {\n",
       "    // Tell IPython that the notebook contents must change.\n",
       "    IPython.notebook.set_dirty(true);\n",
       "    this.send_message(\"ack\", {});\n",
       "    var fig = this;\n",
       "    // Wait a second, then push the new image to the DOM so\n",
       "    // that it is saved nicely (might be nice to debounce this).\n",
       "    setTimeout(function () { fig.push_to_output() }, 1000);\n",
       "}\n",
       "\n",
       "mpl.figure.prototype._init_toolbar = function() {\n",
       "    var fig = this;\n",
       "\n",
       "    var nav_element = $('<div/>');\n",
       "    nav_element.attr('style', 'width: 100%');\n",
       "    this.root.append(nav_element);\n",
       "\n",
       "    // Define a callback function for later on.\n",
       "    function toolbar_event(event) {\n",
       "        return fig.toolbar_button_onclick(event['data']);\n",
       "    }\n",
       "    function toolbar_mouse_event(event) {\n",
       "        return fig.toolbar_button_onmouseover(event['data']);\n",
       "    }\n",
       "\n",
       "    for(var toolbar_ind in mpl.toolbar_items){\n",
       "        var name = mpl.toolbar_items[toolbar_ind][0];\n",
       "        var tooltip = mpl.toolbar_items[toolbar_ind][1];\n",
       "        var image = mpl.toolbar_items[toolbar_ind][2];\n",
       "        var method_name = mpl.toolbar_items[toolbar_ind][3];\n",
       "\n",
       "        if (!name) { continue; };\n",
       "\n",
       "        var button = $('<button class=\"btn btn-default\" href=\"#\" title=\"' + name + '\"><i class=\"fa ' + image + ' fa-lg\"></i></button>');\n",
       "        button.click(method_name, toolbar_event);\n",
       "        button.mouseover(tooltip, toolbar_mouse_event);\n",
       "        nav_element.append(button);\n",
       "    }\n",
       "\n",
       "    // Add the status bar.\n",
       "    var status_bar = $('<span class=\"mpl-message\" style=\"text-align:right; float: right;\"/>');\n",
       "    nav_element.append(status_bar);\n",
       "    this.message = status_bar[0];\n",
       "\n",
       "    // Add the close button to the window.\n",
       "    var buttongrp = $('<div class=\"btn-group inline pull-right\"></div>');\n",
       "    var button = $('<button class=\"btn btn-mini btn-primary\" href=\"#\" title=\"Stop Interaction\"><i class=\"fa fa-power-off icon-remove icon-large\"></i></button>');\n",
       "    button.click(function (evt) { fig.handle_close(fig, {}); } );\n",
       "    button.mouseover('Stop Interaction', toolbar_mouse_event);\n",
       "    buttongrp.append(button);\n",
       "    var titlebar = this.root.find($('.ui-dialog-titlebar'));\n",
       "    titlebar.prepend(buttongrp);\n",
       "}\n",
       "\n",
       "mpl.figure.prototype._root_extra_style = function(el){\n",
       "    var fig = this\n",
       "    el.on(\"remove\", function(){\n",
       "\tfig.close_ws(fig, {});\n",
       "    });\n",
       "}\n",
       "\n",
       "mpl.figure.prototype._canvas_extra_style = function(el){\n",
       "    // this is important to make the div 'focusable\n",
       "    el.attr('tabindex', 0)\n",
       "    // reach out to IPython and tell the keyboard manager to turn it's self\n",
       "    // off when our div gets focus\n",
       "\n",
       "    // location in version 3\n",
       "    if (IPython.notebook.keyboard_manager) {\n",
       "        IPython.notebook.keyboard_manager.register_events(el);\n",
       "    }\n",
       "    else {\n",
       "        // location in version 2\n",
       "        IPython.keyboard_manager.register_events(el);\n",
       "    }\n",
       "\n",
       "}\n",
       "\n",
       "mpl.figure.prototype._key_event_extra = function(event, name) {\n",
       "    var manager = IPython.notebook.keyboard_manager;\n",
       "    if (!manager)\n",
       "        manager = IPython.keyboard_manager;\n",
       "\n",
       "    // Check for shift+enter\n",
       "    if (event.shiftKey && event.which == 13) {\n",
       "        this.canvas_div.blur();\n",
       "        event.shiftKey = false;\n",
       "        // Send a \"J\" for go to next cell\n",
       "        event.which = 74;\n",
       "        event.keyCode = 74;\n",
       "        manager.command_mode();\n",
       "        manager.handle_keydown(event);\n",
       "    }\n",
       "}\n",
       "\n",
       "mpl.figure.prototype.handle_save = function(fig, msg) {\n",
       "    fig.ondownload(fig, null);\n",
       "}\n",
       "\n",
       "\n",
       "mpl.find_output_cell = function(html_output) {\n",
       "    // Return the cell and output element which can be found *uniquely* in the notebook.\n",
       "    // Note - this is a bit hacky, but it is done because the \"notebook_saving.Notebook\"\n",
       "    // IPython event is triggered only after the cells have been serialised, which for\n",
       "    // our purposes (turning an active figure into a static one), is too late.\n",
       "    var cells = IPython.notebook.get_cells();\n",
       "    var ncells = cells.length;\n",
       "    for (var i=0; i<ncells; i++) {\n",
       "        var cell = cells[i];\n",
       "        if (cell.cell_type === 'code'){\n",
       "            for (var j=0; j<cell.output_area.outputs.length; j++) {\n",
       "                var data = cell.output_area.outputs[j];\n",
       "                if (data.data) {\n",
       "                    // IPython >= 3 moved mimebundle to data attribute of output\n",
       "                    data = data.data;\n",
       "                }\n",
       "                if (data['text/html'] == html_output) {\n",
       "                    return [cell, data, j];\n",
       "                }\n",
       "            }\n",
       "        }\n",
       "    }\n",
       "}\n",
       "\n",
       "// Register the function which deals with the matplotlib target/channel.\n",
       "// The kernel may be null if the page has been refreshed.\n",
       "if (IPython.notebook.kernel != null) {\n",
       "    IPython.notebook.kernel.comm_manager.register_target('matplotlib', mpl.mpl_figure_comm);\n",
       "}\n"
      ],
      "text/plain": [
       "<IPython.core.display.Javascript object>"
      ]
     },
     "metadata": {},
     "output_type": "display_data"
    },
    {
     "data": {
      "text/html": [
       "<img src=\"data:image/png;base64,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\" width=\"640\">"
      ],
      "text/plain": [
       "<IPython.core.display.HTML object>"
      ]
     },
     "metadata": {},
     "output_type": "display_data"
    },
    {
     "data": {
      "text/plain": [
       "<matplotlib.collections.QuadMesh at 0x24203a82448>"
      ]
     },
     "execution_count": 31,
     "metadata": {},
     "output_type": "execute_result"
    }
   ],
   "source": [
    "fig, ax = plt.subplots()\n",
    "ax.pcolormesh(Kx, Ky, Psi[2, 3].real, cmap='coolwarm')"
   ]
  },
  {
   "cell_type": "code",
   "execution_count": 25,
   "metadata": {},
   "outputs": [
    {
     "data": {
      "text/plain": [
       "array([[[[ 0.38927981+0.j        ,  0.38334666+0.j        ,\n",
       "           0.37704333+0.j        , ...,  0.35676253-0.j        ,\n",
       "           0.36528606-0.j        ,  0.37382813-0.j        ],\n",
       "         [ 0.38124863+0.j        ,  0.37441694+0.j        ,\n",
       "           0.36710508+0.j        , ...,  0.34962153+0.j        ,\n",
       "           0.35963379-0.j        ,  0.3694081 -0.j        ],\n",
       "         [ 0.37269851+0.j        ,  0.36480559+0.j        ,\n",
       "           0.35628202+0.j        , ...,  0.34248475+0.j        ,\n",
       "           0.35410464+0.j        ,  0.36516455-0.j        ],\n",
       "         ...,\n",
       "         [ 0.37269851+0.j        ,  0.36480559+0.j        ,\n",
       "           0.35628202+0.j        , ...,  0.34248475+0.j        ,\n",
       "           0.35410464+0.j        ,  0.36516455-0.j        ],\n",
       "         [ 0.38124863+0.j        ,  0.37441694+0.j        ,\n",
       "           0.36710508+0.j        , ...,  0.34962153+0.j        ,\n",
       "           0.35963379-0.j        ,  0.3694081 -0.j        ],\n",
       "         [ 0.38927981+0.j        ,  0.38334666+0.j        ,\n",
       "           0.37704333+0.j        , ...,  0.35676253-0.j        ,\n",
       "           0.36528606-0.j        ,  0.37382813-0.j        ]],\n",
       "\n",
       "        [[ 0.03646028-0.36467404j,  0.06721765-0.35447498j,\n",
       "           0.09974112-0.34039029j, ...,  0.03630494+0.32909661j,\n",
       "          -0.01431215+0.33930693j, -0.06127206+0.34279601j],\n",
       "         [ 0.00073468-0.35833038j,  0.03220245-0.35034302j,\n",
       "           0.06592716-0.33846076j, ..., -0.00592555+0.32462596j,\n",
       "          -0.05583318+0.32996437j, -0.10108337+0.32931018j],\n",
       "         [-0.03846126-0.34752788j, -0.00674539-0.34210981j,\n",
       "           0.02777019-0.33292659j, ..., -0.05016062+0.31436579j,\n",
       "          -0.0982436 +0.31490077j, -0.14087128+0.31045733j],\n",
       "         ...,\n",
       "         [-0.03846126+0.34752788j, -0.00674539+0.34210981j,\n",
       "           0.02777019+0.33292659j, ..., -0.05016062-0.31436579j,\n",
       "          -0.0982436 -0.31490077j, -0.14087128-0.31045733j],\n",
       "         [ 0.00073468+0.35833038j,  0.03220245+0.35034302j,\n",
       "           0.06592716+0.33846076j, ..., -0.00592555-0.32462596j,\n",
       "          -0.05583318-0.32996437j, -0.10108337-0.32931018j],\n",
       "         [ 0.03646028+0.36467404j,  0.06721765+0.35447498j,\n",
       "           0.09974112+0.34039029j, ...,  0.03630494-0.32909661j,\n",
       "          -0.01431215-0.33930693j, -0.06127206-0.34279601j]],\n",
       "\n",
       "        [[-0.39007929-0.43952295j, -0.37383407-0.45817976j,\n",
       "          -0.35437604-0.47815442j, ...,  0.40916386-0.44850364j,\n",
       "           0.43966725-0.41163156j,  0.46357253-0.37664527j],\n",
       "         [-0.41442486-0.42364283j, -0.39874184-0.44396089j,\n",
       "          -0.379551  -0.46599738j, ...,  0.43992085-0.42398639j,\n",
       "           0.46705557-0.38528322j,  0.48748682-0.34955925j],\n",
       "         [-0.44136922-0.40315081j, -0.42676301-0.42508396j,\n",
       "          -0.40839518-0.44924707j, ...,  0.47132087-0.39467314j,\n",
       "           0.49427456-0.35491282j,  0.51072028-0.31923346j],\n",
       "         ...,\n",
       "         [-0.44136922+0.40315081j, -0.42676301+0.42508396j,\n",
       "          -0.40839518+0.44924707j, ...,  0.47132087+0.39467314j,\n",
       "           0.49427456+0.35491282j,  0.51072028+0.31923346j],\n",
       "         [-0.41442486+0.42364283j, -0.39874184+0.44396089j,\n",
       "          -0.379551  +0.46599738j, ...,  0.43992085+0.42398639j,\n",
       "           0.46705557+0.38528322j,  0.48748682+0.34955925j],\n",
       "         [-0.39007929+0.43952295j, -0.37383407+0.45817976j,\n",
       "          -0.35437604+0.47815442j, ...,  0.40916386+0.44850364j,\n",
       "           0.43966725+0.41163156j,  0.46357253+0.37664527j]],\n",
       "\n",
       "        [[ 0.41335252+0.44490689j,  0.3942849 +0.46661915j,\n",
       "           0.37177176+0.48948567j, ..., -0.41238927+0.47377461j,\n",
       "          -0.4420443 +0.4394099j , -0.46533939+0.407047j  ],\n",
       "         [ 0.43859648+0.42738764j,  0.42040949+0.45077075j,\n",
       "           0.39846329+0.47575862j, ..., -0.44392433+0.44942634j,\n",
       "          -0.47063735+0.41302073j, -0.49083261+0.37963522j],\n",
       "         [ 0.46605372+0.40533626j,  0.44929191+0.43028595j,\n",
       "           0.42850828+0.45740893j, ..., -0.47665656+0.41982201j,\n",
       "          -0.49955005+0.38206661j, -0.51605524+0.34837934j],\n",
       "         ...,\n",
       "         [ 0.46605372-0.40533626j,  0.44929191-0.43028595j,\n",
       "           0.42850828-0.45740893j, ..., -0.47665656-0.41982201j,\n",
       "          -0.49955005-0.38206661j, -0.51605524-0.34837934j],\n",
       "         [ 0.43859648-0.42738764j,  0.42040949-0.45077075j,\n",
       "           0.39846329-0.47575862j, ..., -0.44392433-0.44942634j,\n",
       "          -0.47063735-0.41302073j, -0.49083261-0.37963522j],\n",
       "         [ 0.41335252-0.44490689j,  0.3942849 -0.46661915j,\n",
       "           0.37177176-0.48948567j, ..., -0.41238927-0.47377461j,\n",
       "          -0.4420443 -0.4394099j , -0.46533939-0.407047j  ]]],\n",
       "\n",
       "\n",
       "       [[[ 0.61292094-0.j        ,  0.61822061+0.j        ,\n",
       "           0.62381955-0.j        , ...,  0.63455368+0.j        ,\n",
       "           0.62869134+0.j        ,  0.62267183+0.j        ],\n",
       "         [ 0.61910225+0.j        ,  0.62514517-0.j        ,\n",
       "           0.63164278-0.j        , ...,  0.64015661+0.j        ,\n",
       "           0.63337639+0.j        ,  0.62655414+0.j        ],\n",
       "         [ 0.62542105-0.j        ,  0.63230099-0.j        ,\n",
       "           0.63985406+0.j        , ...,  0.64593655+0.j        ,\n",
       "           0.63814141+0.j        ,  0.63045131+0.j        ],\n",
       "         ...,\n",
       "         [ 0.62542105-0.j        ,  0.63230099-0.j        ,\n",
       "           0.63985406+0.j        , ...,  0.64593655+0.j        ,\n",
       "           0.63814141+0.j        ,  0.63045131+0.j        ],\n",
       "         [ 0.61910225+0.j        ,  0.62514517-0.j        ,\n",
       "           0.63164278-0.j        , ...,  0.64015661+0.j        ,\n",
       "           0.63337639+0.j        ,  0.62655414+0.j        ],\n",
       "         [ 0.61292094-0.j        ,  0.61822061+0.j        ,\n",
       "           0.62381955-0.j        , ...,  0.63455368+0.j        ,\n",
       "           0.62869134+0.j        ,  0.62267183+0.j        ]],\n",
       "\n",
       "        [[ 0.03371131+0.61157778j, -0.0401801 +0.61361635j,\n",
       "          -0.12634565+0.6042174j , ..., -0.17806077-0.60636416j,\n",
       "          -0.10764537-0.61907206j, -0.04103648-0.62306912j],\n",
       "         [ 0.11226336+0.60593061j,  0.04099576+0.61726605j,\n",
       "          -0.04550257+0.61916183j, ..., -0.12717521-0.62102183j,\n",
       "          -0.05367473-0.62769165j,  0.0146526 -0.62557992j],\n",
       "         [ 0.19680219+0.58789878j,  0.1315323 +0.60819668j,\n",
       "           0.04899926+0.62227429j, ..., -0.068863  -0.63160648j,\n",
       "           0.00733583-0.631156j  ,  0.07672053-0.6220527j ],\n",
       "         ...,\n",
       "         [ 0.19680219-0.58789878j,  0.1315323 -0.60819668j,\n",
       "           0.04899926-0.62227429j, ..., -0.068863  +0.63160648j,\n",
       "           0.00733583+0.631156j  ,  0.07672053+0.6220527j ],\n",
       "         [ 0.11226336-0.60593061j,  0.04099576-0.61726605j,\n",
       "          -0.04550257-0.61916183j, ..., -0.12717521+0.62102183j,\n",
       "          -0.05367473+0.62769165j,  0.0146526 +0.62557992j],\n",
       "         [ 0.03371131-0.61157778j, -0.0401801 -0.61361635j,\n",
       "          -0.12634565-0.6042174j , ..., -0.17806077+0.60636416j,\n",
       "          -0.10764537+0.61907206j, -0.04103648+0.62306912j]],\n",
       "\n",
       "        [[ 0.24474472+0.27748711j,  0.22929602+0.28245845j,\n",
       "           0.2122909 +0.28739642j, ..., -0.22575057+0.24490728j,\n",
       "          -0.25107198+0.232205j  , -0.27388503+0.21951875j],\n",
       "         [ 0.25200655+0.25958774j,  0.23621218+0.26476749j,\n",
       "           0.2187498 +0.26996265j, ..., -0.23594864+0.22435194j,\n",
       "          -0.26074783+0.21184152j, -0.28289673+0.1995426j ],\n",
       "         [ 0.25966663+0.23934256j,  0.24359738+0.24468305j,\n",
       "           0.2257507 +0.25011373j, ..., -0.24571469+0.20222287j,\n",
       "          -0.26987704+0.19016573j, -0.29128804+0.17850089j],\n",
       "         ...,\n",
       "         [ 0.25966663-0.23934256j,  0.24359738-0.24468305j,\n",
       "           0.2257507 -0.25011373j, ..., -0.24571469-0.20222287j,\n",
       "          -0.26987704-0.19016573j, -0.29128804-0.17850089j],\n",
       "         [ 0.25200655-0.25958774j,  0.23621218-0.26476749j,\n",
       "           0.2187498 -0.26996265j, ..., -0.23594864-0.22435194j,\n",
       "          -0.26074783-0.21184152j, -0.28289673-0.1995426j ],\n",
       "         [ 0.24474472-0.27748711j,  0.22929602-0.28245845j,\n",
       "           0.2122909 -0.28739642j, ..., -0.22575057-0.24490728j,\n",
       "          -0.25107198-0.232205j  , -0.27388503-0.21951875j]],\n",
       "\n",
       "        [[ 0.26578772+0.20401447j,  0.24266051+0.22004602j,\n",
       "           0.21450827+0.23691634j, ..., -0.14739377+0.25552038j,\n",
       "          -0.16040292+0.25927603j, -0.17466093+0.26205484j],\n",
       "         [ 0.27396201+0.17609418j,  0.25290716+0.19140387j,\n",
       "           0.22682673+0.20835993j, ..., -0.14661088+0.24669326j,\n",
       "          -0.16177502+0.25083689j, -0.17817111+0.25351967j],\n",
       "         [ 0.27960022+0.14698479j,  0.26073412+0.16062298j,\n",
       "           0.23722918+0.17652941j, ..., -0.14649419+0.23741686j,\n",
       "          -0.16431627+0.24159341j, -0.18318335+0.24377883j],\n",
       "         ...,\n",
       "         [ 0.27960022-0.14698479j,  0.26073412-0.16062298j,\n",
       "           0.23722918-0.17652941j, ..., -0.14649419-0.23741686j,\n",
       "          -0.16431627-0.24159341j, -0.18318335-0.24377883j],\n",
       "         [ 0.27396201-0.17609418j,  0.25290716-0.19140387j,\n",
       "           0.22682673-0.20835993j, ..., -0.14661088-0.24669326j,\n",
       "          -0.16177502-0.25083689j, -0.17817111-0.25351967j],\n",
       "         [ 0.26578772-0.20401447j,  0.24266051-0.22004602j,\n",
       "           0.21450827-0.23691634j, ..., -0.14739377-0.25552038j,\n",
       "          -0.16040292-0.25927603j, -0.17466093-0.26205484j]]],\n",
       "\n",
       "\n",
       "       [[[ 0.59738301+0.j        ,  0.59938699+0.j        ,\n",
       "           0.60133311+0.j        , ...,  0.61637967+0.j        ,\n",
       "           0.61293365+0.j        ,  0.60916881+0.j        ],\n",
       "         [ 0.60114003+0.j        ,  0.60315437+0.j        ,\n",
       "           0.60499644+0.j        , ...,  0.61824273+0.j        ,\n",
       "           0.61438474+0.j        ,  0.61025427+0.j        ],\n",
       "         [ 0.6049776 +0.j        ,  0.60699024+0.j        ,\n",
       "           0.60866165+0.j        , ...,  0.61966883+0.j        ,\n",
       "           0.6154634 +0.j        ,  0.61103118+0.j        ],\n",
       "         ...,\n",
       "         [ 0.6049776 +0.j        ,  0.60699024+0.j        ,\n",
       "           0.60866165+0.j        , ...,  0.61966883+0.j        ,\n",
       "           0.6154634 +0.j        ,  0.61103118+0.j        ],\n",
       "         [ 0.60114003+0.j        ,  0.60315437+0.j        ,\n",
       "           0.60499644+0.j        , ...,  0.61824273+0.j        ,\n",
       "           0.61438474+0.j        ,  0.61025427+0.j        ],\n",
       "         [ 0.59738301+0.j        ,  0.59938699+0.j        ,\n",
       "           0.60133311+0.j        , ...,  0.61637967+0.j        ,\n",
       "           0.61293365+0.j        ,  0.60916881+0.j        ]],\n",
       "\n",
       "        [[-0.04301994-0.59677026j,  0.02985624-0.60271651j,\n",
       "           0.1161828 -0.59770641j, ...,  0.1858834 +0.59124146j,\n",
       "           0.11729305+0.60245179j,  0.05233779+0.60533195j],\n",
       "         [-0.12075158-0.59261446j, -0.05083473-0.60862148j,\n",
       "           0.03572943-0.61610889j, ...,  0.13803538+0.61020063j,\n",
       "           0.06595727+0.61506685j, -0.00103078+0.61153091j],\n",
       "         [-0.20477466-0.5761733j , -0.14153833-0.60195427j,\n",
       "          -0.05953558-0.62310101j, ...,  0.08229226+0.62629582j,\n",
       "           0.00702417+0.6234693j , -0.06135954+0.61240449j],\n",
       "         ...,\n",
       "         [-0.20477466+0.5761733j , -0.14153833+0.60195427j,\n",
       "          -0.05953558+0.62310101j, ...,  0.08229226-0.62629582j,\n",
       "           0.00702417-0.6234693j , -0.06135954-0.61240449j],\n",
       "         [-0.12075158+0.59261446j, -0.05083473+0.60862148j,\n",
       "           0.03572943+0.61610889j, ...,  0.13803538-0.61020063j,\n",
       "           0.06595727-0.61506685j, -0.00103078-0.61153091j],\n",
       "         [-0.04301994+0.59677026j,  0.02985624+0.60271651j,\n",
       "           0.1161828 +0.59770641j, ...,  0.1858834 -0.59124146j,\n",
       "           0.11729305-0.60245179j,  0.05233779-0.60533195j]],\n",
       "\n",
       "        [[ 0.24278769+0.26420401j,  0.22822648+0.26880113j,\n",
       "           0.21195543+0.27349084j, ..., -0.21160058+0.24377368j,\n",
       "          -0.23719665+0.23147747j, -0.26051843+0.21884756j],\n",
       "         [ 0.24914753+0.24602213j,  0.23415769+0.25060591j,\n",
       "           0.2173214 +0.25527278j, ..., -0.22183361+0.22469714j,\n",
       "          -0.2470679 +0.21259771j, -0.26984991+0.20030988j],\n",
       "         [ 0.25570017+0.22556627j,  0.24030671+0.23003373j,\n",
       "           0.22291676+0.23455372j, ..., -0.23152448+0.20406659j,\n",
       "          -0.25635105+0.19238997j, -0.27856416+0.18065513j],\n",
       "         ...,\n",
       "         [ 0.25570017-0.22556627j,  0.24030671-0.23003373j,\n",
       "           0.22291676-0.23455372j, ..., -0.23152448-0.20406659j,\n",
       "          -0.25635105-0.19238997j, -0.27856416-0.18065513j],\n",
       "         [ 0.24914753-0.24602213j,  0.23415769-0.25060591j,\n",
       "           0.2173214 -0.25527278j, ..., -0.22183361-0.22469714j,\n",
       "          -0.2470679 -0.21259771j, -0.26984991-0.20030988j],\n",
       "         [ 0.24278769-0.26420401j,  0.22822648-0.26880113j,\n",
       "           0.21195543-0.27349084j, ..., -0.21160058-0.24377368j,\n",
       "          -0.23719665-0.23147747j, -0.26051843-0.21884756j]],\n",
       "\n",
       "        [[-0.30727023-0.24896479j, -0.2826598 -0.26895859j,\n",
       "          -0.25237965-0.29022278j, ...,  0.19364056-0.30701779j,\n",
       "           0.20827683-0.30721851j,  0.22352202-0.30662868j],\n",
       "         [-0.31934041-0.21972288j, -0.29719169-0.23925821j,\n",
       "          -0.26938848-0.2610548j , ...,  0.19622457-0.29694161j,\n",
       "           0.21279866-0.2972376j ,  0.22992945-0.2963242j ],\n",
       "         [-0.3290359 -0.1885906j , -0.30957143-0.20659986j,\n",
       "          -0.28493476-0.2276763j , ...,  0.1997825 -0.2860634j ,\n",
       "           0.21874697-0.28611449j,  0.2380467 -0.2844928j ],\n",
       "         ...,\n",
       "         [-0.3290359 +0.1885906j , -0.30957143+0.20659986j,\n",
       "          -0.28493476+0.2276763j , ...,  0.1997825 +0.2860634j ,\n",
       "           0.21874697+0.28611449j,  0.2380467 +0.2844928j ],\n",
       "         [-0.31934041+0.21972288j, -0.29719169+0.23925821j,\n",
       "          -0.26938848+0.2610548j , ...,  0.19622457+0.29694161j,\n",
       "           0.21279866+0.2972376j ,  0.22992945+0.2963242j ],\n",
       "         [-0.30727023+0.24896479j, -0.2826598 +0.26895859j,\n",
       "          -0.25237965+0.29022278j, ...,  0.19364056+0.30701779j,\n",
       "           0.20827683+0.30721851j,  0.22352202+0.30662868j]]],\n",
       "\n",
       "\n",
       "       [[[ 0.34047422-0.j        ,  0.33404169+0.j        ,\n",
       "           0.32723996+0.j        , ...,  0.30023028-0.j        ,\n",
       "           0.30923395-0.j        ,  0.31850539-0.j        ],\n",
       "         [ 0.33165125+0.j        ,  0.32436134+0.j        ,\n",
       "           0.3166079 +0.j        , ...,  0.29281433+0.j        ,\n",
       "           0.30336327-0.j        ,  0.31393834-0.j        ],\n",
       "         [ 0.32240724+0.j        ,  0.31412606+0.j        ,\n",
       "           0.30525548+0.j        , ...,  0.28544827+0.j        ,\n",
       "           0.29764114+0.j        ,  0.3095592 -0.j        ],\n",
       "         ...,\n",
       "         [ 0.32240724+0.j        ,  0.31412606+0.j        ,\n",
       "           0.30525548+0.j        , ...,  0.28544827+0.j        ,\n",
       "           0.29764114+0.j        ,  0.3095592 -0.j        ],\n",
       "         [ 0.33165125+0.j        ,  0.32436134+0.j        ,\n",
       "           0.3166079 +0.j        , ...,  0.29281433+0.j        ,\n",
       "           0.30336327-0.j        ,  0.31393834-0.j        ],\n",
       "         [ 0.34047422-0.j        ,  0.33404169+0.j        ,\n",
       "           0.32723996+0.j        , ...,  0.30023028-0.j        ,\n",
       "           0.30923395-0.j        ,  0.31850539-0.j        ]],\n",
       "\n",
       "        [[-0.02689262+0.36305782j, -0.05634907+0.35264148j,\n",
       "          -0.08756388+0.33871145j, ..., -0.04842241-0.32331162j,\n",
       "           0.00326901-0.33632086j,  0.05203971-0.34199907j],\n",
       "         [ 0.00846074+0.35496395j, -0.02165564+0.3464845j ,\n",
       "          -0.0539374 +0.33449971j, ..., -0.00633719-0.31828052j,\n",
       "           0.0446747 -0.32630502j,  0.09170401-0.32770611j],\n",
       "         [ 0.04694156+0.34245756j,  0.01657023+0.33623625j,\n",
       "          -0.01641042+0.32664022j, ...,  0.03736728-0.30752954j,\n",
       "           0.08662814-0.31065456j,  0.13104192-0.3081553j ],\n",
       "         ...,\n",
       "         [ 0.04694156-0.34245756j,  0.01657023-0.33623625j,\n",
       "          -0.01641042-0.32664022j, ...,  0.03736728+0.30752954j,\n",
       "           0.08662814+0.31065456j,  0.13104192+0.3081553j ],\n",
       "         [ 0.00846074-0.35496395j, -0.02165564-0.3464845j ,\n",
       "          -0.0539374 -0.33449971j, ..., -0.00633719+0.31828052j,\n",
       "           0.0446747 +0.32630502j,  0.09170401+0.32770611j],\n",
       "         [-0.02689262-0.36305782j, -0.05634907-0.35264148j,\n",
       "          -0.08756388-0.33871145j, ..., -0.04842241+0.32331162j,\n",
       "           0.00326901+0.33632086j,  0.05203971+0.34199907j]],\n",
       "\n",
       "        [[-0.42057931-0.46056712j, -0.40487003-0.47926907j,\n",
       "          -0.38586947-0.499504j  , ...,  0.42534956-0.48514314j,\n",
       "           0.46123095-0.44465471j,  0.48961099-0.40565297j],\n",
       "         [-0.44562311-0.44351365j, -0.43039789-0.46382127j,\n",
       "          -0.41159841-0.4860557j , ...,  0.45894371-0.45866257j,\n",
       "           0.49108549-0.41610621j,  0.51553308-0.37629741j],\n",
       "         [-0.47330267-0.4215126j , -0.4590678 -0.44335245j,\n",
       "          -0.44102245-0.46761316j, ...,  0.4931345 -0.42707325j,\n",
       "           0.52065882-0.38329825j,  0.54063123-0.34355075j],\n",
       "         ...,\n",
       "         [-0.47330267+0.4215126j , -0.4590678 +0.44335245j,\n",
       "          -0.44102245+0.46761316j, ...,  0.4931345 +0.42707325j,\n",
       "           0.52065882+0.38329825j,  0.54063123+0.34355075j],\n",
       "         [-0.44562311+0.44351365j, -0.43039789+0.46382127j,\n",
       "          -0.41159841+0.4860557j , ...,  0.45894371+0.45866257j,\n",
       "           0.49108549+0.41610621j,  0.51553308+0.37629741j],\n",
       "         [-0.42057931+0.46056712j, -0.40487003+0.47926907j,\n",
       "          -0.38586947+0.499504j  , ...,  0.42534956+0.48514314j,\n",
       "           0.46123095+0.44465471j,  0.48961099+0.40565297j]],\n",
       "\n",
       "        [[-0.41195083-0.4391248j , -0.39439065-0.46013297j,\n",
       "          -0.37350045-0.48230597j, ...,  0.4040172 -0.47272681j,\n",
       "           0.43545243-0.43724289j,  0.46012016-0.40360749j],\n",
       "         [-0.43677356-0.42175941j, -0.420086  -0.44432475j,\n",
       "          -0.39977619-0.46848239j, ...,  0.43626626-0.44898573j,\n",
       "           0.46472775-0.41136202j,  0.48619724-0.37666954j],\n",
       "         [-0.463718  -0.39981272j, -0.44841808-0.42380656j,\n",
       "          -0.42925679-0.4499241j , ...,  0.46969832-0.41995102j,\n",
       "           0.49428401-0.38089266j,  0.51195154-0.34588699j],\n",
       "         ...,\n",
       "         [-0.463718  +0.39981272j, -0.44841808+0.42380656j,\n",
       "          -0.42925679+0.4499241j , ...,  0.46969832+0.41995102j,\n",
       "           0.49428401+0.38089266j,  0.51195154+0.34588699j],\n",
       "         [-0.43677356+0.42175941j, -0.420086  +0.44432475j,\n",
       "          -0.39977619+0.46848239j, ...,  0.43626626+0.44898573j,\n",
       "           0.46472775+0.41136202j,  0.48619724+0.37666954j],\n",
       "         [-0.41195083+0.4391248j , -0.39439065+0.46013297j,\n",
       "          -0.37350045+0.48230597j, ...,  0.4040172 +0.47272681j,\n",
       "           0.43545243+0.43724289j,  0.46012016+0.40360749j]]]])"
      ]
     },
     "execution_count": 25,
     "metadata": {},
     "output_type": "execute_result"
    }
   ],
   "source": [
    "Psi"
   ]
  },
  {
   "cell_type": "markdown",
   "metadata": {},
   "source": [
    "# Vectorize berry curvature"
   ]
  },
  {
   "cell_type": "code",
   "execution_count": 123,
   "metadata": {},
   "outputs": [],
   "source": [
    "kx, ky, Kx, Ky, E, Psi, Omega, Mu = get_bands(Nkx=2, Nky=3, Delta=0.02, delta=0.02)"
   ]
  },
  {
   "cell_type": "code",
   "execution_count": 124,
   "metadata": {},
   "outputs": [
    {
     "data": {
      "text/plain": [
       "((4, 3, 2), (4, 4, 3, 2))"
      ]
     },
     "execution_count": 124,
     "metadata": {},
     "output_type": "execute_result"
    }
   ],
   "source": [
    "E.shape, Psi.shape"
   ]
  },
  {
   "cell_type": "code",
   "execution_count": 125,
   "metadata": {},
   "outputs": [],
   "source": [
    "Omega = np.empty_like(E)\n",
    "Mu = np.empty_like(E)"
   ]
  },
  {
   "cell_type": "code",
   "execution_count": 126,
   "metadata": {},
   "outputs": [],
   "source": [
    "from blg_strain.hamiltonian import H_dkx, H_dky"
   ]
  },
  {
   "cell_type": "code",
   "execution_count": 127,
   "metadata": {},
   "outputs": [
    {
     "data": {
      "text/plain": [
       "(4, 4)"
      ]
     },
     "execution_count": 127,
     "metadata": {},
     "output_type": "execute_result"
    }
   ],
   "source": [
    "xi = 1\n",
    "hdkx, hdky = H_dkx(xi), H_dky()\n",
    "hdkx.shape"
   ]
  },
  {
   "cell_type": "code",
   "execution_count": 128,
   "metadata": {},
   "outputs": [],
   "source": [
    "for n, (e_n, psi_n) in enumerate(zip(E, Psi)):\n",
    "    for e_m, psi_m in zip(E, Psi):\n",
    "        pass"
   ]
  },
  {
   "cell_type": "code",
   "execution_count": 129,
   "metadata": {},
   "outputs": [
    {
     "data": {
      "text/plain": [
       "((3, 2), (4, 3, 2))"
      ]
     },
     "execution_count": 129,
     "metadata": {},
     "output_type": "execute_result"
    }
   ],
   "source": [
    "e_m.shape, psi_m.shape"
   ]
  },
  {
   "cell_type": "code",
   "execution_count": 133,
   "metadata": {},
   "outputs": [
    {
     "data": {
      "text/plain": [
       "(4, 3, 2)"
      ]
     },
     "execution_count": 133,
     "metadata": {},
     "output_type": "execute_result"
    }
   ],
   "source": [
    "result1 = np.tensordot(hdkx, psi_n, axes=[-1, 0])\n",
    "result1.shape"
   ]
  },
  {
   "cell_type": "code",
   "execution_count": 136,
   "metadata": {},
   "outputs": [
    {
     "data": {
      "text/plain": [
       "(3, 2, 3, 2)"
      ]
     },
     "execution_count": 136,
     "metadata": {},
     "output_type": "execute_result"
    }
   ],
   "source": [
    "result2 = np.tensordot(psi_m, result1, axes=[0,0])\n",
    "result2.shape"
   ]
  },
  {
   "cell_type": "markdown",
   "metadata": {},
   "source": [
    "Not quite the result we wanted... let's write down some test matrices."
   ]
  },
  {
   "cell_type": "code",
   "execution_count": 148,
   "metadata": {},
   "outputs": [],
   "source": [
    "A = np.array([\n",
    "    [1, 1, 1, 1],\n",
    "    [0, 1, 1, 1],\n",
    "    [0, 0, 1, 1],\n",
    "    [0, 0, 0, 1],\n",
    "])"
   ]
  },
  {
   "cell_type": "code",
   "execution_count": 217,
   "metadata": {},
   "outputs": [
    {
     "data": {
      "text/plain": [
       "(array([[1, 2, 3, 4],\n",
       "        [5, 6, 7, 8]]), array([[-1, -5],\n",
       "        [-2, -6],\n",
       "        [-3, -7],\n",
       "        [-4, -8]]), (2, 4), (4, 2))"
      ]
     },
     "execution_count": 217,
     "metadata": {},
     "output_type": "execute_result"
    }
   ],
   "source": [
    "a = np.array([[1, 2, 3, 4],\n",
    "              [5, 6, 7, 8]\n",
    "             ])\n",
    "b = np.array([[-1, -2, -3, -4],\n",
    "              [-5, -6, -7, -8]\n",
    "             ]).T\n",
    "a, b, a.shape, b.shape"
   ]
  },
  {
   "cell_type": "code",
   "execution_count": 218,
   "metadata": {},
   "outputs": [
    {
     "data": {
      "text/plain": [
       "array([[ 1,  3,  6, 10],\n",
       "       [ 5, 11, 18, 26]])"
      ]
     },
     "execution_count": 218,
     "metadata": {},
     "output_type": "execute_result"
    }
   ],
   "source": [
    "a.dot(A) # does as expected"
   ]
  },
  {
   "cell_type": "code",
   "execution_count": 219,
   "metadata": {},
   "outputs": [
    {
     "data": {
      "text/plain": [
       "array([[-10, -26],\n",
       "       [ -9, -21],\n",
       "       [ -7, -15],\n",
       "       [ -4,  -8]])"
      ]
     },
     "execution_count": 219,
     "metadata": {},
     "output_type": "execute_result"
    }
   ],
   "source": [
    "A.dot(b) # does as expected"
   ]
  },
  {
   "cell_type": "code",
   "execution_count": 228,
   "metadata": {},
   "outputs": [
    {
     "data": {
      "text/plain": [
       "((2, 4), (4, 2))"
      ]
     },
     "execution_count": 228,
     "metadata": {},
     "output_type": "execute_result"
    }
   ],
   "source": [
    "a.shape, A.dot(b).shape"
   ]
  },
  {
   "cell_type": "code",
   "execution_count": 234,
   "metadata": {},
   "outputs": [
    {
     "data": {
      "text/plain": [
       "array([ -65, -425])"
      ]
     },
     "execution_count": 234,
     "metadata": {},
     "output_type": "execute_result"
    }
   ],
   "source": [
    "np.einsum('ij,ji->i', a, A.dot(b)) # I think this is the result we want"
   ]
  },
  {
   "cell_type": "code",
   "execution_count": 240,
   "metadata": {},
   "outputs": [
    {
     "data": {
      "text/plain": [
       "array([ -65, -425])"
      ]
     },
     "execution_count": 240,
     "metadata": {},
     "output_type": "execute_result"
    }
   ],
   "source": [
    "# Einsum from the beginning?\n",
    "np.einsum('ij, jk, ki->i', a, A, b)"
   ]
  },
  {
   "cell_type": "code",
   "execution_count": 242,
   "metadata": {},
   "outputs": [
    {
     "data": {
      "text/plain": [
       "array([[-425]])"
      ]
     },
     "execution_count": 242,
     "metadata": {},
     "output_type": "execute_result"
    }
   ],
   "source": [
    "# Confirm with dot and single vectors:\n",
    "a = np.array([[5, 6, 7, 8],\n",
    "             ])\n",
    "b = np.array([[-5, -6, -7, -8],\n",
    "             ]).T\n",
    "a.dot(A.dot(b))"
   ]
  },
  {
   "cell_type": "markdown",
   "metadata": {},
   "source": [
    "## try einsum on the data another axis"
   ]
  },
  {
   "cell_type": "code",
   "execution_count": 243,
   "metadata": {},
   "outputs": [],
   "source": [
    "kx, ky, Kx, Ky, E, Psi, Omega, Mu = get_bands(Nkx=2, Nky=3, Delta=0.02, delta=0.02)"
   ]
  },
  {
   "cell_type": "code",
   "execution_count": 244,
   "metadata": {},
   "outputs": [
    {
     "data": {
      "text/plain": [
       "((4, 3, 2), (4, 4, 3, 2))"
      ]
     },
     "execution_count": 244,
     "metadata": {},
     "output_type": "execute_result"
    }
   ],
   "source": [
    "E.shape, Psi.shape"
   ]
  },
  {
   "cell_type": "code",
   "execution_count": 245,
   "metadata": {},
   "outputs": [],
   "source": [
    "Omega = np.empty_like(E)\n",
    "Mu = np.empty_like(E)"
   ]
  },
  {
   "cell_type": "code",
   "execution_count": 246,
   "metadata": {},
   "outputs": [],
   "source": [
    "from blg_strain.hamiltonian import H_dkx, H_dky"
   ]
  },
  {
   "cell_type": "code",
   "execution_count": 247,
   "metadata": {},
   "outputs": [
    {
     "data": {
      "text/plain": [
       "(4, 4)"
      ]
     },
     "execution_count": 247,
     "metadata": {},
     "output_type": "execute_result"
    }
   ],
   "source": [
    "xi = 1\n",
    "hdkx, hdky = H_dkx(xi), H_dky()\n",
    "hdkx.shape"
   ]
  },
  {
   "cell_type": "code",
   "execution_count": 250,
   "metadata": {},
   "outputs": [
    {
     "data": {
      "text/plain": [
       "((3, 2), (4, 3, 2))"
      ]
     },
     "execution_count": 250,
     "metadata": {},
     "output_type": "execute_result"
    }
   ],
   "source": [
    "for n, (e_n, psi_n) in enumerate(zip(E, Psi)):\n",
    "    for e_m, psi_m in zip(E, Psi):\n",
    "        pass\n",
    "e_n.shape, psi_n.shape"
   ]
  },
  {
   "cell_type": "code",
   "execution_count": 253,
   "metadata": {},
   "outputs": [
    {
     "data": {
      "text/plain": [
       "(3, 2)"
      ]
     },
     "execution_count": 253,
     "metadata": {},
     "output_type": "execute_result"
    }
   ],
   "source": [
    "M = np.einsum('ijk,il,ljk->jk', psi_n, hdkx, psi_m)\n",
    "M.shape"
   ]
  },
  {
   "cell_type": "markdown",
   "metadata": {},
   "source": [
    "Cool! Did this work? Let's confirm by looping."
   ]
  },
  {
   "cell_type": "code",
   "execution_count": 256,
   "metadata": {},
   "outputs": [
    {
     "data": {
      "text/plain": [
       "(4, 4, 3, 2)"
      ]
     },
     "execution_count": 256,
     "metadata": {},
     "output_type": "execute_result"
    }
   ],
   "source": [
    "Psi.shape"
   ]
  },
  {
   "cell_type": "code",
   "execution_count": 283,
   "metadata": {},
   "outputs": [],
   "source": [
    "M2 = np.empty_like(E[0], dtype='complex')\n",
    "\n",
    "for n, (e_n, psi_n) in enumerate(zip(E, Psi)):\n",
    "    for e_m, psi_m in zip(E, Psi):\n",
    "        pass\n",
    "\n",
    "\n",
    "    \n",
    "for i in range(Psi.shape[2]):\n",
    "    for j in range(Psi.shape[3]):\n",
    "        pn = psi_n[:, i, j].reshape(1,4)\n",
    "        pm = psi_m[:, i, j].reshape(4,1)\n",
    "        M2[i, j] = pn.dot(hdkx.dot(pm))[0,0]"
   ]
  },
  {
   "cell_type": "code",
   "execution_count": 285,
   "metadata": {},
   "outputs": [
    {
     "data": {
      "text/plain": [
       "(array([[ 4.84248577e-11-3.52758662e-10j,  4.50331710e-11-4.26387445e-10j],\n",
       "        [-4.58073488e-10+0.00000000e+00j,  5.11119908e-10+0.00000000e+00j],\n",
       "        [ 4.84248577e-11+3.52758662e-10j,  4.50331710e-11+4.26387445e-10j]]),\n",
       " array([[ 4.84248577e-11-3.52758662e-10j,  4.50331710e-11-4.26387445e-10j],\n",
       "        [-4.58073488e-10+0.00000000e+00j,  5.11119908e-10+0.00000000e+00j],\n",
       "        [ 4.84248577e-11+3.52758662e-10j,  4.50331710e-11+4.26387445e-10j]]))"
      ]
     },
     "execution_count": 285,
     "metadata": {},
     "output_type": "execute_result"
    }
   ],
   "source": [
    "M, M2"
   ]
  },
  {
   "cell_type": "markdown",
   "metadata": {},
   "source": [
    "# Berry curvature and magnetic moment"
   ]
  },
  {
   "cell_type": "code",
   "execution_count": 1,
   "metadata": {},
   "outputs": [],
   "source": [
    "from blg_strain.bands import get_bands"
   ]
  },
  {
   "cell_type": "code",
   "execution_count": 5,
   "metadata": {},
   "outputs": [],
   "source": [
    "kx, ky, Kx, Ky, E, Psi, Omega, Mu = get_bands(Nkx=200, Nky=200, Delta=0.02, delta=0.02)"
   ]
  },
  {
   "cell_type": "code",
   "execution_count": 4,
   "metadata": {},
   "outputs": [],
   "source": [
    "from blg_strain.berry import berry_mu"
   ]
  },
  {
   "cell_type": "code",
   "execution_count": 5,
   "metadata": {},
   "outputs": [],
   "source": [
    "Omega, Mu = berry_mu(E, Psi)"
   ]
  },
  {
   "cell_type": "code",
   "execution_count": 6,
   "metadata": {},
   "outputs": [
    {
     "data": {
      "text/plain": [
       "<matplotlib.collections.QuadMesh at 0x26cce7c6608>"
      ]
     },
     "execution_count": 6,
     "metadata": {},
     "output_type": "execute_result"
    },
    {
     "data": {
      "image/png": "[encoded data removed]",
      "text/plain": [
       "<Figure size 432x288 with 1 Axes>"
      ]
     },
     "metadata": {
      "needs_background": "light"
     },
     "output_type": "display_data"
    }
   ],
   "source": [
    "fig, ax = plt.subplots()\n",
    "ax.pcolormesh(Kx, Ky, Mu[1], cmap='coolwarm')"
   ]
  },
  {
   "cell_type": "code",
   "execution_count": 3,
   "metadata": {},
   "outputs": [],
   "source": [
    "from blg_strain.utils.plotting import plot_bands"
   ]
  },
  {
   "cell_type": "code",
   "execution_count": 6,
   "metadata": {},
   "outputs": [
    {
     "data": {
      "text/plain": [
       "(<Figure size 720x180 with 4 Axes>,\n",
       " array([<matplotlib.axes._subplots.AxesSubplot object at 0x0000019BD35DB7C8>,\n",
       "        <matplotlib.axes._subplots.AxesSubplot object at 0x0000019BD1991208>,\n",
       "        <matplotlib.axes._subplots.AxesSubplot object at 0x0000019BD19C9188>,\n",
       "        <matplotlib.axes._subplots.AxesSubplot object at 0x0000019BD1A02388>],\n",
       "       dtype=object))"
      ]
     },
     "execution_count": 6,
     "metadata": {},
     "output_type": "execute_result"
    },
    {
     "data": {
      "image/png": "[encoded data removed]",
      "text/plain": [
       "<Figure size 720x180 with 4 Axes>"
      ]
     },
     "metadata": {},
     "output_type": "display_data"
    }
   ],
   "source": [
    "plot_bands(Kx, Ky, E)"
   ]
  },
  {
   "cell_type": "markdown",
   "metadata": {},
   "source": [
    "# Microscopic"
   ]
  },
  {
   "cell_type": "code",
   "execution_count": 7,
   "metadata": {},
   "outputs": [],
   "source": [
    "from blg_strain.microscopic import feq_func, meff_func"
   ]
  },
  {
   "cell_type": "code",
   "execution_count": 8,
   "metadata": {},
   "outputs": [
    {
     "data": {
      "text/plain": [
       "array([1., 0.])"
      ]
     },
     "execution_count": 8,
     "metadata": {},
     "output_type": "execute_result"
    }
   ],
   "source": [
    "feq_func(np.array([0,1]), 0.5, 0)"
   ]
  },
  {
   "cell_type": "code",
   "execution_count": 9,
   "metadata": {},
   "outputs": [
    {
     "data": {
      "text/plain": [
       "(4, 1000, 1000, 2, 2)"
      ]
     },
     "execution_count": 9,
     "metadata": {},
     "output_type": "execute_result"
    }
   ],
   "source": [
    "meff = meff_func(kx, ky, E)\n",
    "meff.shape"
   ]
  },
  {
   "cell_type": "code",
   "execution_count": 10,
   "metadata": {},
   "outputs": [
    {
     "data": {
      "text/plain": [
       "<matplotlib.collections.QuadMesh at 0x26cce865388>"
      ]
     },
     "execution_count": 10,
     "metadata": {},
     "output_type": "execute_result"
    },
    {
     "data": {
      "image/png": "[encoded data removed]",
      "text/plain": [
       "<Figure size 432x288 with 1 Axes>"
      ]
     },
     "metadata": {
      "needs_background": "light"
     },
     "output_type": "display_data"
    }
   ],
   "source": [
    "fig, ax = plt.subplots()\n",
    "ax.pcolormesh(Kx, Ky, meff[2, :, :, 0, 0], cmap='coolwarm', vmin=-1, vmax=1)"
   ]
  },
  {
   "cell_type": "code",
   "execution_count": 11,
   "metadata": {},
   "outputs": [],
   "source": [
    "from blg_strain.macroscopic import n_func"
   ]
  },
  {
   "cell_type": "code",
   "execution_count": 12,
   "metadata": {},
   "outputs": [
    {
     "name": "stdout",
     "output_type": "stream",
     "text": [
      "cond 1\n",
      "cond2\n",
      "cond2\n",
      "cond 1\n"
     ]
    },
    {
     "data": {
      "text/plain": [
       "(4016857041474168.5, 4016857041474168.5)"
      ]
     },
     "execution_count": 12,
     "metadata": {},
     "output_type": "execute_result"
    }
   ],
   "source": [
    "EF,T = 0.02000, 0\n",
    "n_func(kx, ky, E, Psi, EF, T=T, layer=1), n_func(kx, ky, E, Psi, EF, T=T, layer=2)"
   ]
  },
  {
   "cell_type": "code",
   "execution_count": null,
   "metadata": {},
   "outputs": [],
   "source": []
  },
  {
   "cell_type": "code",
   "execution_count": 32,
   "metadata": {},
   "outputs": [
    {
     "data": {
      "text/plain": [
       "array([[[ 1,  5,  9],\n",
       "        [ 3,  7, 11]],\n",
       "\n",
       "       [[ 2,  6, 10],\n",
       "        [ 4,  8, 12]]])"
      ]
     },
     "execution_count": 32,
     "metadata": {},
     "output_type": "execute_result"
    }
   ],
   "source": [
    "A.T"
   ]
  }
 ],
 "metadata": {
  "kernelspec": {
   "display_name": "Python 3",
   "language": "python",
   "name": "python3"
  },
  "language_info": {
   "codemirror_mode": {
    "name": "ipython",
    "version": 3
   },
   "file_extension": ".py",
   "mimetype": "text/x-python",
   "name": "python",
   "nbconvert_exporter": "python",
   "pygments_lexer": "ipython3",
   "version": "3.7.4"
  }
 },
 "nbformat": 4,
 "nbformat_minor": 2
}
